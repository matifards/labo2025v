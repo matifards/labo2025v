{
  "nbformat": 4,
  "nbformat_minor": 0,
  "metadata": {
    "colab": {
      "provenance": [],
      "include_colab_link": true
    },
    "kernelspec": {
      "name": "ir",
      "display_name": "R"
    },
    "language_info": {
      "name": "R"
    }
  },
  "cells": [
    {
      "cell_type": "markdown",
      "metadata": {
        "id": "view-in-github",
        "colab_type": "text"
      },
      "source": [
        "<a href=\"https://colab.research.google.com/github/matifards/labo2025v/blob/main/src/rpart/290_TareaHogar_02.ipynb\" target=\"_parent\"><img src=\"https://colab.research.google.com/assets/colab-badge.svg\" alt=\"Open In Colab\"/></a>"
      ]
    },
    {
      "cell_type": "markdown",
      "source": [
        "# Tarea para el Hogar 02"
      ],
      "metadata": {
        "id": "F3r8aa3pBigj"
      }
    },
    {
      "cell_type": "markdown",
      "source": [
        "Esta Tarea para el Hogar 02 se entrega el final de la segunda clase\n",
        "<br> se espera de usted que intente avanzar con los desafios propuestos y que los traiga terminados para la Clase 03, ya que se analizarán los resultados"
      ],
      "metadata": {
        "id": "nBm4ktHUBmZt"
      }
    },
    {
      "cell_type": "markdown",
      "source": [
        "##  1. Ensembles de Modelos"
      ],
      "metadata": {
        "id": "TK-M04ElCESC"
      }
    },
    {
      "cell_type": "markdown",
      "source": [
        "Vea el siguiente video [BBC - The Code - The Wisdom of the Crowd](https://www.youtube.com/watch?v=iOucwX7Z1HU)    ( 5 min)\n"
      ],
      "metadata": {
        "id": "biPYxgobCOSS"
      }
    },
    {
      "cell_type": "markdown",
      "source": [
        "Lea los siguientes artículos\n",
        "\n",
        "\n",
        "*   [The Wisdom of Crowds (Vox Populi) by Francis Galton](https://www.all-about-psychology.com/the-wisdom-of-crowds.html)  (10 min)\n",
        "*   [A Gentle Introduction to Ensemble Learning](https://machinelearningmastery.com/what-is-ensemble-learning/)  (10 min)\n",
        "\n"
      ],
      "metadata": {
        "id": "FBszBRyNCcjp"
      }
    },
    {
      "cell_type": "markdown",
      "source": [
        "\n",
        "\n",
        "---\n",
        "\n"
      ],
      "metadata": {
        "id": "x7SebtV2lpHQ"
      }
    },
    {
      "cell_type": "markdown",
      "source": [
        "##  2.  Zero2Hero   primera parte\n",
        "Se han lanzado los primeros fascículos coleccionables llamados \"from Zero to Hero\" que muy detalladamente, paso a paso enseñan todo lo necesario de R para entender los scripts oficiales de la asignatura.\n",
        "Están en el repositorio oficial de la asignatura, carpeta  **src/zero2hero**"
      ],
      "metadata": {
        "id": "NQcY8u2MDSLT"
      }
    },
    {
      "cell_type": "markdown",
      "source": [
        "\n",
        "\n",
        "---\n",
        "\n"
      ],
      "metadata": {
        "id": "GcO0OSiIEAGy"
      }
    },
    {
      "cell_type": "markdown",
      "source": [
        "## 3.  Grid Search"
      ],
      "metadata": {
        "id": "6MStcyn0EBdT"
      }
    },
    {
      "cell_type": "markdown",
      "source": [
        "Busque en internet el precido significado de los hiperparámetros de la librería **rpart**  que está implementando el algoritmo **CART**  Classification and Regression Trees  propuesto en el año 1984 por Leo Brieman:\n",
        "\n",
        "*   cp\n",
        "*   maxdepth\n",
        "*   minsplit\n",
        "*   minbucket\n",
        "\n",
        "Entienda que valores es razonable tome cada hiperparámetro,  en particular profundice en el hiperparámetro  **cp**  y la posibilidad que tome valores negativos.  Es válido consultar a su amigo de *capacidades especiales*  ChatGPT\n"
      ],
      "metadata": {
        "id": "gM8RKXDgEIY0"
      }
    },
    {
      "cell_type": "markdown",
      "source": [
        "En las siguientes celdas a un notebook incompleto, un esqueleto de codigo brindado a modo de facilitarle la tarea de codeo y permitir que su valiosa cognición se concentre temas conceptuales de Ciencia de Datos\n",
        "\n",
        "Modifiquelo agregando loops para que recorra TODOS los hiperparámetros de rpart  < cp, maxdepth, minsplit, minbucket >, y luego póngalo a correr. Recuerde cambiar por SU semilla\n",
        "Tenga muy presente la granularidad que eligirá para cada hiperparámetro."
      ],
      "metadata": {
        "id": "_k7eT3HIFy9y"
      }
    },
    {
      "cell_type": "markdown",
      "source": [
        "### Seteo del ambiente en Google Colab"
      ],
      "metadata": {
        "id": "kmLygy1TYPfg"
      }
    },
    {
      "cell_type": "markdown",
      "source": [
        "Esta parte se debe correr con el runtime en Python3\n",
        "<br>Ir al menu, Runtime -> Change Runtime Tipe -> Runtime type ->  **Python 3**"
      ],
      "metadata": {
        "id": "OikOm5K2YU3X"
      }
    },
    {
      "cell_type": "markdown",
      "source": [
        "Conectar la virtual machine donde esta corriendo Google Colab con el  Google Drive, para poder tener persistencia de archivos"
      ],
      "metadata": {
        "id": "4fmV5LyZdFyI"
      }
    },
    {
      "cell_type": "code",
      "source": [
        "# primero establecer el Runtime de Python 3\n",
        "from google.colab import drive\n",
        "drive.mount('/content/.drive')"
      ],
      "metadata": {
        "id": "ilEZ-bE2VybW",
        "outputId": "ef05b118-9b91-49e9-b52f-80a290a380e3",
        "colab": {
          "base_uri": "https://localhost:8080/"
        }
      },
      "execution_count": 1,
      "outputs": [
        {
          "output_type": "stream",
          "name": "stdout",
          "text": [
            "Mounted at /content/.drive\n"
          ]
        }
      ]
    },
    {
      "cell_type": "markdown",
      "source": [
        "Para correr la siguiente celda es fundamental en Arranque en Frio haber copiado el archivo kaggle.json al Google Drive, en la carpeta indicada en el instructivo\n",
        "\n",
        "<br>los siguientes comando estan en shell script de Linux\n",
        "*   Crear las carpetas en el Google Drive\n",
        "*   \"instalar\" el archivo kaggle.json desde el Google Drive a la virtual machine para que pueda ser utilizado por la libreria  kaggle de Python\n",
        "*   Bajar el  **dataset_pequeno**  al  Google Drive  y tambien al disco local de la virtual machine que esta corriendo Google Colab\n",
        "\n"
      ],
      "metadata": {
        "id": "ilaKtqWldeWg"
      }
    },
    {
      "cell_type": "code",
      "source": [
        "%%shell\n",
        "\n",
        "mkdir -p \"/content/.drive/My Drive/labo1\"\n",
        "mkdir -p \"/content/buckets\"\n",
        "ln -s \"/content/.drive/My Drive/labo1\" /content/buckets/b1\n",
        "\n",
        "mkdir -p ~/.kaggle\n",
        "cp /content/buckets/b1/kaggle/kaggle.json  ~/.kaggle\n",
        "chmod 600 ~/.kaggle/kaggle.json\n",
        "\n",
        "\n",
        "mkdir -p /content/buckets/b1/exp\n",
        "mkdir -p /content/buckets/b1/datasets\n",
        "mkdir -p /content/datasets\n",
        "\n",
        "\n",
        "\n",
        "archivo_origen=\"https://storage.googleapis.com/open-courses/austral2025-af91/dataset_pequeno.csv\"\n",
        "archivo_destino=\"/content/datasets/dataset_pequeno.csv\"\n",
        "archivo_destino_bucket=\"/content/buckets/b1/datasets/dataset_pequeno.csv\"\n",
        "\n",
        "if ! test -f $archivo_destino_bucket; then\n",
        "  wget  $archivo_origen  -O $archivo_destino_bucket\n",
        "fi\n",
        "\n",
        "\n",
        "if ! test -f $archivo_destino; then\n",
        "  cp  $archivo_destino_bucket  $archivo_destino\n",
        "fi\n",
        "\n"
      ],
      "metadata": {
        "id": "W8dQFI5QYCFa",
        "outputId": "de934d0e-ab40-46d3-eb69-f9957cdb69d1",
        "colab": {
          "base_uri": "https://localhost:8080/"
        }
      },
      "execution_count": 2,
      "outputs": [
        {
          "output_type": "execute_result",
          "data": {
            "text/plain": []
          },
          "metadata": {},
          "execution_count": 2
        }
      ]
    },
    {
      "cell_type": "markdown",
      "source": [
        "limpio el ambiente de R"
      ],
      "metadata": {
        "id": "SE94XRhWsxkX"
      }
    },
    {
      "cell_type": "code",
      "source": [
        "# limpio la memoria\n",
        "rm(list=ls(all.names=TRUE)) # remove all objects\n",
        "gc(full=TRUE, verbose=FALSE) # garbage collection"
      ],
      "metadata": {
        "id": "oZG_4br6szlT",
        "outputId": "4ff0ac68-bb9b-4f0d-caa8-40d5574cc92f",
        "colab": {
          "base_uri": "https://localhost:8080/",
          "height": 129
        }
      },
      "execution_count": 1,
      "outputs": [
        {
          "output_type": "display_data",
          "data": {
            "text/html": [
              "<table class=\"dataframe\">\n",
              "<caption>A matrix: 2 × 6 of type dbl</caption>\n",
              "<thead>\n",
              "\t<tr><th></th><th scope=col>used</th><th scope=col>(Mb)</th><th scope=col>gc trigger</th><th scope=col>(Mb)</th><th scope=col>max used</th><th scope=col>(Mb)</th></tr>\n",
              "</thead>\n",
              "<tbody>\n",
              "\t<tr><th scope=row>Ncells</th><td> 657245</td><td>35.2</td><td>1454471</td><td>77.7</td><td>1326124</td><td>70.9</td></tr>\n",
              "\t<tr><th scope=row>Vcells</th><td>1220272</td><td> 9.4</td><td>8388608</td><td>64.0</td><td>1975127</td><td>15.1</td></tr>\n",
              "</tbody>\n",
              "</table>\n"
            ],
            "text/markdown": "\nA matrix: 2 × 6 of type dbl\n\n| <!--/--> | used | (Mb) | gc trigger | (Mb) | max used | (Mb) |\n|---|---|---|---|---|---|---|\n| Ncells |  657245 | 35.2 | 1454471 | 77.7 | 1326124 | 70.9 |\n| Vcells | 1220272 |  9.4 | 8388608 | 64.0 | 1975127 | 15.1 |\n\n",
            "text/latex": "A matrix: 2 × 6 of type dbl\n\\begin{tabular}{r|llllll}\n  & used & (Mb) & gc trigger & (Mb) & max used & (Mb)\\\\\n\\hline\n\tNcells &  657245 & 35.2 & 1454471 & 77.7 & 1326124 & 70.9\\\\\n\tVcells & 1220272 &  9.4 & 8388608 & 64.0 & 1975127 & 15.1\\\\\n\\end{tabular}\n",
            "text/plain": [
              "       used    (Mb) gc trigger (Mb) max used (Mb)\n",
              "Ncells  657245 35.2 1454471    77.7 1326124  70.9\n",
              "Vcells 1220272  9.4 8388608    64.0 1975127  15.1"
            ]
          },
          "metadata": {}
        }
      ]
    },
    {
      "cell_type": "code",
      "source": [
        "# cargo las librerias que necesito\n",
        "require(\"data.table\")\n",
        "require(\"rpart\")\n",
        "require(\"parallel\")\n",
        "if (!require(\"primes\")) install.packages(\"primes\")\n",
        "require(\"primes\")"
      ],
      "metadata": {
        "id": "JO-12d7YHkWy",
        "outputId": "461f7da2-1b89-4919-c567-840da9b380f2",
        "colab": {
          "base_uri": "https://localhost:8080/"
        }
      },
      "execution_count": 3,
      "outputs": [
        {
          "output_type": "stream",
          "name": "stderr",
          "text": [
            "Loading required package: data.table\n",
            "\n",
            "Loading required package: rpart\n",
            "\n",
            "Loading required package: parallel\n",
            "\n",
            "Loading required package: primes\n",
            "\n",
            "Warning message in library(package, lib.loc = lib.loc, character.only = TRUE, logical.return = TRUE, :\n",
            "“there is no package called ‘primes’”\n",
            "Installing package into ‘/usr/local/lib/R/site-library’\n",
            "(as ‘lib’ is unspecified)\n",
            "\n",
            "Loading required package: primes\n",
            "\n"
          ]
        }
      ]
    },
    {
      "cell_type": "markdown",
      "source": [
        "Aqui debe poner SU semiila primigenia"
      ],
      "metadata": {
        "id": "0MclPEJ6Q8Bp"
      }
    },
    {
      "cell_type": "code",
      "source": [
        "PARAM <- list()\n",
        "# reemplazar por su primer semilla\n",
        "PARAM$semilla_primigenia <- 540347\n",
        "PARAM$qsemillas <- 1\n",
        "\n",
        "PARAM$training_pct <- 70L  # entre  1L y 99L\n",
        "\n",
        "# elegir SU dataset comentando/ descomentando\n",
        "PARAM$dataset_nom <- \"~/datasets/dataset_pequeno.csv\""
      ],
      "metadata": {
        "id": "Vt5fC6bWHu5r"
      },
      "execution_count": 5,
      "outputs": []
    },
    {
      "cell_type": "code",
      "source": [
        "# particionar agrega una columna llamada fold a un dataset\n",
        "#  que consiste en una particion estratificada segun agrupa\n",
        "# particionar( data=dataset, division=c(70,30), agrupa=clase_ternaria, seed=semilla)\n",
        "#   crea una particion 70, 30\n",
        "\n",
        "particionar <- function(data, division, agrupa = \"\", campo = \"fold\", start = 1, seed = NA) {\n",
        "  if (!is.na(seed)) set.seed(seed)\n",
        "\n",
        "  bloque <- unlist(mapply(function(x, y) {\n",
        "    rep(y, x)\n",
        "  }, division, seq(from = start, length.out = length(division))))\n",
        "\n",
        "  data[, (campo) := sample(rep(bloque, ceiling(.N / length(bloque))))[1:.N],\n",
        "    by = agrupa\n",
        "  ]\n",
        "}\n"
      ],
      "metadata": {
        "id": "Z1dchsrWH4MD"
      },
      "execution_count": 6,
      "outputs": []
    },
    {
      "cell_type": "code",
      "source": [
        "ArbolEstimarGanancia <- function(semilla, training_pct, param_basicos) {\n",
        "  # particiono estratificadamente el dataset\n",
        "  particionar(dataset,\n",
        "    division = c(training_pct, 100L -training_pct),\n",
        "    agrupa = \"clase_ternaria\",\n",
        "    seed = semilla # aqui se usa SU semilla\n",
        "  )\n",
        "\n",
        "  # genero el modelo\n",
        "  # predecir clase_ternaria a partir del resto\n",
        "  modelo <- rpart(\"clase_ternaria ~ .\",\n",
        "    data = dataset[fold == 1], # fold==1  es training,  el 70% de los datos\n",
        "    xval = 0,\n",
        "    control = param_basicos\n",
        "  ) # aqui van los parametros del arbol\n",
        "\n",
        "  # aplico el modelo a los datos de testing\n",
        "  prediccion <- predict(modelo, # el modelo que genere recien\n",
        "    dataset[fold == 2], # fold==2  es testing, el 30% de los datos\n",
        "    type = \"prob\"\n",
        "  ) # type= \"prob\"  es que devuelva la probabilidad\n",
        "\n",
        "  # prediccion es una matriz con TRES columnas,\n",
        "  #  llamadas \"BAJA+1\", \"BAJA+2\"  y \"CONTINUA\"\n",
        "  # cada columna es el vector de probabilidades\n",
        "\n",
        "\n",
        "  # calculo la ganancia en testing  qu es fold==2\n",
        "  ganancia_test <- dataset[\n",
        "    fold == 2,\n",
        "    sum(ifelse(prediccion[, \"BAJA+2\"] > 0.025,\n",
        "      ifelse(clase_ternaria == \"BAJA+2\", 117000, -3000),\n",
        "      0\n",
        "    ))\n",
        "  ]\n",
        "\n",
        "  # escalo la ganancia como si fuera todo el dataset\n",
        "  ganancia_test_normalizada <- ganancia_test / (( 100 - PARAM$training_pct ) / 100 )\n",
        "\n",
        "  return(\n",
        "    c( list(\"semilla\" = semilla),\n",
        "      param_basicos,\n",
        "      list( \"ganancia_test\" = ganancia_test_normalizada )\n",
        "     )\n",
        "  )\n",
        "}\n"
      ],
      "metadata": {
        "id": "xsHwS1CzIA70"
      },
      "execution_count": 7,
      "outputs": []
    },
    {
      "cell_type": "code",
      "source": [
        "ArbolesMontecarlo <- function(semillas, param_basicos) {\n",
        "\n",
        "  # la funcion mcmapply  llama a la funcion ArbolEstimarGanancia\n",
        "  #  tantas veces como valores tenga el vector  PARAM$semillas\n",
        "  salida <- mcmapply(ArbolEstimarGanancia,\n",
        "    semillas, # paso el vector de semillas\n",
        "    MoreArgs = list(PARAM$training_pct, param_basicos), # aqui paso el segundo parametro\n",
        "    SIMPLIFY = FALSE,\n",
        "    mc.cores = detectCores()\n",
        "  )\n",
        "\n",
        "  return(salida)\n",
        "}\n"
      ],
      "metadata": {
        "id": "BvBVOuhqIEjD"
      },
      "execution_count": 8,
      "outputs": []
    },
    {
      "cell_type": "code",
      "source": [
        "# carpeta de trabajo\n",
        "# por fabor cambiar numero de experimento si se cambia el loop principal\n",
        "setwd(\"/content/buckets/b1/exp\")\n",
        "experimento <- \"HT2900\"\n",
        "dir.create(experimento, showWarnings=FALSE)\n",
        "setwd( paste0(\"/content/buckets/b1/exp/\", experimento ))"
      ],
      "metadata": {
        "id": "L-DOGHOjIG7G",
        "outputId": "5dfba461-18ba-413b-fe58-553852058118",
        "colab": {
          "base_uri": "https://localhost:8080/",
          "height": 238
        }
      },
      "execution_count": 9,
      "outputs": [
        {
          "output_type": "error",
          "ename": "ERROR",
          "evalue": "Error in setwd(\"/content/buckets/b1/exp\"): cannot change working directory\n",
          "traceback": [
            "Error in setwd(\"/content/buckets/b1/exp\"): cannot change working directory\nTraceback:\n",
            "1. .handleSimpleError(function (cnd) \n . {\n .     watcher$capture_plot_and_output()\n .     cnd <- sanitize_call(cnd)\n .     watcher$push(cnd)\n .     switch(on_error, continue = invokeRestart(\"eval_continue\"), \n .         stop = invokeRestart(\"eval_stop\"), error = NULL)\n . }, \"cannot change working directory\", base::quote(setwd(\"/content/buckets/b1/exp\")))"
          ]
        }
      ]
    },
    {
      "cell_type": "code",
      "source": [
        "# lectura del dataset\n",
        "dataset <- fread(\"/content/datasets/dataset_pequeno.csv\")\n",
        "\n",
        "# trabajo solo con los datos con clase, es decir 202107\n",
        "dataset <- dataset[clase_ternaria != \"\"]"
      ],
      "metadata": {
        "id": "NM-mrLWcIPo6"
      },
      "execution_count": 8,
      "outputs": []
    },
    {
      "cell_type": "code",
      "source": [
        "\n",
        "# genero numeros primos\n",
        "primos <- generate_primes(min = 100000, max = 1000000)\n",
        "set.seed(PARAM$semilla_primigenia) # inicializo\n",
        "# me quedo con PARAM$qsemillas   semillas\n",
        "PARAM$semillas <- sample(primos, PARAM$qsemillas )\n"
      ],
      "metadata": {
        "id": "tSlY0EcgIWdi"
      },
      "execution_count": 9,
      "outputs": []
    },
    {
      "cell_type": "code",
      "source": [
        "# genero la data.table donde van los resultados detallados del Grid Search\n",
        "# un registro para cada combinacion de < semilla, parametros >\n",
        "\n",
        "if(file.exists(\"gridsearch_detalle.txt\")){\n",
        "  tb_grid_search_detalle <- fread(\"gridsearch_detalle.txt\")\n",
        "}else{\n",
        "  tb_grid_search_detalle <- data.table(\n",
        "    semilla = integer(),\n",
        "    cp = numeric(),\n",
        "    maxdepth = integer(),\n",
        "   minsplit = integer(),\n",
        "    minbucket = integer(),\n",
        "    ganancia_test = numeric()\n",
        "  )\n",
        "}\n",
        "\n",
        "nrow( tb_grid_search_detalle )"
      ],
      "metadata": {
        "id": "xxCAwIKyIaTl",
        "outputId": "74f1098e-8f9d-4074-87c6-d226f9575cf2",
        "colab": {
          "base_uri": "https://localhost:8080/",
          "height": 34
        }
      },
      "execution_count": 10,
      "outputs": [
        {
          "output_type": "display_data",
          "data": {
            "text/html": [
              "0"
            ],
            "text/markdown": "0",
            "text/latex": "0",
            "text/plain": [
              "[1] 0"
            ]
          },
          "metadata": {}
        }
      ]
    },
    {
      "cell_type": "markdown",
      "source": [
        "Esta es la parte del código que usted debe expandir a TODOS los hiperparámetros de rpart,\n",
        "<br>ya que actualmente apenas recorre  maxdepth y  minsplit  dejando fijos  cp=-0.5  y minbucket=5"
      ],
      "metadata": {
        "id": "eAuGBNL8IkOD"
      }
    },
    {
      "cell_type": "code",
      "source": [
        "\n",
        "# itero por los loops anidados para cada hiperparametro\n",
        "iter <- 0\n",
        "\n",
        "# c(4, 6, 8, 10, 12, 14)\n",
        "# c(1000, 800, 600, 400, 200, 100, 50, 20, 10)   7    600   200\n",
        "\n",
        "for (vmax_depth in c(10, 11)) {\n",
        "  for (vmin_split in c(580, 590, 610, 630)) {\n",
        "    # notar como se agrega\n",
        "    for (cp_iter in c(-0.5)) {\n",
        "      for (min_bucket in c(10, 20, 30, 40, 50)) {\n",
        "\n",
        "        iter <- iter + 1\n",
        "        cat( iter, \" \" )\n",
        "        flush.console()\n",
        "        if( iter*PARAM$qsemillas < nrow(tb_grid_search_detalle)+1 ) next\n",
        "\n",
        "        # vminsplit  minima cantidad de registros en un nodo para hacer el split\n",
        "        param_basicos <- list(\n",
        "          \"cp\" = cp_iter, # complejidad minima\n",
        "          \"maxdepth\" = vmax_depth, # profundidad máxima del arbol\n",
        "          \"minsplit\" = vmin_split, # tamaño minimo de nodo para hacer split\n",
        "          \"minbucket\" = min_bucket # minima cantidad de registros en una hoja\n",
        "        )\n",
        "\n",
        "        # Un solo llamado, con la semilla 17\n",
        "        ganancias <- ArbolesMontecarlo(PARAM$semillas, param_basicos)\n",
        "\n",
        "        # agrego a la tabla\n",
        "        tb_grid_search_detalle <- rbindlist(\n",
        "        list( tb_grid_search_detalle,\n",
        "              rbindlist(ganancias) )\n",
        "        )\n",
        "      }\n",
        "    }\n",
        "  }\n",
        "\n",
        "  # grabo cada vez TODA la tabla en el loop mas externo\n",
        "  fwrite( tb_grid_search_detalle,\n",
        "          file = \"gridsearch_detalle.txt\",\n",
        "          sep = \"\\t\" )\n",
        "}\n"
      ],
      "metadata": {
        "id": "ipLHm3STIfmb",
        "outputId": "9c1735c4-3b40-4cfb-96a1-683f457ae882",
        "colab": {
          "base_uri": "https://localhost:8080/"
        }
      },
      "execution_count": 11,
      "outputs": [
        {
          "output_type": "stream",
          "name": "stdout",
          "text": [
            "1  2  3  4  5  6  7  8  9  10  11  12  13  14  15  16  17  18  19  20  21  22  23  24  25  26  27  28  29  30  31  32  33  34  35  36  37  38  39  40  41  42  43  44  45  46  47  48  49  50  51  52  53  54  55  56  57  58  59  60  61  62  63  64  65  66  67  68  69  70  71  72  73  74  75  76  77  78  79  80  81  82  83  84  85  86  87  88  89  90  91  92  93  94  95  96  97  98  99  100  101  102  103  104  105  106  107  108  109  110  111  112  113  114  115  116  117  118  119  120  121  122  123  124  125  126  127  128  129  130  131  132  133  134  135  136  137  138  139  140  141  142  143  144  145  146  147  148  149  150  151  152  153  154  155  156  157  158  159  160  161  162  163  164  165  166  167  168  "
          ]
        }
      ]
    },
    {
      "cell_type": "code",
      "source": [
        "fwrite( tb_grid_search_detalle,\n",
        "   file = \"gridsearch_detalle.txt\",\n",
        "   sep = \"\\t\"\n",
        ")"
      ],
      "metadata": {
        "id": "WZaSqYBxiDFu",
        "outputId": "b0580165-d1f6-4b9a-ef98-6ae63cf833fa",
        "colab": {
          "base_uri": "https://localhost:8080/",
          "height": 256
        }
      },
      "execution_count": 4,
      "outputs": [
        {
          "output_type": "error",
          "ename": "ERROR",
          "evalue": "Error: object 'tb_grid_search_detalle' not found\n",
          "traceback": [
            "Error: object 'tb_grid_search_detalle' not found\nTraceback:\n",
            "1. .handleSimpleError(function (cnd) \n . {\n .     watcher$capture_plot_and_output()\n .     cnd <- sanitize_call(cnd)\n .     watcher$push(cnd)\n .     switch(on_error, continue = invokeRestart(\"eval_continue\"), \n .         stop = invokeRestart(\"eval_stop\"), error = NULL)\n . }, \"object 'tb_grid_search_detalle' not found\", base::quote(eval(expr, \n .     envir)))"
          ]
        }
      ]
    },
    {
      "cell_type": "code",
      "source": [
        "# cantidad de registros de la tabla\n",
        "nrow(tb_grid_search_detalle)"
      ],
      "metadata": {
        "id": "STp0duM-RYVJ",
        "outputId": "176e8943-4f53-4ed8-a65d-3f65a4db2b4c",
        "colab": {
          "base_uri": "https://localhost:8080/",
          "height": 34
        }
      },
      "execution_count": 13,
      "outputs": [
        {
          "output_type": "display_data",
          "data": {
            "text/html": [
              "168"
            ],
            "text/markdown": "168",
            "text/latex": "168",
            "text/plain": [
              "[1] 168"
            ]
          },
          "metadata": {}
        }
      ]
    },
    {
      "cell_type": "code",
      "source": [
        "# muestro la tabla\n",
        "tb_grid_search_detalle"
      ],
      "metadata": {
        "id": "k7fhk_H0iNez",
        "outputId": "db05e41f-81b2-493d-baa8-952e52eb830f",
        "colab": {
          "base_uri": "https://localhost:8080/",
          "height": 1000
        }
      },
      "execution_count": 14,
      "outputs": [
        {
          "output_type": "display_data",
          "data": {
            "text/html": [
              "<table class=\"dataframe\">\n",
              "<caption>A data.table: 168 × 6</caption>\n",
              "<thead>\n",
              "\t<tr><th scope=col>semilla</th><th scope=col>cp</th><th scope=col>maxdepth</th><th scope=col>minsplit</th><th scope=col>minbucket</th><th scope=col>ganancia_test</th></tr>\n",
              "\t<tr><th scope=col>&lt;int&gt;</th><th scope=col>&lt;dbl&gt;</th><th scope=col>&lt;dbl&gt;</th><th scope=col>&lt;dbl&gt;</th><th scope=col>&lt;dbl&gt;</th><th scope=col>&lt;dbl&gt;</th></tr>\n",
              "</thead>\n",
              "<tbody>\n",
              "\t<tr><td>735169</td><td>-0.5</td><td>9</td><td>400</td><td> 50</td><td>45190000</td></tr>\n",
              "\t<tr><td>735169</td><td>-0.5</td><td>9</td><td>400</td><td>150</td><td>47760000</td></tr>\n",
              "\t<tr><td>735169</td><td>-0.5</td><td>9</td><td>400</td><td>250</td><td>48800000</td></tr>\n",
              "\t<tr><td>735169</td><td>-0.5</td><td>9</td><td>400</td><td>350</td><td>49330000</td></tr>\n",
              "\t<tr><td>735169</td><td>-0.5</td><td>9</td><td>400</td><td>450</td><td>48330000</td></tr>\n",
              "\t<tr><td>735169</td><td>-0.5</td><td>9</td><td>400</td><td>700</td><td>45780000</td></tr>\n",
              "\t<tr><td>735169</td><td>-0.5</td><td>9</td><td>500</td><td> 50</td><td>45190000</td></tr>\n",
              "\t<tr><td>735169</td><td>-0.5</td><td>9</td><td>500</td><td>150</td><td>49600000</td></tr>\n",
              "\t<tr><td>735169</td><td>-0.5</td><td>9</td><td>500</td><td>250</td><td>48800000</td></tr>\n",
              "\t<tr><td>735169</td><td>-0.5</td><td>9</td><td>500</td><td>350</td><td>49330000</td></tr>\n",
              "\t<tr><td>735169</td><td>-0.5</td><td>9</td><td>500</td><td>450</td><td>48330000</td></tr>\n",
              "\t<tr><td>735169</td><td>-0.5</td><td>9</td><td>500</td><td>700</td><td>45780000</td></tr>\n",
              "\t<tr><td>735169</td><td>-0.5</td><td>9</td><td>600</td><td> 50</td><td>46590000</td></tr>\n",
              "\t<tr><td>735169</td><td>-0.5</td><td>9</td><td>600</td><td>150</td><td>50180000</td></tr>\n",
              "\t<tr><td>735169</td><td>-0.5</td><td>9</td><td>600</td><td>250</td><td>50370000</td></tr>\n",
              "\t<tr><td>735169</td><td>-0.5</td><td>9</td><td>600</td><td>350</td><td>49330000</td></tr>\n",
              "\t<tr><td>735169</td><td>-0.5</td><td>9</td><td>600</td><td>450</td><td>48330000</td></tr>\n",
              "\t<tr><td>735169</td><td>-0.5</td><td>9</td><td>600</td><td>700</td><td>45780000</td></tr>\n",
              "\t<tr><td>735169</td><td>-0.5</td><td>9</td><td>700</td><td> 50</td><td>47590000</td></tr>\n",
              "\t<tr><td>735169</td><td>-0.5</td><td>9</td><td>700</td><td>150</td><td>50180000</td></tr>\n",
              "\t<tr><td>735169</td><td>-0.5</td><td>9</td><td>700</td><td>250</td><td>49630000</td></tr>\n",
              "\t<tr><td>735169</td><td>-0.5</td><td>9</td><td>700</td><td>350</td><td>49330000</td></tr>\n",
              "\t<tr><td>735169</td><td>-0.5</td><td>9</td><td>700</td><td>450</td><td>48330000</td></tr>\n",
              "\t<tr><td>735169</td><td>-0.5</td><td>9</td><td>700</td><td>700</td><td>45780000</td></tr>\n",
              "\t<tr><td>735169</td><td>-0.5</td><td>9</td><td>800</td><td> 50</td><td>47630000</td></tr>\n",
              "\t<tr><td>735169</td><td>-0.5</td><td>9</td><td>800</td><td>150</td><td>49960000</td></tr>\n",
              "\t<tr><td>735169</td><td>-0.5</td><td>9</td><td>800</td><td>250</td><td>49730000</td></tr>\n",
              "\t<tr><td>735169</td><td>-0.5</td><td>9</td><td>800</td><td>350</td><td>48700000</td></tr>\n",
              "\t<tr><td>735169</td><td>-0.5</td><td>9</td><td>800</td><td>450</td><td>48330000</td></tr>\n",
              "\t<tr><td>735169</td><td>-0.5</td><td>9</td><td>800</td><td>700</td><td>45780000</td></tr>\n",
              "\t<tr><td>⋮</td><td>⋮</td><td>⋮</td><td>⋮</td><td>⋮</td><td>⋮</td></tr>\n",
              "\t<tr><td>735169</td><td>-0.5</td><td>12</td><td> 600</td><td> 50</td><td>45680000</td></tr>\n",
              "\t<tr><td>735169</td><td>-0.5</td><td>12</td><td> 600</td><td>150</td><td>50330000</td></tr>\n",
              "\t<tr><td>735169</td><td>-0.5</td><td>12</td><td> 600</td><td>250</td><td>49320000</td></tr>\n",
              "\t<tr><td>735169</td><td>-0.5</td><td>12</td><td> 600</td><td>350</td><td>49330000</td></tr>\n",
              "\t<tr><td>735169</td><td>-0.5</td><td>12</td><td> 600</td><td>450</td><td>48330000</td></tr>\n",
              "\t<tr><td>735169</td><td>-0.5</td><td>12</td><td> 600</td><td>700</td><td>45780000</td></tr>\n",
              "\t<tr><td>735169</td><td>-0.5</td><td>12</td><td> 700</td><td> 50</td><td>46900000</td></tr>\n",
              "\t<tr><td>735169</td><td>-0.5</td><td>12</td><td> 700</td><td>150</td><td>51490000</td></tr>\n",
              "\t<tr><td>735169</td><td>-0.5</td><td>12</td><td> 700</td><td>250</td><td>48580000</td></tr>\n",
              "\t<tr><td>735169</td><td>-0.5</td><td>12</td><td> 700</td><td>350</td><td>49330000</td></tr>\n",
              "\t<tr><td>735169</td><td>-0.5</td><td>12</td><td> 700</td><td>450</td><td>48330000</td></tr>\n",
              "\t<tr><td>735169</td><td>-0.5</td><td>12</td><td> 700</td><td>700</td><td>45780000</td></tr>\n",
              "\t<tr><td>735169</td><td>-0.5</td><td>12</td><td> 800</td><td> 50</td><td>48060000</td></tr>\n",
              "\t<tr><td>735169</td><td>-0.5</td><td>12</td><td> 800</td><td>150</td><td>49090000</td></tr>\n",
              "\t<tr><td>735169</td><td>-0.5</td><td>12</td><td> 800</td><td>250</td><td>48680000</td></tr>\n",
              "\t<tr><td>735169</td><td>-0.5</td><td>12</td><td> 800</td><td>350</td><td>48700000</td></tr>\n",
              "\t<tr><td>735169</td><td>-0.5</td><td>12</td><td> 800</td><td>450</td><td>48330000</td></tr>\n",
              "\t<tr><td>735169</td><td>-0.5</td><td>12</td><td> 800</td><td>700</td><td>45780000</td></tr>\n",
              "\t<tr><td>735169</td><td>-0.5</td><td>12</td><td> 900</td><td> 50</td><td>47850000</td></tr>\n",
              "\t<tr><td>735169</td><td>-0.5</td><td>12</td><td> 900</td><td>150</td><td>48720000</td></tr>\n",
              "\t<tr><td>735169</td><td>-0.5</td><td>12</td><td> 900</td><td>250</td><td>48140000</td></tr>\n",
              "\t<tr><td>735169</td><td>-0.5</td><td>12</td><td> 900</td><td>350</td><td>48700000</td></tr>\n",
              "\t<tr><td>735169</td><td>-0.5</td><td>12</td><td> 900</td><td>450</td><td>48330000</td></tr>\n",
              "\t<tr><td>735169</td><td>-0.5</td><td>12</td><td> 900</td><td>700</td><td>45780000</td></tr>\n",
              "\t<tr><td>735169</td><td>-0.5</td><td>12</td><td>1000</td><td> 50</td><td>47620000</td></tr>\n",
              "\t<tr><td>735169</td><td>-0.5</td><td>12</td><td>1000</td><td>150</td><td>49530000</td></tr>\n",
              "\t<tr><td>735169</td><td>-0.5</td><td>12</td><td>1000</td><td>250</td><td>48730000</td></tr>\n",
              "\t<tr><td>735169</td><td>-0.5</td><td>12</td><td>1000</td><td>350</td><td>48340000</td></tr>\n",
              "\t<tr><td>735169</td><td>-0.5</td><td>12</td><td>1000</td><td>450</td><td>46830000</td></tr>\n",
              "\t<tr><td>735169</td><td>-0.5</td><td>12</td><td>1000</td><td>700</td><td>45780000</td></tr>\n",
              "</tbody>\n",
              "</table>\n"
            ],
            "text/markdown": "\nA data.table: 168 × 6\n\n| semilla &lt;int&gt; | cp &lt;dbl&gt; | maxdepth &lt;dbl&gt; | minsplit &lt;dbl&gt; | minbucket &lt;dbl&gt; | ganancia_test &lt;dbl&gt; |\n|---|---|---|---|---|---|\n| 735169 | -0.5 | 9 | 400 |  50 | 45190000 |\n| 735169 | -0.5 | 9 | 400 | 150 | 47760000 |\n| 735169 | -0.5 | 9 | 400 | 250 | 48800000 |\n| 735169 | -0.5 | 9 | 400 | 350 | 49330000 |\n| 735169 | -0.5 | 9 | 400 | 450 | 48330000 |\n| 735169 | -0.5 | 9 | 400 | 700 | 45780000 |\n| 735169 | -0.5 | 9 | 500 |  50 | 45190000 |\n| 735169 | -0.5 | 9 | 500 | 150 | 49600000 |\n| 735169 | -0.5 | 9 | 500 | 250 | 48800000 |\n| 735169 | -0.5 | 9 | 500 | 350 | 49330000 |\n| 735169 | -0.5 | 9 | 500 | 450 | 48330000 |\n| 735169 | -0.5 | 9 | 500 | 700 | 45780000 |\n| 735169 | -0.5 | 9 | 600 |  50 | 46590000 |\n| 735169 | -0.5 | 9 | 600 | 150 | 50180000 |\n| 735169 | -0.5 | 9 | 600 | 250 | 50370000 |\n| 735169 | -0.5 | 9 | 600 | 350 | 49330000 |\n| 735169 | -0.5 | 9 | 600 | 450 | 48330000 |\n| 735169 | -0.5 | 9 | 600 | 700 | 45780000 |\n| 735169 | -0.5 | 9 | 700 |  50 | 47590000 |\n| 735169 | -0.5 | 9 | 700 | 150 | 50180000 |\n| 735169 | -0.5 | 9 | 700 | 250 | 49630000 |\n| 735169 | -0.5 | 9 | 700 | 350 | 49330000 |\n| 735169 | -0.5 | 9 | 700 | 450 | 48330000 |\n| 735169 | -0.5 | 9 | 700 | 700 | 45780000 |\n| 735169 | -0.5 | 9 | 800 |  50 | 47630000 |\n| 735169 | -0.5 | 9 | 800 | 150 | 49960000 |\n| 735169 | -0.5 | 9 | 800 | 250 | 49730000 |\n| 735169 | -0.5 | 9 | 800 | 350 | 48700000 |\n| 735169 | -0.5 | 9 | 800 | 450 | 48330000 |\n| 735169 | -0.5 | 9 | 800 | 700 | 45780000 |\n| ⋮ | ⋮ | ⋮ | ⋮ | ⋮ | ⋮ |\n| 735169 | -0.5 | 12 |  600 |  50 | 45680000 |\n| 735169 | -0.5 | 12 |  600 | 150 | 50330000 |\n| 735169 | -0.5 | 12 |  600 | 250 | 49320000 |\n| 735169 | -0.5 | 12 |  600 | 350 | 49330000 |\n| 735169 | -0.5 | 12 |  600 | 450 | 48330000 |\n| 735169 | -0.5 | 12 |  600 | 700 | 45780000 |\n| 735169 | -0.5 | 12 |  700 |  50 | 46900000 |\n| 735169 | -0.5 | 12 |  700 | 150 | 51490000 |\n| 735169 | -0.5 | 12 |  700 | 250 | 48580000 |\n| 735169 | -0.5 | 12 |  700 | 350 | 49330000 |\n| 735169 | -0.5 | 12 |  700 | 450 | 48330000 |\n| 735169 | -0.5 | 12 |  700 | 700 | 45780000 |\n| 735169 | -0.5 | 12 |  800 |  50 | 48060000 |\n| 735169 | -0.5 | 12 |  800 | 150 | 49090000 |\n| 735169 | -0.5 | 12 |  800 | 250 | 48680000 |\n| 735169 | -0.5 | 12 |  800 | 350 | 48700000 |\n| 735169 | -0.5 | 12 |  800 | 450 | 48330000 |\n| 735169 | -0.5 | 12 |  800 | 700 | 45780000 |\n| 735169 | -0.5 | 12 |  900 |  50 | 47850000 |\n| 735169 | -0.5 | 12 |  900 | 150 | 48720000 |\n| 735169 | -0.5 | 12 |  900 | 250 | 48140000 |\n| 735169 | -0.5 | 12 |  900 | 350 | 48700000 |\n| 735169 | -0.5 | 12 |  900 | 450 | 48330000 |\n| 735169 | -0.5 | 12 |  900 | 700 | 45780000 |\n| 735169 | -0.5 | 12 | 1000 |  50 | 47620000 |\n| 735169 | -0.5 | 12 | 1000 | 150 | 49530000 |\n| 735169 | -0.5 | 12 | 1000 | 250 | 48730000 |\n| 735169 | -0.5 | 12 | 1000 | 350 | 48340000 |\n| 735169 | -0.5 | 12 | 1000 | 450 | 46830000 |\n| 735169 | -0.5 | 12 | 1000 | 700 | 45780000 |\n\n",
            "text/latex": "A data.table: 168 × 6\n\\begin{tabular}{llllll}\n semilla & cp & maxdepth & minsplit & minbucket & ganancia\\_test\\\\\n <int> & <dbl> & <dbl> & <dbl> & <dbl> & <dbl>\\\\\n\\hline\n\t 735169 & -0.5 & 9 & 400 &  50 & 45190000\\\\\n\t 735169 & -0.5 & 9 & 400 & 150 & 47760000\\\\\n\t 735169 & -0.5 & 9 & 400 & 250 & 48800000\\\\\n\t 735169 & -0.5 & 9 & 400 & 350 & 49330000\\\\\n\t 735169 & -0.5 & 9 & 400 & 450 & 48330000\\\\\n\t 735169 & -0.5 & 9 & 400 & 700 & 45780000\\\\\n\t 735169 & -0.5 & 9 & 500 &  50 & 45190000\\\\\n\t 735169 & -0.5 & 9 & 500 & 150 & 49600000\\\\\n\t 735169 & -0.5 & 9 & 500 & 250 & 48800000\\\\\n\t 735169 & -0.5 & 9 & 500 & 350 & 49330000\\\\\n\t 735169 & -0.5 & 9 & 500 & 450 & 48330000\\\\\n\t 735169 & -0.5 & 9 & 500 & 700 & 45780000\\\\\n\t 735169 & -0.5 & 9 & 600 &  50 & 46590000\\\\\n\t 735169 & -0.5 & 9 & 600 & 150 & 50180000\\\\\n\t 735169 & -0.5 & 9 & 600 & 250 & 50370000\\\\\n\t 735169 & -0.5 & 9 & 600 & 350 & 49330000\\\\\n\t 735169 & -0.5 & 9 & 600 & 450 & 48330000\\\\\n\t 735169 & -0.5 & 9 & 600 & 700 & 45780000\\\\\n\t 735169 & -0.5 & 9 & 700 &  50 & 47590000\\\\\n\t 735169 & -0.5 & 9 & 700 & 150 & 50180000\\\\\n\t 735169 & -0.5 & 9 & 700 & 250 & 49630000\\\\\n\t 735169 & -0.5 & 9 & 700 & 350 & 49330000\\\\\n\t 735169 & -0.5 & 9 & 700 & 450 & 48330000\\\\\n\t 735169 & -0.5 & 9 & 700 & 700 & 45780000\\\\\n\t 735169 & -0.5 & 9 & 800 &  50 & 47630000\\\\\n\t 735169 & -0.5 & 9 & 800 & 150 & 49960000\\\\\n\t 735169 & -0.5 & 9 & 800 & 250 & 49730000\\\\\n\t 735169 & -0.5 & 9 & 800 & 350 & 48700000\\\\\n\t 735169 & -0.5 & 9 & 800 & 450 & 48330000\\\\\n\t 735169 & -0.5 & 9 & 800 & 700 & 45780000\\\\\n\t ⋮ & ⋮ & ⋮ & ⋮ & ⋮ & ⋮\\\\\n\t 735169 & -0.5 & 12 &  600 &  50 & 45680000\\\\\n\t 735169 & -0.5 & 12 &  600 & 150 & 50330000\\\\\n\t 735169 & -0.5 & 12 &  600 & 250 & 49320000\\\\\n\t 735169 & -0.5 & 12 &  600 & 350 & 49330000\\\\\n\t 735169 & -0.5 & 12 &  600 & 450 & 48330000\\\\\n\t 735169 & -0.5 & 12 &  600 & 700 & 45780000\\\\\n\t 735169 & -0.5 & 12 &  700 &  50 & 46900000\\\\\n\t 735169 & -0.5 & 12 &  700 & 150 & 51490000\\\\\n\t 735169 & -0.5 & 12 &  700 & 250 & 48580000\\\\\n\t 735169 & -0.5 & 12 &  700 & 350 & 49330000\\\\\n\t 735169 & -0.5 & 12 &  700 & 450 & 48330000\\\\\n\t 735169 & -0.5 & 12 &  700 & 700 & 45780000\\\\\n\t 735169 & -0.5 & 12 &  800 &  50 & 48060000\\\\\n\t 735169 & -0.5 & 12 &  800 & 150 & 49090000\\\\\n\t 735169 & -0.5 & 12 &  800 & 250 & 48680000\\\\\n\t 735169 & -0.5 & 12 &  800 & 350 & 48700000\\\\\n\t 735169 & -0.5 & 12 &  800 & 450 & 48330000\\\\\n\t 735169 & -0.5 & 12 &  800 & 700 & 45780000\\\\\n\t 735169 & -0.5 & 12 &  900 &  50 & 47850000\\\\\n\t 735169 & -0.5 & 12 &  900 & 150 & 48720000\\\\\n\t 735169 & -0.5 & 12 &  900 & 250 & 48140000\\\\\n\t 735169 & -0.5 & 12 &  900 & 350 & 48700000\\\\\n\t 735169 & -0.5 & 12 &  900 & 450 & 48330000\\\\\n\t 735169 & -0.5 & 12 &  900 & 700 & 45780000\\\\\n\t 735169 & -0.5 & 12 & 1000 &  50 & 47620000\\\\\n\t 735169 & -0.5 & 12 & 1000 & 150 & 49530000\\\\\n\t 735169 & -0.5 & 12 & 1000 & 250 & 48730000\\\\\n\t 735169 & -0.5 & 12 & 1000 & 350 & 48340000\\\\\n\t 735169 & -0.5 & 12 & 1000 & 450 & 46830000\\\\\n\t 735169 & -0.5 & 12 & 1000 & 700 & 45780000\\\\\n\\end{tabular}\n",
            "text/plain": [
              "    semilla cp   maxdepth minsplit minbucket ganancia_test\n",
              "1   735169  -0.5 9        400       50       45190000     \n",
              "2   735169  -0.5 9        400      150       47760000     \n",
              "3   735169  -0.5 9        400      250       48800000     \n",
              "4   735169  -0.5 9        400      350       49330000     \n",
              "5   735169  -0.5 9        400      450       48330000     \n",
              "6   735169  -0.5 9        400      700       45780000     \n",
              "7   735169  -0.5 9        500       50       45190000     \n",
              "8   735169  -0.5 9        500      150       49600000     \n",
              "9   735169  -0.5 9        500      250       48800000     \n",
              "10  735169  -0.5 9        500      350       49330000     \n",
              "11  735169  -0.5 9        500      450       48330000     \n",
              "12  735169  -0.5 9        500      700       45780000     \n",
              "13  735169  -0.5 9        600       50       46590000     \n",
              "14  735169  -0.5 9        600      150       50180000     \n",
              "15  735169  -0.5 9        600      250       50370000     \n",
              "16  735169  -0.5 9        600      350       49330000     \n",
              "17  735169  -0.5 9        600      450       48330000     \n",
              "18  735169  -0.5 9        600      700       45780000     \n",
              "19  735169  -0.5 9        700       50       47590000     \n",
              "20  735169  -0.5 9        700      150       50180000     \n",
              "21  735169  -0.5 9        700      250       49630000     \n",
              "22  735169  -0.5 9        700      350       49330000     \n",
              "23  735169  -0.5 9        700      450       48330000     \n",
              "24  735169  -0.5 9        700      700       45780000     \n",
              "25  735169  -0.5 9        800       50       47630000     \n",
              "26  735169  -0.5 9        800      150       49960000     \n",
              "27  735169  -0.5 9        800      250       49730000     \n",
              "28  735169  -0.5 9        800      350       48700000     \n",
              "29  735169  -0.5 9        800      450       48330000     \n",
              "30  735169  -0.5 9        800      700       45780000     \n",
              "⋮   ⋮       ⋮    ⋮        ⋮        ⋮         ⋮            \n",
              "139 735169  -0.5 12        600      50       45680000     \n",
              "140 735169  -0.5 12        600     150       50330000     \n",
              "141 735169  -0.5 12        600     250       49320000     \n",
              "142 735169  -0.5 12        600     350       49330000     \n",
              "143 735169  -0.5 12        600     450       48330000     \n",
              "144 735169  -0.5 12        600     700       45780000     \n",
              "145 735169  -0.5 12        700      50       46900000     \n",
              "146 735169  -0.5 12        700     150       51490000     \n",
              "147 735169  -0.5 12        700     250       48580000     \n",
              "148 735169  -0.5 12        700     350       49330000     \n",
              "149 735169  -0.5 12        700     450       48330000     \n",
              "150 735169  -0.5 12        700     700       45780000     \n",
              "151 735169  -0.5 12        800      50       48060000     \n",
              "152 735169  -0.5 12        800     150       49090000     \n",
              "153 735169  -0.5 12        800     250       48680000     \n",
              "154 735169  -0.5 12        800     350       48700000     \n",
              "155 735169  -0.5 12        800     450       48330000     \n",
              "156 735169  -0.5 12        800     700       45780000     \n",
              "157 735169  -0.5 12        900      50       47850000     \n",
              "158 735169  -0.5 12        900     150       48720000     \n",
              "159 735169  -0.5 12        900     250       48140000     \n",
              "160 735169  -0.5 12        900     350       48700000     \n",
              "161 735169  -0.5 12        900     450       48330000     \n",
              "162 735169  -0.5 12        900     700       45780000     \n",
              "163 735169  -0.5 12       1000      50       47620000     \n",
              "164 735169  -0.5 12       1000     150       49530000     \n",
              "165 735169  -0.5 12       1000     250       48730000     \n",
              "166 735169  -0.5 12       1000     350       48340000     \n",
              "167 735169  -0.5 12       1000     450       46830000     \n",
              "168 735169  -0.5 12       1000     700       45780000     "
            ]
          },
          "metadata": {}
        }
      ]
    },
    {
      "cell_type": "code",
      "source": [
        "# genero y grabo el resumen\n",
        "tb_grid_search <- tb_grid_search_detalle[,\n",
        "  list( \"ganancia_mean\" = mean(ganancia_test),\n",
        "    \"qty\" = .N ),\n",
        "  list( cp, maxdepth, minsplit, minbucket )\n",
        "]\n"
      ],
      "metadata": {
        "id": "DjCxtx8bIsgl"
      },
      "execution_count": 15,
      "outputs": []
    },
    {
      "cell_type": "code",
      "source": [
        "# ordeno descendente por ganancia\n",
        "setorder( tb_grid_search, -ganancia_mean )\n"
      ],
      "metadata": {
        "id": "LU29UhL1Ivg5"
      },
      "execution_count": 16,
      "outputs": []
    },
    {
      "cell_type": "code",
      "source": [
        "# veo los 10 mejores hiperparámetros\n",
        "tb_grid_search[1:10]"
      ],
      "metadata": {
        "id": "g-EjGY7aIyWL",
        "outputId": "441622f5-9173-4d04-a2b7-652d7eacbad2",
        "colab": {
          "base_uri": "https://localhost:8080/",
          "height": 411
        }
      },
      "execution_count": 17,
      "outputs": [
        {
          "output_type": "display_data",
          "data": {
            "text/html": [
              "<table class=\"dataframe\">\n",
              "<caption>A data.table: 10 × 6</caption>\n",
              "<thead>\n",
              "\t<tr><th scope=col>cp</th><th scope=col>maxdepth</th><th scope=col>minsplit</th><th scope=col>minbucket</th><th scope=col>ganancia_mean</th><th scope=col>qty</th></tr>\n",
              "\t<tr><th scope=col>&lt;dbl&gt;</th><th scope=col>&lt;dbl&gt;</th><th scope=col>&lt;dbl&gt;</th><th scope=col>&lt;dbl&gt;</th><th scope=col>&lt;dbl&gt;</th><th scope=col>&lt;int&gt;</th></tr>\n",
              "</thead>\n",
              "<tbody>\n",
              "\t<tr><td>-0.5</td><td>10</td><td> 600</td><td>150</td><td>52360000</td><td>1</td></tr>\n",
              "\t<tr><td>-0.5</td><td>10</td><td> 700</td><td>150</td><td>52360000</td><td>1</td></tr>\n",
              "\t<tr><td>-0.5</td><td>10</td><td> 500</td><td>150</td><td>51800000</td><td>1</td></tr>\n",
              "\t<tr><td>-0.5</td><td>11</td><td> 700</td><td>150</td><td>51490000</td><td>1</td></tr>\n",
              "\t<tr><td>-0.5</td><td>12</td><td> 700</td><td>150</td><td>51490000</td><td>1</td></tr>\n",
              "\t<tr><td>-0.5</td><td> 9</td><td>1000</td><td>150</td><td>50400000</td><td>1</td></tr>\n",
              "\t<tr><td>-0.5</td><td>10</td><td>1000</td><td>150</td><td>50400000</td><td>1</td></tr>\n",
              "\t<tr><td>-0.5</td><td> 9</td><td> 600</td><td>250</td><td>50370000</td><td>1</td></tr>\n",
              "\t<tr><td>-0.5</td><td>10</td><td> 600</td><td>250</td><td>50370000</td><td>1</td></tr>\n",
              "\t<tr><td>-0.5</td><td>11</td><td> 600</td><td>150</td><td>50330000</td><td>1</td></tr>\n",
              "</tbody>\n",
              "</table>\n"
            ],
            "text/markdown": "\nA data.table: 10 × 6\n\n| cp &lt;dbl&gt; | maxdepth &lt;dbl&gt; | minsplit &lt;dbl&gt; | minbucket &lt;dbl&gt; | ganancia_mean &lt;dbl&gt; | qty &lt;int&gt; |\n|---|---|---|---|---|---|\n| -0.5 | 10 |  600 | 150 | 52360000 | 1 |\n| -0.5 | 10 |  700 | 150 | 52360000 | 1 |\n| -0.5 | 10 |  500 | 150 | 51800000 | 1 |\n| -0.5 | 11 |  700 | 150 | 51490000 | 1 |\n| -0.5 | 12 |  700 | 150 | 51490000 | 1 |\n| -0.5 |  9 | 1000 | 150 | 50400000 | 1 |\n| -0.5 | 10 | 1000 | 150 | 50400000 | 1 |\n| -0.5 |  9 |  600 | 250 | 50370000 | 1 |\n| -0.5 | 10 |  600 | 250 | 50370000 | 1 |\n| -0.5 | 11 |  600 | 150 | 50330000 | 1 |\n\n",
            "text/latex": "A data.table: 10 × 6\n\\begin{tabular}{llllll}\n cp & maxdepth & minsplit & minbucket & ganancia\\_mean & qty\\\\\n <dbl> & <dbl> & <dbl> & <dbl> & <dbl> & <int>\\\\\n\\hline\n\t -0.5 & 10 &  600 & 150 & 52360000 & 1\\\\\n\t -0.5 & 10 &  700 & 150 & 52360000 & 1\\\\\n\t -0.5 & 10 &  500 & 150 & 51800000 & 1\\\\\n\t -0.5 & 11 &  700 & 150 & 51490000 & 1\\\\\n\t -0.5 & 12 &  700 & 150 & 51490000 & 1\\\\\n\t -0.5 &  9 & 1000 & 150 & 50400000 & 1\\\\\n\t -0.5 & 10 & 1000 & 150 & 50400000 & 1\\\\\n\t -0.5 &  9 &  600 & 250 & 50370000 & 1\\\\\n\t -0.5 & 10 &  600 & 250 & 50370000 & 1\\\\\n\t -0.5 & 11 &  600 & 150 & 50330000 & 1\\\\\n\\end{tabular}\n",
            "text/plain": [
              "   cp   maxdepth minsplit minbucket ganancia_mean qty\n",
              "1  -0.5 10        600     150       52360000      1  \n",
              "2  -0.5 10        700     150       52360000      1  \n",
              "3  -0.5 10        500     150       51800000      1  \n",
              "4  -0.5 11        700     150       51490000      1  \n",
              "5  -0.5 12        700     150       51490000      1  \n",
              "6  -0.5  9       1000     150       50400000      1  \n",
              "7  -0.5 10       1000     150       50400000      1  \n",
              "8  -0.5  9        600     250       50370000      1  \n",
              "9  -0.5 10        600     250       50370000      1  \n",
              "10 -0.5 11        600     150       50330000      1  "
            ]
          },
          "metadata": {}
        }
      ]
    },
    {
      "cell_type": "code",
      "source": [
        "# genero un id a la tabla\n",
        "tb_grid_search[, id := .I ]\n",
        "\n",
        "fwrite( tb_grid_search,\n",
        "  file = \"gridsearch.txt\",\n",
        "  sep = \"\\t\"\n",
        ")\n"
      ],
      "metadata": {
        "id": "K3S-I2PTI5ZE"
      },
      "execution_count": 18,
      "outputs": []
    },
    {
      "cell_type": "markdown",
      "source": [
        "# 4.  Análisis de resultados de Grid Search"
      ],
      "metadata": {
        "id": "1rYHk1YkI_9k"
      }
    },
    {
      "cell_type": "markdown",
      "source": [
        "La salida de la corrida anterior queda en ~/buckets/b1/exp/HT2900  que corresponde a su Google Drive\n",
        "<br>HT significa Hyperparameter Tuning\n",
        "<br>El Grid Search es un método de fuerza bruta de un altísimo costo computacional.\n",
        "<br>Queremos ver si es posible crear un algoritmo de optimización de hiperparámetros que se ahorre recorrer ciertas porciones muy malas del espacio de búsqueda. Algo del estilo “cada vez que pruebo una combinación de hiperparámetros donde  cp > 1 , la ganancia es muy mala, con lo cual ni vale la pena perder el tiempo explorando en esa region”\n"
      ],
      "metadata": {
        "id": "ZTJgPhMWJHTk"
      }
    },
    {
      "cell_type": "markdown",
      "source": [
        "<br>Levante el archivo de salida gridsearch.txt  a una planilla tipo Excel y analícelo detenidamente\n",
        "<br>Ordene por ganancia_mean descendente\n",
        "<br>\n",
        "<br>El de mayor ganancia_mean  decimos que es el primero del ranking\n",
        "En Zulip, correspondiente channel  #Tarea Hogar 02 , topic Analisis Grid Search   intente contestar estas preguntas:\n",
        "\n",
        "* ¿Qué combinaciones de hiperparámetros poseen una ganancia muy buena?\n",
        "* ¿Hay algun hiperparámetro que para cierto valor siempre genera una ganancia muy mala, a independientemente de lo que valgan los otros hiperparámetros ?\n",
        "* ¿Que combinaciones de hiperparámetros es pésima y hubiera sido bueno ahorrarse esas corridas ?\n",
        "\n",
        "( tiempo estimado 30 minutos, dificultad media )"
      ],
      "metadata": {
        "id": "IaVgMu4tPwyB"
      }
    }
  ]
}