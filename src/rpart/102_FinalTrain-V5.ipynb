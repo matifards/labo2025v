{
  "nbformat": 4,
  "nbformat_minor": 0,
  "metadata": {
    "colab": {
      "provenance": [],
      "include_colab_link": true
    },
    "kernelspec": {
      "name": "ir",
      "display_name": "R"
    },
    "language_info": {
      "name": "R"
    }
  },
  "cells": [
    {
      "cell_type": "markdown",
      "metadata": {
        "id": "view-in-github",
        "colab_type": "text"
      },
      "source": [
        "<a href=\"https://colab.research.google.com/github/matifards/labo2025v/blob/main/src/rpart/102_FinalTrain-V5.ipynb\" target=\"_parent\"><img src=\"https://colab.research.google.com/assets/colab-badge.svg\" alt=\"Open In Colab\"/></a>"
      ]
    },
    {
      "cell_type": "markdown",
      "source": [
        "# Arbol elemental con libreria  rpart"
      ],
      "metadata": {
        "id": "x79hZRjomDop"
      }
    },
    {
      "cell_type": "markdown",
      "source": [
        "## Introduccion"
      ],
      "metadata": {
        "id": "_4490Ry5cqPo"
      }
    },
    {
      "cell_type": "markdown",
      "source": [
        "Este es el primer notebook/script de la materia Laboratorio de Implementacion I, se expone en la primera clase.\n",
        "<br>Se utilizan Arboles de Decision, librería **rpart**,  el primer algoritmo, el más simple que utilizaremos en la materia pero que es el fundamento de los Ensembles de Arboles de Decision tales como  Random Forest y  Gradient Boosting of Decision Trees (XGBoost/LightGBM)\n",
        "<br>La materia posee un dataset con 31 meses, en las primeras clases toda la cohorte, independiente de la modalidad elegida, utilizará **dataset_pequeno** que posee apenas un mes histórico 202107 y obviamente el mes donde se debe realizar la predicción 202109\n",
        "<br>Este primer notebook/script **no** desarrolla todas las etapas necesarias para la generación de un buen modelo, apenas posee la parte final del pipeline/workflow."
      ],
      "metadata": {
        "id": "aAYUcclYjDCi"
      }
    },
    {
      "cell_type": "markdown",
      "source": [
        "### Limitaciones\n",
        "\n"
      ],
      "metadata": {
        "id": "kjl2iZNJjTTn"
      }
    },
    {
      "cell_type": "markdown",
      "source": [
        "Este primer y elemental notebook/script supone estas simplificaciónes:\n",
        "* Solo se dispone del mes 202107 con el campo clase_ternaria completo, es el unico mes donde entrenar\n",
        "* Se decidió previamente, de alguna forma, que la etapa de Final Training se hará sobre TODO el dataset de 202107\n",
        "* Se obtuvieron previamente los hiperparámetros optimos de la libería **rpart** para este problema, mediante algun tipo de busqueda búsqueda.  Esta es la etapa que demandará decenas de horas para quienes opten por la *modalidad Analista Senior*\n",
        "* No se realiza ningun tipo de feature engineering intra-mes\n",
        "* Al no disponer de datos históricos no se realiza ningun tipo de feature engineering histórico\n",
        "* No hay ningun analisis de la calidad de los campos, no se analiza si ocurrió alguna catástrofe ese mes y algun campo no se calculó correctamente\n",
        "* Noy hay ningun tipo de análisis de Data Drifting entre los meses de 202107 y 202109\n",
        "* Obedientemente se trabaja utlizando como clase el campo **clase_ternaria** sin ningun tipo de transformacion\n",
        "\n",
        "\n",
        "<br> Obviamente, a lo largo de la materia se avanzará sobre todas las limitacinoes anteriores."
      ],
      "metadata": {
        "id": "Ls6hLk6Vja_C"
      }
    },
    {
      "cell_type": "markdown",
      "source": [
        "## Seteo del ambiente en Google Colab"
      ],
      "metadata": {
        "id": "kmLygy1TYPfg"
      }
    },
    {
      "cell_type": "markdown",
      "source": [
        "Esta parte se debe correr con el runtime en Python3\n",
        "<br>Ir al menu, Runtime -> Change Runtime Tipe -> Runtime type ->  **Python 3**"
      ],
      "metadata": {
        "id": "OikOm5K2YU3X"
      }
    },
    {
      "cell_type": "markdown",
      "source": [
        "Conectar la virtual machine donde esta corriendo Google Colab con el  Google Drive, para poder tener persistencia de archivos"
      ],
      "metadata": {
        "id": "4fmV5LyZdFyI"
      }
    },
    {
      "cell_type": "code",
      "source": [
        "# primero establecer el Runtime de Python 3\n",
        "from google.colab import drive\n",
        "drive.mount('/content/.drive')"
      ],
      "metadata": {
        "id": "ilEZ-bE2VybW",
        "colab": {
          "base_uri": "https://localhost:8080/"
        },
        "outputId": "f81c3286-963d-4f69-d760-f2787140459d"
      },
      "execution_count": 1,
      "outputs": [
        {
          "output_type": "stream",
          "name": "stdout",
          "text": [
            "Drive already mounted at /content/.drive; to attempt to forcibly remount, call drive.mount(\"/content/.drive\", force_remount=True).\n"
          ]
        }
      ]
    },
    {
      "cell_type": "markdown",
      "source": [
        "Para correr la siguiente celda es fundamental en Arranque en Frio haber copiado el archivo kaggle.json al Google Drive, en la carpeta indicada en el instructivo\n",
        "\n",
        "<br>los siguientes comando estan en shell script de Linux\n",
        "*   Crear las carpetas en el Google Drive\n",
        "*   \"instalar\" el archivo kaggle.json desde el Google Drive a la virtual machine para que pueda ser utilizado por la libreria  kaggle de Python\n",
        "*   Bajar el  **dataset_pequeno**  al  Google Drive  y tambien al disco local de la virtual machine que esta corriendo Google Colab\n",
        "\n"
      ],
      "metadata": {
        "id": "ilaKtqWldeWg"
      }
    },
    {
      "cell_type": "code",
      "source": [
        "%%shell\n",
        "\n",
        "mkdir -p \"/content/.drive/My Drive/labo1\"\n",
        "mkdir -p \"/content/buckets\"\n",
        "ln -s \"/content/.drive/My Drive/labo1\" /content/buckets/b1\n",
        "\n",
        "mkdir -p ~/.kaggle\n",
        "cp /content/buckets/b1/kaggle/kaggle.json  ~/.kaggle\n",
        "chmod 600 ~/.kaggle/kaggle.json\n",
        "\n",
        "\n",
        "mkdir -p /content/buckets/b1/exp\n",
        "mkdir -p /content/buckets/b1/datasets\n",
        "mkdir -p /content/datasets\n",
        "\n",
        "\n",
        "\n",
        "archivo_origen=\"https://storage.googleapis.com/open-courses/austral2025-af91/dataset_pequeno.csv\"\n",
        "archivo_destino=\"/content/datasets/grupo5.csv\"\n",
        "archivo_destino_bucket=\"/content/buckets/b1/datasets/grupo5.csv\"\n",
        "\n",
        "if ! test -f $archivo_destino_bucket; then\n",
        "  wget  $archivo_origen  -O $archivo_destino_bucket\n",
        "fi\n",
        "\n",
        "\n",
        "if ! test -f $archivo_destino; then\n",
        "  cp  $archivo_destino_bucket  $archivo_destino\n",
        "fi\n"
      ],
      "metadata": {
        "id": "W8dQFI5QYCFa",
        "colab": {
          "base_uri": "https://localhost:8080/"
        },
        "outputId": "07407047-a51b-4a57-fc0e-7e156039f4e9"
      },
      "execution_count": 2,
      "outputs": [
        {
          "output_type": "execute_result",
          "data": {
            "text/plain": []
          },
          "metadata": {},
          "execution_count": 2
        }
      ]
    },
    {
      "cell_type": "markdown",
      "source": [
        "## Final Train y generacion de la prediccion"
      ],
      "metadata": {
        "id": "GfY5gFQAaWDe"
      }
    },
    {
      "cell_type": "markdown",
      "source": [
        "Esta parte se debe correr con el runtime en lenguaje **R** Ir al menu, Runtime -> Change Runtime Tipe -> Runtime type -> R"
      ],
      "metadata": {
        "id": "SBXPU-_tabMb"
      }
    },
    {
      "cell_type": "markdown",
      "source": [
        "limpio el ambiente de R"
      ],
      "metadata": {
        "id": "SE94XRhWsxkX"
      }
    },
    {
      "cell_type": "code",
      "source": [
        "# limpio la memoria\n",
        "rm(list=ls(all.names=TRUE)) # remove all objects\n",
        "gc(full=TRUE, verbose=FALSE) # garbage collection"
      ],
      "metadata": {
        "id": "oZG_4br6szlT",
        "colab": {
          "base_uri": "https://localhost:8080/",
          "height": 129
        },
        "outputId": "986aeff7-2a3d-450a-cf28-bec4f9ba508c"
      },
      "execution_count": 1,
      "outputs": [
        {
          "output_type": "display_data",
          "data": {
            "text/html": [
              "<table class=\"dataframe\">\n",
              "<caption>A matrix: 2 × 6 of type dbl</caption>\n",
              "<thead>\n",
              "\t<tr><th></th><th scope=col>used</th><th scope=col>(Mb)</th><th scope=col>gc trigger</th><th scope=col>(Mb)</th><th scope=col>max used</th><th scope=col>(Mb)</th></tr>\n",
              "</thead>\n",
              "<tbody>\n",
              "\t<tr><th scope=row>Ncells</th><td> 657244</td><td>35.2</td><td>1454480</td><td>77.7</td><td>1326122</td><td>70.9</td></tr>\n",
              "\t<tr><th scope=row>Vcells</th><td>1220271</td><td> 9.4</td><td>8388608</td><td>64.0</td><td>1975128</td><td>15.1</td></tr>\n",
              "</tbody>\n",
              "</table>\n"
            ],
            "text/markdown": "\nA matrix: 2 × 6 of type dbl\n\n| <!--/--> | used | (Mb) | gc trigger | (Mb) | max used | (Mb) |\n|---|---|---|---|---|---|---|\n| Ncells |  657244 | 35.2 | 1454480 | 77.7 | 1326122 | 70.9 |\n| Vcells | 1220271 |  9.4 | 8388608 | 64.0 | 1975128 | 15.1 |\n\n",
            "text/latex": "A matrix: 2 × 6 of type dbl\n\\begin{tabular}{r|llllll}\n  & used & (Mb) & gc trigger & (Mb) & max used & (Mb)\\\\\n\\hline\n\tNcells &  657244 & 35.2 & 1454480 & 77.7 & 1326122 & 70.9\\\\\n\tVcells & 1220271 &  9.4 & 8388608 & 64.0 & 1975128 & 15.1\\\\\n\\end{tabular}\n",
            "text/plain": [
              "       used    (Mb) gc trigger (Mb) max used (Mb)\n",
              "Ncells  657244 35.2 1454480    77.7 1326122  70.9\n",
              "Vcells 1220271  9.4 8388608    64.0 1975128  15.1"
            ]
          },
          "metadata": {}
        }
      ]
    },
    {
      "cell_type": "markdown",
      "source": [
        "* Instalacion de la libreria  rpart.plot  para dibujar el arbol\n",
        "* invocacion de las librerias  **data.table**  **rpart** y  **rpart.plot**"
      ],
      "metadata": {
        "id": "3BrrQ47PeEb2"
      }
    },
    {
      "cell_type": "code",
      "source": [
        "# cargo las librerias que necesito\n",
        "require(\"data.table\")\n",
        "require(\"rpart\")\n",
        "if (!require(\"rpart.plot\")) install.packages(\"rpart.plot\")\n",
        "require(\"rpart.plot\")"
      ],
      "metadata": {
        "id": "SxO-0Ql0khn6",
        "colab": {
          "base_uri": "https://localhost:8080/"
        },
        "outputId": "40db9a6a-5f21-40a4-c7f4-ba094d837cff"
      },
      "execution_count": 2,
      "outputs": [
        {
          "output_type": "stream",
          "name": "stderr",
          "text": [
            "Loading required package: data.table\n",
            "\n",
            "Loading required package: rpart\n",
            "\n",
            "Loading required package: rpart.plot\n",
            "\n"
          ]
        }
      ]
    },
    {
      "cell_type": "markdown",
      "source": [
        "Crear y moverse a la carpeta donde se va a trabajar"
      ],
      "metadata": {
        "id": "apAqiSA2eXSr"
      }
    },
    {
      "cell_type": "code",
      "source": [
        "# carpeta de trabajo\n",
        "setwd(\"/content/buckets/b1/exp\")\n",
        "experimento <- \"KA2001\"\n",
        "dir.create(experimento, showWarnings=FALSE)\n",
        "setwd( paste0(\"/content/buckets/b1/exp/\", experimento ))"
      ],
      "metadata": {
        "id": "u6JQluRzaNlX"
      },
      "execution_count": 3,
      "outputs": []
    },
    {
      "cell_type": "markdown",
      "source": [
        "## Final Training"
      ],
      "metadata": {
        "id": "8ZvIUVwIWUTo"
      }
    },
    {
      "cell_type": "markdown",
      "source": [
        "### Final Train Dataset"
      ],
      "metadata": {
        "id": "XLOILuGOXR2J"
      }
    },
    {
      "cell_type": "markdown",
      "source": [
        "Es importante notar que para el entrenamiento final utilizo el mes de 202107 completo sin ningun tipo particion  train/test, aqui no hay random, aqui no hay semillas"
      ],
      "metadata": {
        "id": "xWhnTG7lxQQ-"
      }
    },
    {
      "cell_type": "code",
      "source": [
        "# lectura del dataset\n",
        "set_datos <- fread(\"/content/datasets/grupo5.csv\")\n",
        "dtrain_final <- fread(\"/content/datasets/grupo5.csv\")\n",
        "#dtrain_final <- dataset[foto_mes == 202107] # defino donde voy a entrenar\n",
        "dtrain_final <- dtrain_final[, .(cp, maxdepth, minsplit,minbucket,ganancia_mean)]\n",
        "dtrain_final$ganancia_mean <- as.numeric(gsub(\"\\\\.\", \"\", dtrain_final$ganancia_mean))\n",
        "#dtrain_final <- subset(dtrain_final, select = -semilla)\n",
        "head(dtrain_final)\n"
      ],
      "metadata": {
        "id": "SguKBIIyaeWK",
        "colab": {
          "base_uri": "https://localhost:8080/",
          "height": 367
        },
        "outputId": "b5a3c9cc-564b-48cc-be1f-0c5b5e0ac236"
      },
      "execution_count": 6,
      "outputs": [
        {
          "output_type": "stream",
          "name": "stderr",
          "text": [
            "Warning message in fread(\"/content/datasets/grupo5.csv\"):\n",
            "“Stopped early on line 26. Expected 6 fields but found 7. Consider fill=TRUE and comment.char=. First discarded non-empty line: <<100151,-0,5,6,600,50,54840000>>”\n",
            "Warning message in fread(\"/content/datasets/grupo5.csv\"):\n",
            "“Stopped early on line 26. Expected 6 fields but found 7. Consider fill=TRUE and comment.char=. First discarded non-empty line: <<100151,-0,5,6,600,50,54840000>>”\n"
          ]
        },
        {
          "output_type": "error",
          "ename": "ERROR",
          "evalue": "Error in eval(substitute(select), nl, parent.frame()): object 'semilla' not found\n",
          "traceback": [
            "Error in eval(substitute(select), nl, parent.frame()): object 'semilla' not found\nTraceback:\n",
            "1. subset.data.table(dtrain_final, select = -semilla)",
            "2. eval(substitute(select), nl, parent.frame())",
            "3. eval(substitute(select), nl, parent.frame())",
            "4. .handleSimpleError(function (cnd) \n . {\n .     watcher$capture_plot_and_output()\n .     cnd <- sanitize_call(cnd)\n .     watcher$push(cnd)\n .     switch(on_error, continue = invokeRestart(\"eval_continue\"), \n .         stop = invokeRestart(\"eval_stop\"), error = NULL)\n . }, \"object 'semilla' not found\", base::quote(eval(substitute(select), \n .     nl, parent.frame())))"
          ]
        }
      ]
    },
    {
      "cell_type": "code",
      "source": [
        "set_datos"
      ],
      "metadata": {
        "colab": {
          "base_uri": "https://localhost:8080/",
          "height": 851
        },
        "id": "VNs8U2ztFh5J",
        "outputId": "578bf4b8-edf9-4442-8518-b894bbdcddf1"
      },
      "execution_count": 12,
      "outputs": [
        {
          "output_type": "display_data",
          "data": {
            "text/html": [
              "<table class=\"dataframe\">\n",
              "<caption>A data.table: 24 × 6</caption>\n",
              "<thead>\n",
              "\t<tr><th scope=col>Semilla</th><th scope=col>cp</th><th scope=col>maxdepth</th><th scope=col>minsplit</th><th scope=col>minbucket</th><th scope=col>ganancia_mean</th></tr>\n",
              "\t<tr><th scope=col>&lt;int&gt;</th><th scope=col>&lt;dbl&gt;</th><th scope=col>&lt;int&gt;</th><th scope=col>&lt;int&gt;</th><th scope=col>&lt;int&gt;</th><th scope=col>&lt;int&gt;</th></tr>\n",
              "</thead>\n",
              "<tbody>\n",
              "\t<tr><td>100151</td><td>-1.0</td><td>4</td><td>1000</td><td> 10</td><td>52890000</td></tr>\n",
              "\t<tr><td>100151</td><td>-0.5</td><td>4</td><td> 800</td><td> 10</td><td>52890000</td></tr>\n",
              "\t<tr><td>100151</td><td>-1.0</td><td>4</td><td> 600</td><td> 10</td><td>52890000</td></tr>\n",
              "\t<tr><td>100151</td><td>-0.5</td><td>4</td><td> 400</td><td> 10</td><td>52890000</td></tr>\n",
              "\t<tr><td>100151</td><td>-1.0</td><td>4</td><td>1000</td><td> 50</td><td>52490000</td></tr>\n",
              "\t<tr><td>100151</td><td>-0.5</td><td>4</td><td>1000</td><td> 20</td><td>52490000</td></tr>\n",
              "\t<tr><td>100151</td><td>-1.0</td><td>4</td><td> 800</td><td> 50</td><td>52490000</td></tr>\n",
              "\t<tr><td>100151</td><td>-0.5</td><td>4</td><td> 800</td><td> 20</td><td>52490000</td></tr>\n",
              "\t<tr><td>100151</td><td>-1.0</td><td>4</td><td> 600</td><td> 50</td><td>52490000</td></tr>\n",
              "\t<tr><td>100151</td><td>-1.0</td><td>4</td><td> 600</td><td> 20</td><td>52490000</td></tr>\n",
              "\t<tr><td>100151</td><td>-0.5</td><td>4</td><td> 400</td><td> 50</td><td>52490000</td></tr>\n",
              "\t<tr><td>100151</td><td>-0.5</td><td>4</td><td> 400</td><td> 20</td><td>52490000</td></tr>\n",
              "\t<tr><td>100151</td><td>-1.0</td><td>4</td><td>1000</td><td>100</td><td>52270000</td></tr>\n",
              "\t<tr><td>100151</td><td>-1.0</td><td>4</td><td> 800</td><td>100</td><td>52270000</td></tr>\n",
              "\t<tr><td>100151</td><td>-0.5</td><td>4</td><td> 600</td><td>100</td><td>52270000</td></tr>\n",
              "\t<tr><td>100151</td><td>-0.5</td><td>4</td><td> 400</td><td>100</td><td>52270000</td></tr>\n",
              "\t<tr><td>100151</td><td>-1.0</td><td>6</td><td>1000</td><td> 10</td><td>55960000</td></tr>\n",
              "\t<tr><td>100151</td><td>-0.5</td><td>6</td><td> 800</td><td> 10</td><td>55960000</td></tr>\n",
              "\t<tr><td>100151</td><td>-1.0</td><td>6</td><td> 600</td><td> 10</td><td>55960000</td></tr>\n",
              "\t<tr><td>100151</td><td>-0.5</td><td>6</td><td> 400</td><td> 10</td><td>55960000</td></tr>\n",
              "\t<tr><td>100151</td><td>-1.0</td><td>6</td><td>1000</td><td> 50</td><td>54840000</td></tr>\n",
              "\t<tr><td>100151</td><td>-0.5</td><td>6</td><td>1000</td><td> 20</td><td>54840000</td></tr>\n",
              "\t<tr><td>100151</td><td>-1.0</td><td>6</td><td> 800</td><td> 50</td><td>54840000</td></tr>\n",
              "\t<tr><td>100151</td><td>-0.5</td><td>6</td><td> 800</td><td> 20</td><td>54840000</td></tr>\n",
              "</tbody>\n",
              "</table>\n"
            ],
            "text/markdown": "\nA data.table: 24 × 6\n\n| Semilla &lt;int&gt; | cp &lt;dbl&gt; | maxdepth &lt;int&gt; | minsplit &lt;int&gt; | minbucket &lt;int&gt; | ganancia_mean &lt;int&gt; |\n|---|---|---|---|---|---|\n| 100151 | -1.0 | 4 | 1000 |  10 | 52890000 |\n| 100151 | -0.5 | 4 |  800 |  10 | 52890000 |\n| 100151 | -1.0 | 4 |  600 |  10 | 52890000 |\n| 100151 | -0.5 | 4 |  400 |  10 | 52890000 |\n| 100151 | -1.0 | 4 | 1000 |  50 | 52490000 |\n| 100151 | -0.5 | 4 | 1000 |  20 | 52490000 |\n| 100151 | -1.0 | 4 |  800 |  50 | 52490000 |\n| 100151 | -0.5 | 4 |  800 |  20 | 52490000 |\n| 100151 | -1.0 | 4 |  600 |  50 | 52490000 |\n| 100151 | -1.0 | 4 |  600 |  20 | 52490000 |\n| 100151 | -0.5 | 4 |  400 |  50 | 52490000 |\n| 100151 | -0.5 | 4 |  400 |  20 | 52490000 |\n| 100151 | -1.0 | 4 | 1000 | 100 | 52270000 |\n| 100151 | -1.0 | 4 |  800 | 100 | 52270000 |\n| 100151 | -0.5 | 4 |  600 | 100 | 52270000 |\n| 100151 | -0.5 | 4 |  400 | 100 | 52270000 |\n| 100151 | -1.0 | 6 | 1000 |  10 | 55960000 |\n| 100151 | -0.5 | 6 |  800 |  10 | 55960000 |\n| 100151 | -1.0 | 6 |  600 |  10 | 55960000 |\n| 100151 | -0.5 | 6 |  400 |  10 | 55960000 |\n| 100151 | -1.0 | 6 | 1000 |  50 | 54840000 |\n| 100151 | -0.5 | 6 | 1000 |  20 | 54840000 |\n| 100151 | -1.0 | 6 |  800 |  50 | 54840000 |\n| 100151 | -0.5 | 6 |  800 |  20 | 54840000 |\n\n",
            "text/latex": "A data.table: 24 × 6\n\\begin{tabular}{llllll}\n Semilla & cp & maxdepth & minsplit & minbucket & ganancia\\_mean\\\\\n <int> & <dbl> & <int> & <int> & <int> & <int>\\\\\n\\hline\n\t 100151 & -1.0 & 4 & 1000 &  10 & 52890000\\\\\n\t 100151 & -0.5 & 4 &  800 &  10 & 52890000\\\\\n\t 100151 & -1.0 & 4 &  600 &  10 & 52890000\\\\\n\t 100151 & -0.5 & 4 &  400 &  10 & 52890000\\\\\n\t 100151 & -1.0 & 4 & 1000 &  50 & 52490000\\\\\n\t 100151 & -0.5 & 4 & 1000 &  20 & 52490000\\\\\n\t 100151 & -1.0 & 4 &  800 &  50 & 52490000\\\\\n\t 100151 & -0.5 & 4 &  800 &  20 & 52490000\\\\\n\t 100151 & -1.0 & 4 &  600 &  50 & 52490000\\\\\n\t 100151 & -1.0 & 4 &  600 &  20 & 52490000\\\\\n\t 100151 & -0.5 & 4 &  400 &  50 & 52490000\\\\\n\t 100151 & -0.5 & 4 &  400 &  20 & 52490000\\\\\n\t 100151 & -1.0 & 4 & 1000 & 100 & 52270000\\\\\n\t 100151 & -1.0 & 4 &  800 & 100 & 52270000\\\\\n\t 100151 & -0.5 & 4 &  600 & 100 & 52270000\\\\\n\t 100151 & -0.5 & 4 &  400 & 100 & 52270000\\\\\n\t 100151 & -1.0 & 6 & 1000 &  10 & 55960000\\\\\n\t 100151 & -0.5 & 6 &  800 &  10 & 55960000\\\\\n\t 100151 & -1.0 & 6 &  600 &  10 & 55960000\\\\\n\t 100151 & -0.5 & 6 &  400 &  10 & 55960000\\\\\n\t 100151 & -1.0 & 6 & 1000 &  50 & 54840000\\\\\n\t 100151 & -0.5 & 6 & 1000 &  20 & 54840000\\\\\n\t 100151 & -1.0 & 6 &  800 &  50 & 54840000\\\\\n\t 100151 & -0.5 & 6 &  800 &  20 & 54840000\\\\\n\\end{tabular}\n",
            "text/plain": [
              "   Semilla cp   maxdepth minsplit minbucket ganancia_mean\n",
              "1  100151  -1.0 4        1000      10       52890000     \n",
              "2  100151  -0.5 4         800      10       52890000     \n",
              "3  100151  -1.0 4         600      10       52890000     \n",
              "4  100151  -0.5 4         400      10       52890000     \n",
              "5  100151  -1.0 4        1000      50       52490000     \n",
              "6  100151  -0.5 4        1000      20       52490000     \n",
              "7  100151  -1.0 4         800      50       52490000     \n",
              "8  100151  -0.5 4         800      20       52490000     \n",
              "9  100151  -1.0 4         600      50       52490000     \n",
              "10 100151  -1.0 4         600      20       52490000     \n",
              "11 100151  -0.5 4         400      50       52490000     \n",
              "12 100151  -0.5 4         400      20       52490000     \n",
              "13 100151  -1.0 4        1000     100       52270000     \n",
              "14 100151  -1.0 4         800     100       52270000     \n",
              "15 100151  -0.5 4         600     100       52270000     \n",
              "16 100151  -0.5 4         400     100       52270000     \n",
              "17 100151  -1.0 6        1000      10       55960000     \n",
              "18 100151  -0.5 6         800      10       55960000     \n",
              "19 100151  -1.0 6         600      10       55960000     \n",
              "20 100151  -0.5 6         400      10       55960000     \n",
              "21 100151  -1.0 6        1000      50       54840000     \n",
              "22 100151  -0.5 6        1000      20       54840000     \n",
              "23 100151  -1.0 6         800      50       54840000     \n",
              "24 100151  -0.5 6         800      20       54840000     "
            ]
          },
          "metadata": {}
        }
      ]
    },
    {
      "cell_type": "code",
      "source": [
        "dtrain_final"
      ],
      "metadata": {
        "colab": {
          "base_uri": "https://localhost:8080/",
          "height": 851
        },
        "id": "xcVUUwESFwrX",
        "outputId": "1f734084-5e50-41ca-828d-47cb2539f00e"
      },
      "execution_count": 13,
      "outputs": [
        {
          "output_type": "display_data",
          "data": {
            "text/html": [
              "<table class=\"dataframe\">\n",
              "<caption>A data.table: 24 × 5</caption>\n",
              "<thead>\n",
              "\t<tr><th scope=col>cp</th><th scope=col>maxdepth</th><th scope=col>minsplit</th><th scope=col>minbucket</th><th scope=col>ganancia_mean</th></tr>\n",
              "\t<tr><th scope=col>&lt;dbl&gt;</th><th scope=col>&lt;int&gt;</th><th scope=col>&lt;int&gt;</th><th scope=col>&lt;int&gt;</th><th scope=col>&lt;dbl&gt;</th></tr>\n",
              "</thead>\n",
              "<tbody>\n",
              "\t<tr><td>-1.0</td><td>4</td><td>1000</td><td> 10</td><td>52890000</td></tr>\n",
              "\t<tr><td>-0.5</td><td>4</td><td> 800</td><td> 10</td><td>52890000</td></tr>\n",
              "\t<tr><td>-1.0</td><td>4</td><td> 600</td><td> 10</td><td>52890000</td></tr>\n",
              "\t<tr><td>-0.5</td><td>4</td><td> 400</td><td> 10</td><td>52890000</td></tr>\n",
              "\t<tr><td>-1.0</td><td>4</td><td>1000</td><td> 50</td><td>52490000</td></tr>\n",
              "\t<tr><td>-0.5</td><td>4</td><td>1000</td><td> 20</td><td>52490000</td></tr>\n",
              "\t<tr><td>-1.0</td><td>4</td><td> 800</td><td> 50</td><td>52490000</td></tr>\n",
              "\t<tr><td>-0.5</td><td>4</td><td> 800</td><td> 20</td><td>52490000</td></tr>\n",
              "\t<tr><td>-1.0</td><td>4</td><td> 600</td><td> 50</td><td>52490000</td></tr>\n",
              "\t<tr><td>-1.0</td><td>4</td><td> 600</td><td> 20</td><td>52490000</td></tr>\n",
              "\t<tr><td>-0.5</td><td>4</td><td> 400</td><td> 50</td><td>52490000</td></tr>\n",
              "\t<tr><td>-0.5</td><td>4</td><td> 400</td><td> 20</td><td>52490000</td></tr>\n",
              "\t<tr><td>-1.0</td><td>4</td><td>1000</td><td>100</td><td>52270000</td></tr>\n",
              "\t<tr><td>-1.0</td><td>4</td><td> 800</td><td>100</td><td>52270000</td></tr>\n",
              "\t<tr><td>-0.5</td><td>4</td><td> 600</td><td>100</td><td>52270000</td></tr>\n",
              "\t<tr><td>-0.5</td><td>4</td><td> 400</td><td>100</td><td>52270000</td></tr>\n",
              "\t<tr><td>-1.0</td><td>6</td><td>1000</td><td> 10</td><td>55960000</td></tr>\n",
              "\t<tr><td>-0.5</td><td>6</td><td> 800</td><td> 10</td><td>55960000</td></tr>\n",
              "\t<tr><td>-1.0</td><td>6</td><td> 600</td><td> 10</td><td>55960000</td></tr>\n",
              "\t<tr><td>-0.5</td><td>6</td><td> 400</td><td> 10</td><td>55960000</td></tr>\n",
              "\t<tr><td>-1.0</td><td>6</td><td>1000</td><td> 50</td><td>54840000</td></tr>\n",
              "\t<tr><td>-0.5</td><td>6</td><td>1000</td><td> 20</td><td>54840000</td></tr>\n",
              "\t<tr><td>-1.0</td><td>6</td><td> 800</td><td> 50</td><td>54840000</td></tr>\n",
              "\t<tr><td>-0.5</td><td>6</td><td> 800</td><td> 20</td><td>54840000</td></tr>\n",
              "</tbody>\n",
              "</table>\n"
            ],
            "text/markdown": "\nA data.table: 24 × 5\n\n| cp &lt;dbl&gt; | maxdepth &lt;int&gt; | minsplit &lt;int&gt; | minbucket &lt;int&gt; | ganancia_mean &lt;dbl&gt; |\n|---|---|---|---|---|\n| -1.0 | 4 | 1000 |  10 | 52890000 |\n| -0.5 | 4 |  800 |  10 | 52890000 |\n| -1.0 | 4 |  600 |  10 | 52890000 |\n| -0.5 | 4 |  400 |  10 | 52890000 |\n| -1.0 | 4 | 1000 |  50 | 52490000 |\n| -0.5 | 4 | 1000 |  20 | 52490000 |\n| -1.0 | 4 |  800 |  50 | 52490000 |\n| -0.5 | 4 |  800 |  20 | 52490000 |\n| -1.0 | 4 |  600 |  50 | 52490000 |\n| -1.0 | 4 |  600 |  20 | 52490000 |\n| -0.5 | 4 |  400 |  50 | 52490000 |\n| -0.5 | 4 |  400 |  20 | 52490000 |\n| -1.0 | 4 | 1000 | 100 | 52270000 |\n| -1.0 | 4 |  800 | 100 | 52270000 |\n| -0.5 | 4 |  600 | 100 | 52270000 |\n| -0.5 | 4 |  400 | 100 | 52270000 |\n| -1.0 | 6 | 1000 |  10 | 55960000 |\n| -0.5 | 6 |  800 |  10 | 55960000 |\n| -1.0 | 6 |  600 |  10 | 55960000 |\n| -0.5 | 6 |  400 |  10 | 55960000 |\n| -1.0 | 6 | 1000 |  50 | 54840000 |\n| -0.5 | 6 | 1000 |  20 | 54840000 |\n| -1.0 | 6 |  800 |  50 | 54840000 |\n| -0.5 | 6 |  800 |  20 | 54840000 |\n\n",
            "text/latex": "A data.table: 24 × 5\n\\begin{tabular}{lllll}\n cp & maxdepth & minsplit & minbucket & ganancia\\_mean\\\\\n <dbl> & <int> & <int> & <int> & <dbl>\\\\\n\\hline\n\t -1.0 & 4 & 1000 &  10 & 52890000\\\\\n\t -0.5 & 4 &  800 &  10 & 52890000\\\\\n\t -1.0 & 4 &  600 &  10 & 52890000\\\\\n\t -0.5 & 4 &  400 &  10 & 52890000\\\\\n\t -1.0 & 4 & 1000 &  50 & 52490000\\\\\n\t -0.5 & 4 & 1000 &  20 & 52490000\\\\\n\t -1.0 & 4 &  800 &  50 & 52490000\\\\\n\t -0.5 & 4 &  800 &  20 & 52490000\\\\\n\t -1.0 & 4 &  600 &  50 & 52490000\\\\\n\t -1.0 & 4 &  600 &  20 & 52490000\\\\\n\t -0.5 & 4 &  400 &  50 & 52490000\\\\\n\t -0.5 & 4 &  400 &  20 & 52490000\\\\\n\t -1.0 & 4 & 1000 & 100 & 52270000\\\\\n\t -1.0 & 4 &  800 & 100 & 52270000\\\\\n\t -0.5 & 4 &  600 & 100 & 52270000\\\\\n\t -0.5 & 4 &  400 & 100 & 52270000\\\\\n\t -1.0 & 6 & 1000 &  10 & 55960000\\\\\n\t -0.5 & 6 &  800 &  10 & 55960000\\\\\n\t -1.0 & 6 &  600 &  10 & 55960000\\\\\n\t -0.5 & 6 &  400 &  10 & 55960000\\\\\n\t -1.0 & 6 & 1000 &  50 & 54840000\\\\\n\t -0.5 & 6 & 1000 &  20 & 54840000\\\\\n\t -1.0 & 6 &  800 &  50 & 54840000\\\\\n\t -0.5 & 6 &  800 &  20 & 54840000\\\\\n\\end{tabular}\n",
            "text/plain": [
              "   cp   maxdepth minsplit minbucket ganancia_mean\n",
              "1  -1.0 4        1000      10       52890000     \n",
              "2  -0.5 4         800      10       52890000     \n",
              "3  -1.0 4         600      10       52890000     \n",
              "4  -0.5 4         400      10       52890000     \n",
              "5  -1.0 4        1000      50       52490000     \n",
              "6  -0.5 4        1000      20       52490000     \n",
              "7  -1.0 4         800      50       52490000     \n",
              "8  -0.5 4         800      20       52490000     \n",
              "9  -1.0 4         600      50       52490000     \n",
              "10 -1.0 4         600      20       52490000     \n",
              "11 -0.5 4         400      50       52490000     \n",
              "12 -0.5 4         400      20       52490000     \n",
              "13 -1.0 4        1000     100       52270000     \n",
              "14 -1.0 4         800     100       52270000     \n",
              "15 -0.5 4         600     100       52270000     \n",
              "16 -0.5 4         400     100       52270000     \n",
              "17 -1.0 6        1000      10       55960000     \n",
              "18 -0.5 6         800      10       55960000     \n",
              "19 -1.0 6         600      10       55960000     \n",
              "20 -0.5 6         400      10       55960000     \n",
              "21 -1.0 6        1000      50       54840000     \n",
              "22 -0.5 6        1000      20       54840000     \n",
              "23 -1.0 6         800      50       54840000     \n",
              "24 -0.5 6         800      20       54840000     "
            ]
          },
          "metadata": {}
        }
      ]
    },
    {
      "cell_type": "markdown",
      "source": [
        "### Hyperparameters"
      ],
      "metadata": {
        "id": "HiQCnQPEXcuM"
      }
    },
    {
      "cell_type": "markdown",
      "source": [
        "Aqui los hiperparámetros estan hardcodeados\n",
        "<br> Usted puede jugar con ellos manualmente\n",
        "<br> En las siguientes clases veremos como encontrar previamente los hiperparámetros óptimos, para ser copiados aquí"
      ],
      "metadata": {
        "id": "pfCLuBh4zJ2g"
      }
    },
    {
      "cell_type": "code",
      "source": [
        "param_final <- list (\n",
        "  \"cp\"= -1, # complejidad minima\n",
        "  \"minsplit\"= 250, # minima cantidad de regs en un nodo para hacer el split\n",
        "  \"minbucket\"= 100, # minima cantidad de regs en una hoja\n",
        "  \"maxdepth\"= 3 # profundidad máxima del arbol\n",
        ")"
      ],
      "metadata": {
        "id": "OaCUo3gYXgYV"
      },
      "execution_count": 5,
      "outputs": []
    },
    {
      "cell_type": "markdown",
      "source": [
        "### Training"
      ],
      "metadata": {
        "id": "0PBsV__gXqJq"
      }
    },
    {
      "cell_type": "code",
      "source": [
        "# genero el modelo,  aqui se construye el arbol\n",
        "# quiero predecir clase_ternaria a partir de el resto de las variables\n",
        "modelo_final <- rpart(\n",
        "    formula= \"ganancia_mean ~ .\",\n",
        "    data= dtrain_final, # los datos donde voy a entrenar\n",
        "    xval= 0,\n",
        "    control= param_final\n",
        ")\n"
      ],
      "metadata": {
        "id": "SZz1lLIyke0U"
      },
      "execution_count": 6,
      "outputs": []
    },
    {
      "cell_type": "markdown",
      "source": [
        "#### Impresion del modelo"
      ],
      "metadata": {
        "id": "nsZbb_9-X9EZ"
      }
    },
    {
      "cell_type": "code",
      "source": [
        "# grafico el arbol\n",
        "options(repr.plot.width=30, repr.plot.height=20 )\n",
        "\n",
        "prp(modelo_final,\n",
        "    extra= 101,\n",
        "    digits= -5,\n",
        "    branch= 1,\n",
        "    type= 4,\n",
        "    varlen= 0,\n",
        "    faclen= 0\n",
        ")"
      ],
      "metadata": {
        "id": "mAVWy614X6hJ",
        "colab": {
          "base_uri": "https://localhost:8080/",
          "height": 1000
        },
        "outputId": "e00544b2-8126-4564-c209-bc66d9596547"
      },
      "execution_count": 10,
      "outputs": [
        {
          "output_type": "display_data",
          "data": {
            "text/plain": [
              "plot without title"
            ],
            "image/png": "[encoded data removed]"
          },
          "metadata": {
            "image/png": {
              "width": 1800,
              "height": 1200
            }
          }
        }
      ]
    },
    {
      "cell_type": "markdown",
      "source": [
        "## Dataset Future"
      ],
      "metadata": {
        "id": "xN2ig210f6-N"
      }
    },
    {
      "cell_type": "markdown",
      "source": [
        "Aqui se define el dataset donde quiero hacer la prediccion final, generalmente esto viene dado por el problema y es trivial su eleccion"
      ],
      "metadata": {
        "id": "ZJioDs4Jf-lB"
      }
    },
    {
      "cell_type": "code",
      "source": [
        "dfuture <- dataset[foto_mes == 202109] # defino donde voy a aplicar el modelo"
      ],
      "metadata": {
        "id": "h7JErrOagHbH",
        "colab": {
          "base_uri": "https://localhost:8080/",
          "height": 72
        },
        "outputId": "182878a0-70ff-4685-dc23-01ecb32fd78a"
      },
      "execution_count": 8,
      "outputs": [
        {
          "output_type": "error",
          "ename": "ERROR",
          "evalue": "Error: object 'dataset' not found\n",
          "traceback": [
            "Error: object 'dataset' not found\nTraceback:\n"
          ]
        }
      ]
    },
    {
      "cell_type": "markdown",
      "source": [
        "### Scoring"
      ],
      "metadata": {
        "id": "spyjXPVYj6Nk"
      }
    },
    {
      "cell_type": "markdown",
      "source": [
        "Aplico el modelo_final a los datos del futuro"
      ],
      "metadata": {
        "id": "CNMKS5m6gLX-"
      }
    },
    {
      "cell_type": "code",
      "source": [
        "# aplico el modelo a los datos nuevos\n",
        "prediccion <- predict(\n",
        "    object= modelo_final,\n",
        "    newdata= dfuture,\n",
        "    type= \"prob\"\n",
        ")\n",
        "\n",
        "# veo que  quedó en predccion\n",
        "# es una matriz, una linea por registro del dataset dfuture\n",
        "# una columna para cada uno de los valores de la clase\n",
        "prediccion"
      ],
      "metadata": {
        "id": "2iS68RYaZhLJ"
      },
      "execution_count": null,
      "outputs": []
    },
    {
      "cell_type": "markdown",
      "source": [
        "## Tabla Prediccion"
      ],
      "metadata": {
        "id": "YgEJUN2ZlLZN"
      }
    },
    {
      "cell_type": "code",
      "source": [
        "tb_prediccion <- as.data.table(list(\n",
        "  \"numero_de_cliente\" = dfuture$numero_de_cliente,\n",
        "  \"prob\"=prediccion[, \"BAJA+2\"]\n",
        "))"
      ],
      "metadata": {
        "id": "-UbcZ6u4lwuK",
        "colab": {
          "base_uri": "https://localhost:8080/",
          "height": 228
        },
        "outputId": "68588f88-389a-4f24-df53-4905e171f164"
      },
      "execution_count": 9,
      "outputs": [
        {
          "output_type": "error",
          "ename": "ERROR",
          "evalue": "Error: object 'dfuture' not found\n",
          "traceback": [
            "Error: object 'dfuture' not found\nTraceback:\n",
            "1. .handleSimpleError(function (cnd) \n . {\n .     watcher$capture_plot_and_output()\n .     cnd <- sanitize_call(cnd)\n .     watcher$push(cnd)\n .     switch(on_error, continue = invokeRestart(\"eval_continue\"), \n .         stop = invokeRestart(\"eval_stop\"), error = NULL)\n . }, \"object 'dfuture' not found\", base::quote(eval(expr, envir)))"
          ]
        }
      ]
    },
    {
      "cell_type": "markdown",
      "source": [
        "## Decision"
      ],
      "metadata": {
        "id": "lbFzDPDwWcnM"
      }
    },
    {
      "cell_type": "code",
      "source": [
        "# decido a quien se envia estimulo y a quien no\n",
        "# como trabajo con clase_ternaria puedo hacer el corte en 1/40\n",
        "# solo le envio estimulo a los registros\n",
        "#  con probabilidad de BAJA+2 mayor  a  1/40\n",
        "\n",
        "tb_prediccion[, Predicted := prob > (1/40) ]\n",
        "\n",
        "# veo que hay en tb_prediccion\n",
        "tb_prediccion"
      ],
      "metadata": {
        "id": "m_8lCAWKWgbu"
      },
      "execution_count": null,
      "outputs": []
    },
    {
      "cell_type": "markdown",
      "source": [
        "## Kaggle"
      ],
      "metadata": {
        "id": "x8wauYqsn159"
      }
    },
    {
      "cell_type": "code",
      "source": [
        "# genero el archivo para Kaggle\n",
        "# en el formato requerido por Kaggle\n",
        "# <numero_de_cliente, Predicted>  separados por coma, estension .csv\n",
        "\n",
        "archivo_kaggle <- \"K101_001.csv\"\n",
        "\n",
        "fwrite( tb_prediccion[, list(numero_de_cliente, Predicted)],\n",
        "    file = archivo_kaggle,\n",
        "    sep = \",\"\n",
        ")"
      ],
      "metadata": {
        "id": "F3t1x1FWdNiK"
      },
      "execution_count": null,
      "outputs": []
    },
    {
      "cell_type": "markdown",
      "source": [
        "### Kaggle Competition Submit"
      ],
      "metadata": {
        "id": "fZ2TFi8IjkqS"
      }
    },
    {
      "cell_type": "markdown",
      "source": [
        "Google Colab ya trae instalada una libreria llamada **kaggle** de python, que permite hacer submits a la Plataforma Kaggle"
      ],
      "metadata": {
        "id": "tHgAYi8PfOja"
      }
    },
    {
      "cell_type": "code",
      "source": [
        "comando <- \"kaggle competitions submit\"\n",
        "competencia <- \"-c labo-i-2025-virtual-analista-sr\"\n",
        "arch <- paste( \"-f\", archivo_kaggle)"
      ],
      "metadata": {
        "id": "ssU7YGxzg9ks"
      },
      "execution_count": null,
      "outputs": []
    },
    {
      "cell_type": "code",
      "source": [
        "mensaje <-  paste0( \"-m 'cp=\", param_final$cp, \"  minsplit=\", param_final$minsplit, \"  minbucket=\", param_final$minbucket, \"  maxdepth=\", param_final$maxdepth, \"'\")"
      ],
      "metadata": {
        "id": "SgkMHQU_hbH_"
      },
      "execution_count": null,
      "outputs": []
    },
    {
      "cell_type": "code",
      "source": [
        "linea <- paste( comando, competencia, arch, mensaje)\n",
        "\n",
        "# este el el comando que correria desde el prompt de Linux\n",
        "linea"
      ],
      "metadata": {
        "id": "pxY7faTRiSPm"
      },
      "execution_count": null,
      "outputs": []
    },
    {
      "cell_type": "code",
      "source": [
        "# ejecuto el comando\n",
        "salida <- system(linea, intern=TRUE)\n",
        "cat(salida)"
      ],
      "metadata": {
        "id": "S_uqWh7KhgQr"
      },
      "execution_count": null,
      "outputs": []
    },
    {
      "cell_type": "markdown",
      "source": [
        "## Tarea para el Hogar"
      ],
      "metadata": {
        "id": "yOPAzXbyvfVu"
      }
    },
    {
      "cell_type": "markdown",
      "source": [
        "Explorar manualmente que hiperparámetros genera una mayor ganancia en Kaggle\n",
        "<br> Si en un momento logra quedar en primera posición del Private Leaderboard, saquese una selfie"
      ],
      "metadata": {
        "id": "1m6BshdUvjqv"
      }
    }
  ]
}