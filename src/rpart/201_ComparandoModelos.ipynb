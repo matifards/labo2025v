{
  "nbformat": 4,
  "nbformat_minor": 0,
  "metadata": {
    "colab": {
      "provenance": [],
      "include_colab_link": true
    },
    "kernelspec": {
      "name": "ir",
      "display_name": "R"
    },
    "language_info": {
      "name": "R"
    }
  },
  "cells": [
    {
      "cell_type": "markdown",
      "metadata": {
        "id": "view-in-github",
        "colab_type": "text"
      },
      "source": [
        "<a href=\"https://colab.research.google.com/github/matifards/labo2025v/blob/main/src/rpart/201_ComparandoModelos.ipynb\" target=\"_parent\"><img src=\"https://colab.research.google.com/assets/colab-badge.svg\" alt=\"Open In Colab\"/></a>"
      ]
    },
    {
      "cell_type": "markdown",
      "source": [
        "# Comparando Modelos"
      ],
      "metadata": {
        "id": "5DrvzQ9BsXmX"
      }
    },
    {
      "cell_type": "markdown",
      "source": [
        "Estamos en la  Clase 02\n",
        "<br> El objetivo de la materia es lograr la mejor predicción para nuestro probleama, para lo que se probarán pipelines con decenas de alternativas, será indispensable comparar varios modelos predictivos entre sí y decidir cual es el mejor\n",
        "<br> La tarea no es tan sencilla"
      ],
      "metadata": {
        "id": "Y2U9lu16sgta"
      }
    },
    {
      "cell_type": "markdown",
      "source": [
        "## Seteo del ambiente en Google Colab"
      ],
      "metadata": {
        "id": "kmLygy1TYPfg"
      }
    },
    {
      "cell_type": "markdown",
      "source": [],
      "metadata": {
        "id": "okJkrJW95XKf"
      }
    },
    {
      "cell_type": "markdown",
      "source": [
        "Esta parte se debe correr con el runtime en Python3\n",
        "<br>Ir al menu, Runtime -> Change Runtime Tipe -> Runtime type ->  **Python 3**"
      ],
      "metadata": {
        "id": "OikOm5K2YU3X"
      }
    },
    {
      "cell_type": "markdown",
      "source": [
        "Conectar la virtual machine donde esta corriendo Google Colab con el  Google Drive, para poder tener persistencia de archivos"
      ],
      "metadata": {
        "id": "4fmV5LyZdFyI"
      }
    },
    {
      "cell_type": "code",
      "source": [
        "# primero establecer el Runtime de Python 3\n",
        "from google.colab import drive\n",
        "drive.mount('/content/.drive')"
      ],
      "metadata": {
        "id": "ilEZ-bE2VybW",
        "outputId": "01bdbf0d-9fb4-4059-b4b7-85230fb562cc",
        "colab": {
          "base_uri": "https://localhost:8080/"
        }
      },
      "execution_count": 1,
      "outputs": [
        {
          "output_type": "stream",
          "name": "stdout",
          "text": [
            "Drive already mounted at /content/.drive; to attempt to forcibly remount, call drive.mount(\"/content/.drive\", force_remount=True).\n"
          ]
        }
      ]
    },
    {
      "cell_type": "markdown",
      "source": [
        "Para correr la siguiente celda es fundamental en Arranque en Frio haber copiado el archivo kaggle.json al Google Drive, en la carpeta indicada en el instructivo\n",
        "\n",
        "<br>los siguientes comando estan en shell script de Linux\n",
        "*   Crear las carpetas en el Google Drive\n",
        "*   \"instalar\" el archivo kaggle.json desde el Google Drive a la virtual machine para que pueda ser utilizado por la libreria  kaggle de Python\n",
        "*   Bajar el  **dataset_pequeno**  al  Google Drive  y tambien al disco local de la virtual machine que esta corriendo Google Colab\n",
        "\n"
      ],
      "metadata": {
        "id": "ilaKtqWldeWg"
      }
    },
    {
      "cell_type": "code",
      "source": [
        "%%shell\n",
        "\n",
        "mkdir -p \"/content/.drive/My Drive/labo1\"\n",
        "mkdir -p \"/content/buckets\"\n",
        "ln -s \"/content/.drive/My Drive/labo1\" /content/buckets/b1\n",
        "\n",
        "mkdir -p ~/.kaggle\n",
        "cp /content/buckets/b1/kaggle/kaggle.json  ~/.kaggle\n",
        "chmod 600 ~/.kaggle/kaggle.json\n",
        "\n",
        "\n",
        "mkdir -p /content/buckets/b1/exp\n",
        "mkdir -p /content/buckets/b1/datasets\n",
        "mkdir -p /content/datasets\n",
        "\n",
        "\n",
        "\n",
        "archivo_origen=\"https://storage.googleapis.com/open-courses/austral2025-af91/dataset_pequeno.csv\"\n",
        "archivo_destino=\"/content/datasets/dataset_pequeno.csv\"\n",
        "archivo_destino_bucket=\"/content/buckets/b1/datasets/dataset_pequeno.csv\"\n",
        "\n",
        "if ! test -f $archivo_destino_bucket; then\n",
        "  wget  $archivo_origen  -O $archivo_destino_bucket\n",
        "fi\n",
        "\n",
        "\n",
        "if ! test -f $archivo_destino; then\n",
        "  cp  $archivo_destino_bucket  $archivo_destino\n",
        "fi\n"
      ],
      "metadata": {
        "id": "W8dQFI5QYCFa",
        "outputId": "cce3a3b5-ba18-4fdd-e01e-f4fbd32bd5ec",
        "colab": {
          "base_uri": "https://localhost:8080/"
        }
      },
      "execution_count": 2,
      "outputs": [
        {
          "output_type": "stream",
          "name": "stdout",
          "text": [
            "ln: failed to create symbolic link '/content/buckets/b1/labo1': File exists\n"
          ]
        },
        {
          "output_type": "execute_result",
          "data": {
            "text/plain": []
          },
          "metadata": {},
          "execution_count": 2
        }
      ]
    },
    {
      "cell_type": "markdown",
      "source": [
        "# 1  Particion Training/Testing\n",
        "## Clase 02  Experimento 1"
      ],
      "metadata": {
        "id": "iV32-NeesVp6"
      }
    },
    {
      "cell_type": "markdown",
      "source": [
        "## 1.1  Objetivos\n",
        "Dado que es el primer experimento de la asignatura, acercar a l@s estudiantes las mejores prácticas de operación del ambiente de Google Cloud, realizando una minuciosa demostración en vivo narrando todas las consideraciones pertinentes para evitar accidentes, daños a terceros y a equipos.\n",
        "Dar soporte en el acto a  l@s estudiantes que necesitan ayuda para terminar de configurar el ambiente Google Cloud .\n",
        "<br>Repaso del concepto de  partición de un dataset al azar, estratificada en la clase\n",
        "<br>Dado que es el primer script que se mostrará en vivo a l@s estudiantes,  realizar una visita guiada del  mismo, su estructura y detalles.\n",
        "<br>Repaso del algoritmo Arbol de Decisión sus hiperparámetros, y la implementación con la librería  rpart.  Funciones  rpart::rpart  y rpart::predict\n",
        "<br>Concepto de replicabilidad de los experimentos mediante las semillas de los generadores de secuencias de números pseudoaleatorios.\n",
        "<br>Finalmente, el principal objetivo de este experimento es lograr que l@s estudiantes dimensionen la enorme variabilidad del error de medición de la ganancia de un árbol de decisión al realizar una partición <training, testing>,  contener la sorpresa de los estudiantes, descartar a la simple particion <training, testing> como método,  y construir en conjunto una solucion natural al problema."
      ],
      "metadata": {
        "id": "84Pnj9gVwpXB"
      }
    },
    {
      "cell_type": "markdown",
      "source": [
        "## 1.2 Introduccion"
      ],
      "metadata": {
        "id": "L9Cn0WThw37Y"
      }
    },
    {
      "cell_type": "markdown",
      "source": [
        "![Particiohn Training/Testing](https://storage.googleapis.com/open-courses/austral2025-af91/labo1r/C2_E1_particion.jpg)"
      ],
      "metadata": {
        "id": "ZELZ0R4itUVG"
      }
    },
    {
      "cell_type": "markdown",
      "source": [
        "![Dos tipos de error](https://storage.googleapis.com/open-courses/austral2025-af91/labo1r/C2_E1_target.jpg)"
      ],
      "metadata": {
        "id": "Wtc1ho58xLk-"
      }
    },
    {
      "cell_type": "markdown",
      "source": [
        "## 1.3  Bibliografía\n",
        "\n",
        "Demšar, J. [Statistical comparisons of classifiers over multiple data sets](https://www.jmlr.org/papers/volume7/demsar06a/demsar06a.pdf) J. Mach. Learn. Res. 7, 1–30 (2006).   \n",
        "Starmer, J. [Machine Learning Fundamentals: Cross Validation](https://www.youtube.com/watch?v=fSytzGwwBVw)Machine Learning Fundamentals: Cross Validation, StatQuest with Josh Starmer youtube channel, (2018)\n",
        "Hastie, T.[The elements of statistical learning: data mining, inference, and prediction](https://hastie.su.domains/Papers/ESLII.pdf) , volume 2. Springer, 2009  ( Chapter 7 Model Assessment and Selection )"
      ],
      "metadata": {
        "id": "oRWtRV34xZRT"
      }
    },
    {
      "cell_type": "markdown",
      "source": [
        "## 1.4 Codigo"
      ],
      "metadata": {
        "id": "VcgTQ2-Pyb8q"
      }
    },
    {
      "cell_type": "markdown",
      "source": [
        "Esta parte se debe correr con el runtime en lenguaje **R** Ir al menu, Runtime -> Change Runtime Tipe -> Runtime type -> R"
      ],
      "metadata": {
        "id": "SBXPU-_tabMb"
      }
    },
    {
      "cell_type": "markdown",
      "source": [
        "limpio el ambiente de R"
      ],
      "metadata": {
        "id": "SE94XRhWsxkX"
      }
    },
    {
      "cell_type": "code",
      "source": [
        "# limpio la memoria\n",
        "rm(list=ls(all.names=TRUE)) # remove all objects\n",
        "gc(full=TRUE, verbose=FALSE) # garbage collection"
      ],
      "metadata": {
        "id": "oZG_4br6szlT",
        "outputId": "680f6a23-c9e4-448a-9fc0-3846b03b6750",
        "colab": {
          "base_uri": "https://localhost:8080/",
          "height": 129
        }
      },
      "execution_count": null,
      "outputs": [
        {
          "output_type": "display_data",
          "data": {
            "text/html": [
              "<table class=\"dataframe\">\n",
              "<caption>A matrix: 2 × 6 of type dbl</caption>\n",
              "<thead>\n",
              "\t<tr><th></th><th scope=col>used</th><th scope=col>(Mb)</th><th scope=col>gc trigger</th><th scope=col>(Mb)</th><th scope=col>max used</th><th scope=col>(Mb)</th></tr>\n",
              "</thead>\n",
              "<tbody>\n",
              "\t<tr><th scope=row>Ncells</th><td> 656590</td><td>35.1</td><td>1454460</td><td>77.7</td><td>1321660</td><td>70.6</td></tr>\n",
              "\t<tr><th scope=row>Vcells</th><td>1219461</td><td> 9.4</td><td>8388608</td><td>64.0</td><td>1975127</td><td>15.1</td></tr>\n",
              "</tbody>\n",
              "</table>\n"
            ],
            "text/markdown": "\nA matrix: 2 × 6 of type dbl\n\n| <!--/--> | used | (Mb) | gc trigger | (Mb) | max used | (Mb) |\n|---|---|---|---|---|---|---|\n| Ncells |  656590 | 35.1 | 1454460 | 77.7 | 1321660 | 70.6 |\n| Vcells | 1219461 |  9.4 | 8388608 | 64.0 | 1975127 | 15.1 |\n\n",
            "text/latex": "A matrix: 2 × 6 of type dbl\n\\begin{tabular}{r|llllll}\n  & used & (Mb) & gc trigger & (Mb) & max used & (Mb)\\\\\n\\hline\n\tNcells &  656590 & 35.1 & 1454460 & 77.7 & 1321660 & 70.6\\\\\n\tVcells & 1219461 &  9.4 & 8388608 & 64.0 & 1975127 & 15.1\\\\\n\\end{tabular}\n",
            "text/plain": [
              "       used    (Mb) gc trigger (Mb) max used (Mb)\n",
              "Ncells  656590 35.1 1454460    77.7 1321660  70.6\n",
              "Vcells 1219461  9.4 8388608    64.0 1975127  15.1"
            ]
          },
          "metadata": {}
        }
      ]
    },
    {
      "cell_type": "code",
      "source": [
        "Sys.time()"
      ],
      "metadata": {
        "id": "pJ8SsVA5ssnf",
        "outputId": "682e3537-5d6a-43b6-cedd-b9d2b3cb00e5",
        "colab": {
          "base_uri": "https://localhost:8080/",
          "height": 35
        }
      },
      "execution_count": null,
      "outputs": [
        {
          "output_type": "display_data",
          "data": {
            "text/plain": [
              "[1] \"2025-09-30 23:20:29 UTC\""
            ]
          },
          "metadata": {}
        }
      ]
    },
    {
      "cell_type": "markdown",
      "source": [
        "* Instalacion de la libreria  rpart.plot  para dibujar el arbol\n",
        "* invocacion de las librerias  **data.table** y  **rpart**"
      ],
      "metadata": {
        "id": "3BrrQ47PeEb2"
      }
    },
    {
      "cell_type": "code",
      "source": [
        "# cargo las librerias que necesito\n",
        "require(\"data.table\")\n",
        "require(\"rpart\")\n"
      ],
      "metadata": {
        "id": "SxO-0Ql0khn6",
        "outputId": "9599e0cf-e0eb-4020-ff8b-47de662b4b21",
        "colab": {
          "base_uri": "https://localhost:8080/"
        }
      },
      "execution_count": null,
      "outputs": [
        {
          "output_type": "stream",
          "name": "stderr",
          "text": [
            "Loading required package: data.table\n",
            "\n",
            "Loading required package: rpart\n",
            "\n"
          ]
        }
      ]
    },
    {
      "cell_type": "markdown",
      "source": [
        "###  Accion a Realizar\n",
        "PARAM$semilla  debe tener su primer semilla aleatoria"
      ],
      "metadata": {
        "id": "ZG9fCnZh3bWV"
      }
    },
    {
      "cell_type": "code",
      "source": [
        "PARAM <- list()\n",
        "PARAM$semilla <- 540347 # aqui debe ir su primer semilla (102191) este estaba\n",
        "PARAM$training_pct <- 70L  # entre  1L y 99L\n",
        "\n",
        "PARAM$rpart <- list (\n",
        "  \"cp\" = -1, # complejidad minima\n",
        "  \"minsplit\" = 170, # minima cantidad de regs en un nodo para hacer el split\n",
        "  \"minbucket\" = 70, # minima cantidad de regs en una hoja\n",
        "  \"maxdepth\" = 7 # profundidad máxima del arbol\n",
        ")\n"
      ],
      "metadata": {
        "id": "0nx5_OcE3Y9c"
      },
      "execution_count": null,
      "outputs": []
    },
    {
      "cell_type": "code",
      "source": [
        "# particionar agrega una columna llamada fold a un dataset\n",
        "#  que consiste en una particion estratificada segun agrupa\n",
        "\n",
        "# particionar( data=dataset, division=c(70,30),\n",
        "#  agrupa=clase_ternaria, seed=semilla)   crea una particion 70, 30\n",
        "\n",
        "particionar <- function(\n",
        "    data, division, agrupa = \"\",\n",
        "    campo = \"fold\", start = 1, seed = NA) {\n",
        "  if (!is.na(seed)) set.seed(seed)\n",
        "\n",
        "  bloque <- unlist(mapply(function(x, y) {\n",
        "    rep(y, x)\n",
        "  }, division, seq(from = start, length.out = length(division))))\n",
        "\n",
        "  data[, (campo) := sample(rep(bloque, ceiling(.N / length(bloque))))[1:.N],\n",
        "    by = agrupa\n",
        "  ]\n",
        "}\n"
      ],
      "metadata": {
        "id": "8HLE9Dx80gjH"
      },
      "execution_count": null,
      "outputs": []
    },
    {
      "cell_type": "code",
      "source": [
        "# carpeta de trabajo\n",
        "setwd(\"/content/buckets/b1/exp\")\n",
        "experimento <- \"exp201\"\n",
        "dir.create(experimento, showWarnings=FALSE)\n",
        "setwd( paste0(\"/content/buckets/b1/exp/\", experimento ))"
      ],
      "metadata": {
        "id": "sC4_nqcm0nUs"
      },
      "execution_count": null,
      "outputs": []
    },
    {
      "cell_type": "code",
      "source": [
        "# lectura del dataset\n",
        "dataset <- fread(\"/content/datasets/dataset_pequeno.csv\")\n",
        "\n",
        "# trabajo solo con los datos con clase, es decir 202107\n",
        "dataset <- dataset[clase_ternaria != \"\"]"
      ],
      "metadata": {
        "id": "6yIEsZOw07q8"
      },
      "execution_count": null,
      "outputs": []
    },
    {
      "cell_type": "code",
      "source": [
        "# particiono estratificadamente el dataset 70%, 30%\n",
        "particionar(dataset,\n",
        "  division = c(PARAM$training_pct, 100L -PARAM$training_pct),\n",
        "  agrupa = \"clase_ternaria\",\n",
        "  seed = PARAM$semilla # aqui se usa SU semilla\n",
        ")\n",
        "\n"
      ],
      "metadata": {
        "id": "FAO1Hhd52b5d"
      },
      "execution_count": null,
      "outputs": []
    },
    {
      "cell_type": "code",
      "source": [
        "# genero el modelo\n",
        "# quiero predecir clase_ternaria a partir del resto\n",
        "# fold==1  es training,  el 70% de los datos\n",
        "modelo <- rpart(\"clase_ternaria ~ .\",\n",
        "  data = dataset[fold == 1],  # fold==1  es training, el 70% de los datos\n",
        "  xval = 0,\n",
        "  control = PARAM$rpart # aqui van los parametros\n",
        ")\n"
      ],
      "metadata": {
        "id": "s3UnHSLP2gN6"
      },
      "execution_count": null,
      "outputs": []
    },
    {
      "cell_type": "code",
      "source": [
        "# aplico el modelo a los datos de testing\n",
        "prediccion <- predict(modelo, # el modelo que genere recien\n",
        "  dataset[fold == 2], # fold==2  es testing, el 30% de los datos\n",
        "  type = \"prob\"\n",
        ") # type= \"prob\"  es que devuelva la probabilidad\n"
      ],
      "metadata": {
        "id": "paQphV4A2jGz"
      },
      "execution_count": null,
      "outputs": []
    },
    {
      "cell_type": "code",
      "source": [
        "tb_prediccion <- as.data.table(list(\n",
        "  \"clase_ternaria\"=dataset[fold == 2, clase_ternaria],\n",
        "  \"prob\"=prediccion[, \"BAJA+2\"]\n",
        "))"
      ],
      "metadata": {
        "id": "fuLZ75pA29dT"
      },
      "execution_count": null,
      "outputs": []
    },
    {
      "cell_type": "code",
      "source": [
        "# calculo la ganancia de cada registro\n",
        "tb_prediccion[, ganancia := ifelse(clase_ternaria == \"BAJA+2\", 117000, -3000)]"
      ],
      "metadata": {
        "id": "LuG6ql_t3kOI"
      },
      "execution_count": null,
      "outputs": []
    },
    {
      "cell_type": "code",
      "source": [
        "# calculo la clase\n",
        "tb_prediccion[, Predicted := prob > (1/40) ]"
      ],
      "metadata": {
        "id": "xJ3WTMez3leO"
      },
      "execution_count": null,
      "outputs": []
    },
    {
      "cell_type": "code",
      "source": [
        "ganancia_test <-  tb_prediccion[ Predicted==TRUE,  sum(ganancia)]"
      ],
      "metadata": {
        "id": "cFQPacen4Wq6"
      },
      "execution_count": null,
      "outputs": []
    },
    {
      "cell_type": "code",
      "source": [
        "# normalizo la ganancia\n",
        "ganancia_test_normalizada <- ganancia_test / (( 100 - PARAM$training_pct ) / 100 )"
      ],
      "metadata": {
        "id": "dHjz0zhN4-nZ"
      },
      "execution_count": null,
      "outputs": []
    },
    {
      "cell_type": "code",
      "source": [
        "estimulos <- tb_prediccion[ Predicted==TRUE, .N]\n",
        "aciertos <- tb_prediccion[ Predicted & clase_ternaria == \"BAJA+2\", .N]\n"
      ],
      "metadata": {
        "id": "D7RUdTb95F6B"
      },
      "execution_count": null,
      "outputs": []
    },
    {
      "cell_type": "code",
      "source": [
        "# Resultado Final\n",
        "cat(\"Testing total: \", dataset[fold == 2, .N], \"\\n\")\n",
        "cat(\"Testing BAJA+2: \", dataset[fold == 2 & clase_ternaria == \"BAJA+2\", .N], \"\\n\")\n",
        "\n",
        "cat(\"Estimulos: \", estimulos, \"\\n\")\n",
        "cat(\"Aciertos (BAJA+2): \", aciertos, \"\\n\")\n",
        "\n",
        "cat(\"Ganancia en testing (normalizada): \", ganancia_test_normalizada, \"\\n\")\n"
      ],
      "metadata": {
        "id": "Lu1KM6fy5U7h",
        "outputId": "f78799df-9981-4401-d2f8-9e1be208468a",
        "colab": {
          "base_uri": "https://localhost:8080/"
        }
      },
      "execution_count": null,
      "outputs": [
        {
          "output_type": "stream",
          "name": "stdout",
          "text": [
            "Testing total:  49388 \n",
            "Testing BAJA+2:  380 \n",
            "Estimulos:  3321 \n",
            "Aciertos (BAJA+2):  209 \n",
            "Ganancia en testing (normalizada):  50390000 \n"
          ]
        }
      ]
    },
    {
      "cell_type": "markdown",
      "source": [
        "### Acciones a realizar\n",
        "* Reportar la  *Ganancia en testing (normalizada)* <br> en la planilla colaborativa hoja  **C2-1sem**\n",
        "* Se discutirá en clase la variabilidad de las ganancias obtenidas de distintos alumnos"
      ],
      "metadata": {
        "id": "kHs-YoFB5rUa"
      }
    },
    {
      "cell_type": "markdown",
      "source": [
        "\n",
        "\n",
        "---\n",
        "\n"
      ],
      "metadata": {
        "id": "LBl_eIeO7WuM"
      }
    },
    {
      "cell_type": "markdown",
      "source": [
        "# 2  Medición Monte Carlo Cross Validation\n",
        "## Clase 02  Experimento 2"
      ],
      "metadata": {
        "id": "h43UCq9y7UlT"
      }
    },
    {
      "cell_type": "markdown",
      "source": [
        "## 2.1  Objetivos\n",
        "Mostrar el funcionamiento de la Montecarlo Cross Validation y que l@s estudiantes aprecien la disminución de la varianza de dicha metodología.\n",
        "Relación con el Teorema Central del Límite"
      ],
      "metadata": {
        "id": "wHPchGXK80VU"
      }
    },
    {
      "cell_type": "markdown",
      "source": [
        "## 2.2 Introduccion\n",
        "\n",
        "![Montecarlo](https://storage.googleapis.com/open-courses/austral2025-af91/labo1r/C2_E2_montecarlo.jpg)\n",
        "\n",
        "![Curva normal](https://storage.googleapis.com/open-courses/austral2025-af91/labo1r/C2_E2_normal.jpg)\n",
        "\n",
        "![Teorema Central del Limite](https://storage.googleapis.com/open-courses/austral2025-af91/labo1r/C2_E2_teoremacentralLimite.jpg)\n",
        "\n"
      ],
      "metadata": {
        "id": "g6YzACxl9DzS"
      }
    },
    {
      "cell_type": "markdown",
      "source": [],
      "metadata": {
        "id": "7laod2t4ArsH"
      }
    },
    {
      "cell_type": "markdown",
      "source": [
        "## 2.3  Bibliografía\n",
        "\n",
        "Demšar, J. [Statistical comparisons of classifiers over multiple data sets](https://www.jmlr.org/papers/volume7/demsar06a/demsar06a.pdf) J. Mach. Learn. Res. 7, 1–30 (2006).   \n",
        "Starmer, J. [Machine Learning Fundamentals: Cross Validation](https://www.youtube.com/watch?v=fSytzGwwBVw)Machine Learning Fundamentals: Cross Validation, StatQuest with Josh Starmer youtube channel, (2018)\n",
        "Hastie, T.[The elements of statistical learning: data mining, inference, and prediction](https://hastie.su.domains/Papers/ESLII.pdf) , volume 2. Springer, 2009  ( Chapter 7 Model Assessment and Selection )"
      ],
      "metadata": {
        "id": "lFcJeRAkAr-q"
      }
    },
    {
      "cell_type": "code",
      "source": [],
      "metadata": {
        "id": "KXSuYXQ26cLV"
      },
      "execution_count": null,
      "outputs": []
    },
    {
      "cell_type": "markdown",
      "source": [
        "## 2.4 Codigo  Montecarlo"
      ],
      "metadata": {
        "id": "0ztZzYolA2WK"
      }
    },
    {
      "cell_type": "markdown",
      "source": [
        "El código de la Montecarlo Cross Validation es notablemente más complejo que el anterior de una simple partición training/testing\n",
        "<br> Se crea la funcion ArbolEstimarGanancia()  que dada una semilla realiza la partición  training/testing, entrena en training, aplica el modelo a testing, y se calculan las ganancias\n",
        "<br> Se utiliza la funcion **mcmapply**  de R para aplicar ArbolEstimarGanancia a todos los elementos del vector de semillas"
      ],
      "metadata": {
        "id": "KLa06ZsiC-Oz"
      }
    },
    {
      "cell_type": "markdown",
      "source": [
        "Esta parte se debe correr con el runtime en lenguaje **R** Ir al menu, Runtime -> Change Runtime Tipe -> Runtime type -> R"
      ],
      "metadata": {
        "id": "ivFiBBOQA2Ws"
      }
    },
    {
      "cell_type": "markdown",
      "source": [
        "limpio el ambiente de R"
      ],
      "metadata": {
        "id": "TMSAQDXuA2Ws"
      }
    },
    {
      "cell_type": "code",
      "source": [
        "# limpio la memoria\n",
        "rm(list=ls(all.names=TRUE)) # remove all objects\n",
        "gc(full=TRUE, verbose=FALSE) # garbage collection"
      ],
      "metadata": {
        "id": "eakzb8y2A2Wt",
        "outputId": "d18d3fd5-dea7-478f-805f-cbe2f5889d13",
        "colab": {
          "base_uri": "https://localhost:8080/",
          "height": 129
        }
      },
      "execution_count": null,
      "outputs": [
        {
          "output_type": "display_data",
          "data": {
            "text/html": [
              "<table class=\"dataframe\">\n",
              "<caption>A matrix: 2 × 6 of type dbl</caption>\n",
              "<thead>\n",
              "\t<tr><th></th><th scope=col>used</th><th scope=col>(Mb)</th><th scope=col>gc trigger</th><th scope=col>(Mb)</th><th scope=col>max used</th><th scope=col>(Mb)</th></tr>\n",
              "</thead>\n",
              "<tbody>\n",
              "\t<tr><th scope=row>Ncells</th><td> 744306</td><td>39.8</td><td>  1454460</td><td> 77.7</td><td>  1454460</td><td> 77.7</td></tr>\n",
              "\t<tr><th scope=row>Vcells</th><td>1411569</td><td>10.8</td><td>101951296</td><td>777.9</td><td>106041416</td><td>809.1</td></tr>\n",
              "</tbody>\n",
              "</table>\n"
            ],
            "text/markdown": "\nA matrix: 2 × 6 of type dbl\n\n| <!--/--> | used | (Mb) | gc trigger | (Mb) | max used | (Mb) |\n|---|---|---|---|---|---|---|\n| Ncells |  744306 | 39.8 |   1454460 |  77.7 |   1454460 |  77.7 |\n| Vcells | 1411569 | 10.8 | 101951296 | 777.9 | 106041416 | 809.1 |\n\n",
            "text/latex": "A matrix: 2 × 6 of type dbl\n\\begin{tabular}{r|llllll}\n  & used & (Mb) & gc trigger & (Mb) & max used & (Mb)\\\\\n\\hline\n\tNcells &  744306 & 39.8 &   1454460 &  77.7 &   1454460 &  77.7\\\\\n\tVcells & 1411569 & 10.8 & 101951296 & 777.9 & 106041416 & 809.1\\\\\n\\end{tabular}\n",
            "text/plain": [
              "       used    (Mb) gc trigger (Mb)  max used  (Mb) \n",
              "Ncells  744306 39.8   1454460   77.7   1454460  77.7\n",
              "Vcells 1411569 10.8 101951296  777.9 106041416 809.1"
            ]
          },
          "metadata": {}
        }
      ]
    },
    {
      "cell_type": "markdown",
      "source": [
        "* Instalacion de la libreria  rpart.plot  para dibujar el arbol\n",
        "* invocacion de las librerias  **data.table** y  **rpart**"
      ],
      "metadata": {
        "id": "559RkeYZA2Wv"
      }
    },
    {
      "cell_type": "code",
      "source": [
        "# cargo las librerias que necesito\n",
        "require(\"data.table\")\n",
        "require(\"rpart\")\n",
        "require(\"parallel\")"
      ],
      "metadata": {
        "id": "yf_S_HlsA2Wv",
        "outputId": "0cea832e-87d2-4b33-eecf-6c65dddb97be",
        "colab": {
          "base_uri": "https://localhost:8080/"
        }
      },
      "execution_count": null,
      "outputs": [
        {
          "output_type": "stream",
          "name": "stderr",
          "text": [
            "Loading required package: parallel\n",
            "\n"
          ]
        }
      ]
    },
    {
      "cell_type": "markdown",
      "source": [
        "###  Accion a Realizar\n",
        "PARAM$semillas  debe tener sus cinco semillas aleatorias"
      ],
      "metadata": {
        "id": "a4oz2ulCA2Ww"
      }
    },
    {
      "cell_type": "code",
      "source": [
        "PARAM <- list()\n",
        "PARAM$semillas <- c(540347, 617873, 794887, 819853, 904559)  # aqui debe ir sus CINCO\n",
        "PARAM$training_pct <- 70L  # entre  1L y 99L\n",
        "\n",
        "PARAM$rpart <- list (\n",
        "  \"cp\" = -1, # complejidad minima\n",
        "  \"minsplit\" = 170, # minima cantidad de regs en un nodo para hacer el split\n",
        "  \"minbucket\" = 70, # minima cantidad de regs en una hoja\n",
        "  \"maxdepth\" = 7 # profundidad máxima del arbol\n",
        ")\n"
      ],
      "metadata": {
        "id": "yQ2OAP5AA2Wx"
      },
      "execution_count": null,
      "outputs": []
    },
    {
      "cell_type": "code",
      "source": [
        "# particionar agrega una columna llamada fold a un dataset\n",
        "#  que consiste en una particion estratificada segun agrupa\n",
        "\n",
        "# particionar( data=dataset, division=c(70,30),\n",
        "#  agrupa=clase_ternaria, seed=semilla)   crea una particion 70, 30\n",
        "\n",
        "particionar <- function(\n",
        "    data, division, agrupa = \"\",\n",
        "    campo = \"fold\", start = 1, seed = NA) {\n",
        "  if (!is.na(seed)) set.seed(seed)\n",
        "\n",
        "  bloque <- unlist(mapply(function(x, y) {\n",
        "    rep(y, x)\n",
        "  }, division, seq(from = start, length.out = length(division))))\n",
        "\n",
        "  data[, (campo) := sample(rep(bloque, ceiling(.N / length(bloque))))[1:.N],\n",
        "    by = agrupa\n",
        "  ]\n",
        "}\n"
      ],
      "metadata": {
        "id": "97dMCVJWA2Wy"
      },
      "execution_count": null,
      "outputs": []
    },
    {
      "cell_type": "code",
      "source": [
        "\n",
        "ArbolEstimarGanancia <- function(semilla, param_basicos) {\n",
        "  # particiono estratificadamente el dataset\n",
        "  particionar(dataset,\n",
        "    division = c(param_basicos$training_pct, 100L -param_basicos$training_pct),\n",
        "    agrupa = \"clase_ternaria\",\n",
        "    seed = semilla # aqui se usa SU semilla\n",
        "  )\n",
        "\n",
        "  # genero el modelo\n",
        "  # predecir clase_ternaria a partir del resto\n",
        "  modelo <- rpart(\"clase_ternaria ~ .\",\n",
        "    data = dataset[fold == 1], # fold==1  es training,  el 70% de los datos\n",
        "    xval = 0,\n",
        "    control = param_basicos$rpart\n",
        "  ) # aqui van los parametros del arbol\n",
        "\n",
        "  # aplico el modelo a los datos de testing\n",
        "  prediccion <- predict(modelo, # el modelo que genere recien\n",
        "    dataset[fold == 2], # fold==2  es testing, el 30% de los datos\n",
        "    type = \"prob\"\n",
        "  ) # type= \"prob\"  es que devuelva la probabilidad\n",
        "\n",
        "  # prediccion es una matriz con TRES columnas,\n",
        "  #  llamadas \"BAJA+1\", \"BAJA+2\"  y \"CONTINUA\"\n",
        "  # cada columna es el vector de probabilidades\n",
        "\n",
        "\n",
        "  # calculo la ganancia en testing  qu es fold==2\n",
        "  ganancia_test <- dataset[\n",
        "    fold == 2,\n",
        "    sum(ifelse(prediccion[, \"BAJA+2\"] > 0.025,\n",
        "      ifelse(clase_ternaria == \"BAJA+2\", 117000, -3000),\n",
        "      0\n",
        "    ))\n",
        "  ]\n",
        "\n",
        "  # escalo la ganancia como si fuera todo el dataset\n",
        "  ganancia_test_normalizada <- ganancia_test / (( 100 - PARAM$training_pct ) / 100 )\n",
        "\n",
        "  return(list(\n",
        "    \"semilla\" = semilla,\n",
        "    \"testing\" = dataset[fold == 2, .N],\n",
        "    \"testing_pos\" = dataset[fold == 2 & clase_ternaria == \"BAJA+2\", .N],\n",
        "    \"envios\" = dataset[fold == 2, sum(prediccion[, \"BAJA+2\"] > 0.025)],\n",
        "    \"aciertos\" = dataset[\n",
        "        fold == 2,\n",
        "        sum(prediccion[, \"BAJA+2\"] > 0.025 & clase_ternaria == \"BAJA+2\")\n",
        "    ],\n",
        "    \"ganancia_test\" = ganancia_test_normalizada\n",
        "  ))\n",
        "}\n"
      ],
      "metadata": {
        "id": "GroZSZoVBuZ5"
      },
      "execution_count": null,
      "outputs": []
    },
    {
      "cell_type": "code",
      "source": [
        "# carpeta de trabajo\n",
        "setwd(\"/content/buckets/b1/exp\")\n",
        "experimento <- \"exp202\"\n",
        "dir.create(experimento, showWarnings=FALSE)\n",
        "setwd( paste0(\"/content/buckets/b1/exp/\", experimento ))"
      ],
      "metadata": {
        "id": "dJIBIX6kA2Wy"
      },
      "execution_count": null,
      "outputs": []
    },
    {
      "cell_type": "code",
      "source": [
        "# lectura del dataset\n",
        "dataset <- fread(\"/content/datasets/dataset_pequeno.csv\")\n",
        "\n",
        "# trabajo solo con los datos con clase, es decir 202107\n",
        "dataset <- dataset[clase_ternaria != \"\"]"
      ],
      "metadata": {
        "id": "tKiACdU2A2Wz"
      },
      "execution_count": null,
      "outputs": []
    },
    {
      "cell_type": "code",
      "source": [
        "\n",
        "# la funcion mcmapply  llama a la funcion ArbolEstimarGanancia\n",
        "#  tantas veces como valores tenga el vector  PARAM$semillas\n",
        "salidas <- mcmapply(ArbolEstimarGanancia,\n",
        "  PARAM$semillas, # paso el vector de semillas\n",
        "  MoreArgs = list(PARAM), # aqui paso el segundo parametro\n",
        "  SIMPLIFY = FALSE,\n",
        "  mc.cores = detectCores()\n",
        ")\n",
        "\n",
        "# muestro la lista de las salidas en testing\n",
        "#  para la particion realizada con cada semilla\n",
        "salidas\n"
      ],
      "metadata": {
        "id": "64OdfeyxCMDF",
        "outputId": "745b5853-248f-4cb7-d781-14337484c664",
        "colab": {
          "base_uri": "https://localhost:8080/",
          "height": 1000
        }
      },
      "execution_count": null,
      "outputs": [
        {
          "output_type": "display_data",
          "data": {
            "text/html": [
              "<ol>\n",
              "\t<li><dl>\n",
              "\t<dt>$semilla</dt>\n",
              "\t\t<dd>540347</dd>\n",
              "\t<dt>$testing</dt>\n",
              "\t\t<dd>49388</dd>\n",
              "\t<dt>$testing_pos</dt>\n",
              "\t\t<dd>380</dd>\n",
              "\t<dt>$envios</dt>\n",
              "\t\t<dd>3321</dd>\n",
              "\t<dt>$aciertos</dt>\n",
              "\t\t<dd>209</dd>\n",
              "\t<dt>$ganancia_test</dt>\n",
              "\t\t<dd>50390000</dd>\n",
              "</dl>\n",
              "</li>\n",
              "\t<li><dl>\n",
              "\t<dt>$semilla</dt>\n",
              "\t\t<dd>617873</dd>\n",
              "\t<dt>$testing</dt>\n",
              "\t\t<dd>49397</dd>\n",
              "\t<dt>$testing_pos</dt>\n",
              "\t\t<dd>382</dd>\n",
              "\t<dt>$envios</dt>\n",
              "\t\t<dd>2510</dd>\n",
              "\t<dt>$aciertos</dt>\n",
              "\t\t<dd>186</dd>\n",
              "\t<dt>$ganancia_test</dt>\n",
              "\t\t<dd>49300000</dd>\n",
              "</dl>\n",
              "</li>\n",
              "\t<li><dl>\n",
              "\t<dt>$semilla</dt>\n",
              "\t\t<dd>794887</dd>\n",
              "\t<dt>$testing</dt>\n",
              "\t\t<dd>49381</dd>\n",
              "\t<dt>$testing_pos</dt>\n",
              "\t\t<dd>374</dd>\n",
              "\t<dt>$envios</dt>\n",
              "\t\t<dd>4105</dd>\n",
              "\t<dt>$aciertos</dt>\n",
              "\t\t<dd>217</dd>\n",
              "\t<dt>$ganancia_test</dt>\n",
              "\t\t<dd>45750000</dd>\n",
              "</dl>\n",
              "</li>\n",
              "\t<li><dl>\n",
              "\t<dt>$semilla</dt>\n",
              "\t\t<dd>819853</dd>\n",
              "\t<dt>$testing</dt>\n",
              "\t\t<dd>49383</dd>\n",
              "\t<dt>$testing_pos</dt>\n",
              "\t\t<dd>381</dd>\n",
              "\t<dt>$envios</dt>\n",
              "\t\t<dd>3305</dd>\n",
              "\t<dt>$aciertos</dt>\n",
              "\t\t<dd>203</dd>\n",
              "\t<dt>$ganancia_test</dt>\n",
              "\t\t<dd>48150000</dd>\n",
              "</dl>\n",
              "</li>\n",
              "\t<li><dl>\n",
              "\t<dt>$semilla</dt>\n",
              "\t\t<dd>904559</dd>\n",
              "\t<dt>$testing</dt>\n",
              "\t\t<dd>49373</dd>\n",
              "\t<dt>$testing_pos</dt>\n",
              "\t\t<dd>376</dd>\n",
              "\t<dt>$envios</dt>\n",
              "\t\t<dd>3810</dd>\n",
              "\t<dt>$aciertos</dt>\n",
              "\t\t<dd>201</dd>\n",
              "\t<dt>$ganancia_test</dt>\n",
              "\t\t<dd>42300000</dd>\n",
              "</dl>\n",
              "</li>\n",
              "</ol>\n"
            ],
            "text/markdown": "1. $semilla\n:   540347\n$testing\n:   49388\n$testing_pos\n:   380\n$envios\n:   3321\n$aciertos\n:   209\n$ganancia_test\n:   50390000\n\n\n\n2. $semilla\n:   617873\n$testing\n:   49397\n$testing_pos\n:   382\n$envios\n:   2510\n$aciertos\n:   186\n$ganancia_test\n:   49300000\n\n\n\n3. $semilla\n:   794887\n$testing\n:   49381\n$testing_pos\n:   374\n$envios\n:   4105\n$aciertos\n:   217\n$ganancia_test\n:   45750000\n\n\n\n4. $semilla\n:   819853\n$testing\n:   49383\n$testing_pos\n:   381\n$envios\n:   3305\n$aciertos\n:   203\n$ganancia_test\n:   48150000\n\n\n\n5. $semilla\n:   904559\n$testing\n:   49373\n$testing_pos\n:   376\n$envios\n:   3810\n$aciertos\n:   201\n$ganancia_test\n:   42300000\n\n\n\n\n\n",
            "text/latex": "\\begin{enumerate}\n\\item \\begin{description}\n\\item[\\$semilla] 540347\n\\item[\\$testing] 49388\n\\item[\\$testing\\_pos] 380\n\\item[\\$envios] 3321\n\\item[\\$aciertos] 209\n\\item[\\$ganancia\\_test] 50390000\n\\end{description}\n\n\\item \\begin{description}\n\\item[\\$semilla] 617873\n\\item[\\$testing] 49397\n\\item[\\$testing\\_pos] 382\n\\item[\\$envios] 2510\n\\item[\\$aciertos] 186\n\\item[\\$ganancia\\_test] 49300000\n\\end{description}\n\n\\item \\begin{description}\n\\item[\\$semilla] 794887\n\\item[\\$testing] 49381\n\\item[\\$testing\\_pos] 374\n\\item[\\$envios] 4105\n\\item[\\$aciertos] 217\n\\item[\\$ganancia\\_test] 45750000\n\\end{description}\n\n\\item \\begin{description}\n\\item[\\$semilla] 819853\n\\item[\\$testing] 49383\n\\item[\\$testing\\_pos] 381\n\\item[\\$envios] 3305\n\\item[\\$aciertos] 203\n\\item[\\$ganancia\\_test] 48150000\n\\end{description}\n\n\\item \\begin{description}\n\\item[\\$semilla] 904559\n\\item[\\$testing] 49373\n\\item[\\$testing\\_pos] 376\n\\item[\\$envios] 3810\n\\item[\\$aciertos] 201\n\\item[\\$ganancia\\_test] 42300000\n\\end{description}\n\n\\end{enumerate}\n",
            "text/plain": [
              "[[1]]\n",
              "[[1]]$semilla\n",
              "[1] 540347\n",
              "\n",
              "[[1]]$testing\n",
              "[1] 49388\n",
              "\n",
              "[[1]]$testing_pos\n",
              "[1] 380\n",
              "\n",
              "[[1]]$envios\n",
              "[1] 3321\n",
              "\n",
              "[[1]]$aciertos\n",
              "[1] 209\n",
              "\n",
              "[[1]]$ganancia_test\n",
              "[1] 50390000\n",
              "\n",
              "\n",
              "[[2]]\n",
              "[[2]]$semilla\n",
              "[1] 617873\n",
              "\n",
              "[[2]]$testing\n",
              "[1] 49397\n",
              "\n",
              "[[2]]$testing_pos\n",
              "[1] 382\n",
              "\n",
              "[[2]]$envios\n",
              "[1] 2510\n",
              "\n",
              "[[2]]$aciertos\n",
              "[1] 186\n",
              "\n",
              "[[2]]$ganancia_test\n",
              "[1] 49300000\n",
              "\n",
              "\n",
              "[[3]]\n",
              "[[3]]$semilla\n",
              "[1] 794887\n",
              "\n",
              "[[3]]$testing\n",
              "[1] 49381\n",
              "\n",
              "[[3]]$testing_pos\n",
              "[1] 374\n",
              "\n",
              "[[3]]$envios\n",
              "[1] 4105\n",
              "\n",
              "[[3]]$aciertos\n",
              "[1] 217\n",
              "\n",
              "[[3]]$ganancia_test\n",
              "[1] 45750000\n",
              "\n",
              "\n",
              "[[4]]\n",
              "[[4]]$semilla\n",
              "[1] 819853\n",
              "\n",
              "[[4]]$testing\n",
              "[1] 49383\n",
              "\n",
              "[[4]]$testing_pos\n",
              "[1] 381\n",
              "\n",
              "[[4]]$envios\n",
              "[1] 3305\n",
              "\n",
              "[[4]]$aciertos\n",
              "[1] 203\n",
              "\n",
              "[[4]]$ganancia_test\n",
              "[1] 48150000\n",
              "\n",
              "\n",
              "[[5]]\n",
              "[[5]]$semilla\n",
              "[1] 904559\n",
              "\n",
              "[[5]]$testing\n",
              "[1] 49373\n",
              "\n",
              "[[5]]$testing_pos\n",
              "[1] 376\n",
              "\n",
              "[[5]]$envios\n",
              "[1] 3810\n",
              "\n",
              "[[5]]$aciertos\n",
              "[1] 201\n",
              "\n",
              "[[5]]$ganancia_test\n",
              "[1] 42300000\n",
              "\n"
            ]
          },
          "metadata": {}
        }
      ]
    },
    {
      "cell_type": "code",
      "source": [
        "# paso la lista a vector\n",
        "tb_salida <- rbindlist(salidas)\n",
        "print( tb_salida)"
      ],
      "metadata": {
        "id": "tML9VmH2ECFK",
        "outputId": "5f2b8b82-0b2c-4d36-cab4-d2c170fd6a40",
        "colab": {
          "base_uri": "https://localhost:8080/"
        }
      },
      "execution_count": null,
      "outputs": [
        {
          "output_type": "stream",
          "name": "stdout",
          "text": [
            "   semilla testing testing_pos envios aciertos ganancia_test\n",
            "     <num>   <int>       <int>  <int>    <int>         <num>\n",
            "1:  540347   49388         380   3321      209      50390000\n",
            "2:  617873   49397         382   2510      186      49300000\n",
            "3:  794887   49381         374   4105      217      45750000\n",
            "4:  819853   49383         381   3305      203      48150000\n",
            "5:  904559   49373         376   3810      201      42300000\n"
          ]
        }
      ]
    },
    {
      "cell_type": "code",
      "source": [
        "# finalmente calculo la media (promedio)  de las ganancias\n",
        "cat( \"ganancia promedio: \", tb_salida[, mean(ganancia_test)], \"\\n\" )"
      ],
      "metadata": {
        "id": "rbHXPfoVENQB",
        "outputId": "db976ec7-ed7b-4c2a-ea7e-959b17bcf57d",
        "colab": {
          "base_uri": "https://localhost:8080/"
        }
      },
      "execution_count": null,
      "outputs": [
        {
          "output_type": "stream",
          "name": "stdout",
          "text": [
            "ganancia promedio:  47178000 \n"
          ]
        }
      ]
    },
    {
      "cell_type": "markdown",
      "source": [
        "### Acciones a realizar\n",
        "* Reportar la  *Ganancia Promedio* <br> en la planilla colaborativa hoja  **C2-5sem**\n",
        "* Se discutirá en clase la variabilidad de estos \"ganancia promedio de cinco semillas\""
      ],
      "metadata": {
        "id": "_3xVH6UKA2W6"
      }
    },
    {
      "cell_type": "markdown",
      "source": [
        "\n",
        "\n",
        "---\n",
        "\n"
      ],
      "metadata": {
        "id": "N29m1XGpA2W7"
      }
    },
    {
      "cell_type": "markdown",
      "source": [
        "# 3  Generando n semillas en forma automatica\n",
        "## Clase 02  Experimento 3"
      ],
      "metadata": {
        "id": "zS7WIJciFGc6"
      }
    },
    {
      "cell_type": "markdown",
      "source": [
        "## 3.1  Objetivos\n",
        "Mostrar la creación de nuevas semillas a partir de la librería Primes"
      ],
      "metadata": {
        "id": "VmiFDDDJFUEo"
      }
    },
    {
      "cell_type": "markdown",
      "source": [
        "3.2  Código\n",
        "\n",
        "Como generar muchas semillas a partir de una"
      ],
      "metadata": {
        "id": "Ehe3VfdfFbvg"
      }
    },
    {
      "cell_type": "code",
      "source": [
        "# instalo y cargo la libreria  primes\n",
        "if (!require(\"primes\")) install.packages(\"primes\")\n",
        "require(\"primes\")"
      ],
      "metadata": {
        "id": "X6_dE42yF2-t"
      },
      "execution_count": null,
      "outputs": []
    },
    {
      "cell_type": "code",
      "source": [
        "# genero numeros primos\n",
        "primos <- generate_primes(min = 100000, max = 1000000)\n",
        "\n",
        "\n",
        "set.seed(102191) # inicializo con mi primer semilla\n",
        "\n",
        "# me quedo con por ejemplo 20 primos al azar\n",
        "semillas <- sample(primos, 20 )\n",
        "\n",
        "print( semillas )"
      ],
      "metadata": {
        "id": "yDU9RyV4FNhZ"
      },
      "execution_count": null,
      "outputs": []
    },
    {
      "cell_type": "markdown",
      "source": [
        "\n",
        "\n",
        "---\n",
        "\n"
      ],
      "metadata": {
        "id": "eD_cO5VTGGea"
      }
    },
    {
      "cell_type": "code",
      "source": [],
      "metadata": {
        "id": "k-rgoA2ZFll4"
      },
      "execution_count": null,
      "outputs": []
    },
    {
      "cell_type": "markdown",
      "source": [
        "# 4  Medición  50-Monte Carlo Cross Validation\n",
        "## Clase 02  Experimento 4"
      ],
      "metadata": {
        "id": "cZi29THsGil_"
      }
    },
    {
      "cell_type": "markdown",
      "source": [
        "## 4.1  Objetivos\n",
        "Calcular la ganancia del modelo utilizando 50 semillas nuevas generadas a partir de mi semilla primigenia."
      ],
      "metadata": {
        "id": "qFNq6ntVGimN"
      }
    },
    {
      "cell_type": "markdown",
      "source": [
        "## 4.4 Codigo  50 Montecarlo"
      ],
      "metadata": {
        "id": "B6KtuhQCGimP"
      }
    },
    {
      "cell_type": "markdown",
      "source": [
        "Esta parte se debe correr con el runtime en lenguaje **R** Ir al menu, Runtime -> Change Runtime Tipe -> Runtime type -> R"
      ],
      "metadata": {
        "id": "LgGgjPQuGimP"
      }
    },
    {
      "cell_type": "markdown",
      "source": [
        "Este punto demora en correr 60 minutos en Google Colab, con lo cual para continuar con el punto siguiente deberá abrir un nuevo Colab"
      ],
      "metadata": {
        "id": "E82ChuO25OYx"
      }
    },
    {
      "cell_type": "markdown",
      "source": [
        "limpio el ambiente de R"
      ],
      "metadata": {
        "id": "a6AxqLwOGimQ"
      }
    },
    {
      "cell_type": "code",
      "source": [
        "# limpio la memoria\n",
        "rm(list=ls(all.names=TRUE)) # remove all objects\n",
        "gc(full=TRUE, verbose=FALSE) # garbage collection"
      ],
      "metadata": {
        "id": "797Ad0_QGimQ",
        "outputId": "7574e6fb-d60a-4455-cc32-ea7e199f56ce",
        "colab": {
          "base_uri": "https://localhost:8080/",
          "height": 129
        }
      },
      "execution_count": null,
      "outputs": [
        {
          "output_type": "display_data",
          "data": {
            "text/html": [
              "<table class=\"dataframe\">\n",
              "<caption>A matrix: 2 × 6 of type dbl</caption>\n",
              "<thead>\n",
              "\t<tr><th></th><th scope=col>used</th><th scope=col>(Mb)</th><th scope=col>gc trigger</th><th scope=col>(Mb)</th><th scope=col>max used</th><th scope=col>(Mb)</th></tr>\n",
              "</thead>\n",
              "<tbody>\n",
              "\t<tr><th scope=row>Ncells</th><td> 758877</td><td>40.6</td><td> 1454460</td><td> 77.7</td><td>  1454460</td><td> 77.7</td></tr>\n",
              "\t<tr><th scope=row>Vcells</th><td>1441809</td><td>11.1</td><td>81561037</td><td>622.3</td><td>106041416</td><td>809.1</td></tr>\n",
              "</tbody>\n",
              "</table>\n"
            ],
            "text/markdown": "\nA matrix: 2 × 6 of type dbl\n\n| <!--/--> | used | (Mb) | gc trigger | (Mb) | max used | (Mb) |\n|---|---|---|---|---|---|---|\n| Ncells |  758877 | 40.6 |  1454460 |  77.7 |   1454460 |  77.7 |\n| Vcells | 1441809 | 11.1 | 81561037 | 622.3 | 106041416 | 809.1 |\n\n",
            "text/latex": "A matrix: 2 × 6 of type dbl\n\\begin{tabular}{r|llllll}\n  & used & (Mb) & gc trigger & (Mb) & max used & (Mb)\\\\\n\\hline\n\tNcells &  758877 & 40.6 &  1454460 &  77.7 &   1454460 &  77.7\\\\\n\tVcells & 1441809 & 11.1 & 81561037 & 622.3 & 106041416 & 809.1\\\\\n\\end{tabular}\n",
            "text/plain": [
              "       used    (Mb) gc trigger (Mb)  max used  (Mb) \n",
              "Ncells  758877 40.6  1454460    77.7   1454460  77.7\n",
              "Vcells 1441809 11.1 81561037   622.3 106041416 809.1"
            ]
          },
          "metadata": {}
        }
      ]
    },
    {
      "cell_type": "markdown",
      "source": [
        "* Instalacion de la libreria  rpart.plot  para dibujar el arbol\n",
        "* invocacion de las librerias  **data.table** y  **rpart**"
      ],
      "metadata": {
        "id": "v0CepvbjGimQ"
      }
    },
    {
      "cell_type": "code",
      "source": [
        "# cargo las librerias que necesito\n",
        "require(\"data.table\")\n",
        "require(\"rpart\")\n",
        "require(\"parallel\")\n",
        "\n",
        "if (!require(\"primes\")) install.packages(\"primes\")\n",
        "require(\"primes\")"
      ],
      "metadata": {
        "id": "CRkZ1V2_GimR",
        "outputId": "72afa580-b7a0-471c-9626-c963131f0d1c",
        "colab": {
          "base_uri": "https://localhost:8080/"
        }
      },
      "execution_count": null,
      "outputs": [
        {
          "output_type": "stream",
          "name": "stderr",
          "text": [
            "Loading required package: primes\n",
            "\n",
            "Warning message in library(package, lib.loc = lib.loc, character.only = TRUE, logical.return = TRUE, :\n",
            "“there is no package called ‘primes’”\n",
            "Installing package into ‘/usr/local/lib/R/site-library’\n",
            "(as ‘lib’ is unspecified)\n",
            "\n",
            "Loading required package: primes\n",
            "\n"
          ]
        }
      ]
    },
    {
      "cell_type": "markdown",
      "source": [
        "###  Accion a Realizar\n",
        "PARAM$semilla_primigenia  debe reemplazarse por SU primer semilla"
      ],
      "metadata": {
        "id": "PZKJG-nSGimR"
      }
    },
    {
      "cell_type": "code",
      "source": [
        "PARAM <- list()\n",
        "PARAM$semilla_primigenia <- 540347\n",
        "PARAM$qsemillas <- 50\n",
        "PARAM$training_pct <- 70L  # entre  1L y 99L\n",
        "\n",
        "PARAM$rpart <- list (\n",
        "  \"cp\" = -1, # complejidad minima\n",
        "  \"minsplit\" = 170, # minima cantidad de regs en un nodo para hacer el split\n",
        "  \"minbucket\" = 70, # minima cantidad de regs en una hoja\n",
        "  \"maxdepth\" = 7 # profundidad máxima del arbol\n",
        ")\n"
      ],
      "metadata": {
        "id": "4kbkA-2HGimR"
      },
      "execution_count": null,
      "outputs": []
    },
    {
      "cell_type": "code",
      "source": [
        "# particionar agrega una columna llamada fold a un dataset\n",
        "#  que consiste en una particion estratificada segun agrupa\n",
        "\n",
        "# particionar( data=dataset, division=c(70,30),\n",
        "#  agrupa=clase_ternaria, seed=semilla)   crea una particion 70, 30\n",
        "\n",
        "particionar <- function(\n",
        "    data, division, agrupa = \"\",\n",
        "    campo = \"fold\", start = 1, seed = NA) {\n",
        "  if (!is.na(seed)) set.seed(seed)\n",
        "\n",
        "  bloque <- unlist(mapply(function(x, y) {\n",
        "    rep(y, x)\n",
        "  }, division, seq(from = start, length.out = length(division))))\n",
        "\n",
        "  data[, (campo) := sample(rep(bloque, ceiling(.N / length(bloque))))[1:.N],\n",
        "    by = agrupa\n",
        "  ]\n",
        "}\n"
      ],
      "metadata": {
        "id": "HME0qUeOGimS"
      },
      "execution_count": null,
      "outputs": []
    },
    {
      "cell_type": "code",
      "source": [
        "\n",
        "ArbolEstimarGanancia <- function(semilla, param_basicos) {\n",
        "  # particiono estratificadamente el dataset\n",
        "  particionar(dataset,\n",
        "    division = c(param_basicos$training_pct, 100L -param_basicos$training_pct),\n",
        "    agrupa = \"clase_ternaria\",\n",
        "    seed = semilla # aqui se usa SU semilla\n",
        "  )\n",
        "\n",
        "  # genero el modelo\n",
        "  # predecir clase_ternaria a partir del resto\n",
        "  modelo <- rpart(\"clase_ternaria ~ .\",\n",
        "    data = dataset[fold == 1], # fold==1  es training,  el 70% de los datos\n",
        "    xval = 0,\n",
        "    control = param_basicos$rpart\n",
        "  ) # aqui van los parametros del arbol\n",
        "\n",
        "  # aplico el modelo a los datos de testing\n",
        "  prediccion <- predict(modelo, # el modelo que genere recien\n",
        "    dataset[fold == 2], # fold==2  es testing, el 30% de los datos\n",
        "    type = \"prob\"\n",
        "  ) # type= \"prob\"  es que devuelva la probabilidad\n",
        "\n",
        "  # prediccion es una matriz con TRES columnas,\n",
        "  #  llamadas \"BAJA+1\", \"BAJA+2\"  y \"CONTINUA\"\n",
        "  # cada columna es el vector de probabilidades\n",
        "\n",
        "\n",
        "  # calculo la ganancia en testing  qu es fold==2\n",
        "  ganancia_test <- dataset[\n",
        "    fold == 2,\n",
        "    sum(ifelse(prediccion[, \"BAJA+2\"] > 0.025,\n",
        "      ifelse(clase_ternaria == \"BAJA+2\", 117000, -3000),\n",
        "      0\n",
        "    ))\n",
        "  ]\n",
        "\n",
        "  # escalo la ganancia como si fuera todo el dataset\n",
        "  ganancia_test_normalizada <- ganancia_test / (( 100 - PARAM$training_pct ) / 100 )\n",
        "\n",
        "  return(list(\n",
        "    \"semilla\" = semilla,\n",
        "    \"testing\" = dataset[fold == 2, .N],\n",
        "    \"testing_pos\" = dataset[fold == 2 & clase_ternaria == \"BAJA+2\", .N],\n",
        "    \"envios\" = dataset[fold == 2, sum(prediccion[, \"BAJA+2\"] > 0.025)],\n",
        "    \"aciertos\" = dataset[\n",
        "        fold == 2,\n",
        "        sum(prediccion[, \"BAJA+2\"] > 0.025 & clase_ternaria == \"BAJA+2\")\n",
        "    ],\n",
        "    \"ganancia_test\" = ganancia_test_normalizada\n",
        "  ))\n",
        "}\n"
      ],
      "metadata": {
        "id": "ro9Ufoi-GimS"
      },
      "execution_count": null,
      "outputs": []
    },
    {
      "cell_type": "code",
      "source": [
        "# carpeta de trabajo\n",
        "setwd(\"/content/buckets/b1/exp\")\n",
        "experimento <- \"exp204\"\n",
        "dir.create(experimento, showWarnings=FALSE)\n",
        "setwd( paste0(\"/content/buckets/b1/exp/\", experimento ))"
      ],
      "metadata": {
        "id": "gz7LgltwGimT"
      },
      "execution_count": null,
      "outputs": []
    },
    {
      "cell_type": "code",
      "source": [
        "# lectura del dataset\n",
        "dataset <- fread(\"/content/datasets/dataset_pequeno.csv\")\n",
        "\n",
        "# trabajo solo con los datos con clase, es decir 202107\n",
        "dataset <- dataset[clase_ternaria != \"\"]"
      ],
      "metadata": {
        "id": "xRXKHeLeGimT"
      },
      "execution_count": null,
      "outputs": []
    },
    {
      "cell_type": "code",
      "source": [
        "# genero numeros primos\n",
        "primos <- generate_primes(min = 100000, max = 1000000)\n",
        "set.seed(PARAM$semilla_primigenia) # inicializo\n",
        "\n",
        "# me quedo con PARAM$qsemillas   semillas\n",
        "PARAM$semillas <- sample(primos, PARAM$qsemillas )"
      ],
      "metadata": {
        "id": "MdpZ10qiHSZy"
      },
      "execution_count": null,
      "outputs": []
    },
    {
      "cell_type": "code",
      "source": [
        "\n",
        "# la funcion mcmapply  llama a la funcion ArbolEstimarGanancia\n",
        "#  tantas veces como valores tenga el vector  PARAM$semillas\n",
        "salidas <- mcmapply(ArbolEstimarGanancia,\n",
        "  PARAM$semillas, # paso el vector de semillas\n",
        "  MoreArgs = list(PARAM), # aqui paso el segundo parametro\n",
        "  SIMPLIFY = FALSE,\n",
        "  mc.cores = detectCores()\n",
        ")\n",
        "\n",
        "# muestro la lista de las salidas en testing\n",
        "#  para la particion realizada con cada semilla\n",
        "salidas\n"
      ],
      "metadata": {
        "id": "r-YaawpgGimU",
        "outputId": "6c875368-6246-4c77-e4a3-ea0f2d54106d",
        "colab": {
          "base_uri": "https://localhost:8080/",
          "height": 1000
        }
      },
      "execution_count": null,
      "outputs": [
        {
          "output_type": "display_data",
          "data": {
            "text/html": [
              "<ol>\n",
              "\t<li><dl>\n",
              "\t<dt>$semilla</dt>\n",
              "\t\t<dd>735169</dd>\n",
              "\t<dt>$testing</dt>\n",
              "\t\t<dd>49382</dd>\n",
              "\t<dt>$testing_pos</dt>\n",
              "\t\t<dd>374</dd>\n",
              "\t<dt>$envios</dt>\n",
              "\t\t<dd>3533</dd>\n",
              "\t<dt>$aciertos</dt>\n",
              "\t\t<dd>213</dd>\n",
              "\t<dt>$ganancia_test</dt>\n",
              "\t\t<dd>49870000</dd>\n",
              "</dl>\n",
              "</li>\n",
              "\t<li><dl>\n",
              "\t<dt>$semilla</dt>\n",
              "\t\t<dd>388621</dd>\n",
              "\t<dt>$testing</dt>\n",
              "\t\t<dd>49371</dd>\n",
              "\t<dt>$testing_pos</dt>\n",
              "\t\t<dd>368</dd>\n",
              "\t<dt>$envios</dt>\n",
              "\t\t<dd>3539</dd>\n",
              "\t<dt>$aciertos</dt>\n",
              "\t\t<dd>212</dd>\n",
              "\t<dt>$ganancia_test</dt>\n",
              "\t\t<dd>49410000</dd>\n",
              "</dl>\n",
              "</li>\n",
              "\t<li><dl>\n",
              "\t<dt>$semilla</dt>\n",
              "\t\t<dd>671431</dd>\n",
              "\t<dt>$testing</dt>\n",
              "\t\t<dd>49381</dd>\n",
              "\t<dt>$testing_pos</dt>\n",
              "\t\t<dd>376</dd>\n",
              "\t<dt>$envios</dt>\n",
              "\t\t<dd>3988</dd>\n",
              "\t<dt>$aciertos</dt>\n",
              "\t\t<dd>221</dd>\n",
              "\t<dt>$ganancia_test</dt>\n",
              "\t\t<dd>48520000</dd>\n",
              "</dl>\n",
              "</li>\n",
              "\t<li><dl>\n",
              "\t<dt>$semilla</dt>\n",
              "\t\t<dd>341171</dd>\n",
              "\t<dt>$testing</dt>\n",
              "\t\t<dd>49381</dd>\n",
              "\t<dt>$testing_pos</dt>\n",
              "\t\t<dd>374</dd>\n",
              "\t<dt>$envios</dt>\n",
              "\t\t<dd>3415</dd>\n",
              "\t<dt>$aciertos</dt>\n",
              "\t\t<dd>210</dd>\n",
              "\t<dt>$ganancia_test</dt>\n",
              "\t\t<dd>49850000</dd>\n",
              "</dl>\n",
              "</li>\n",
              "\t<li><dl>\n",
              "\t<dt>$semilla</dt>\n",
              "\t\t<dd>451207</dd>\n",
              "\t<dt>$testing</dt>\n",
              "\t\t<dd>49379</dd>\n",
              "\t<dt>$testing_pos</dt>\n",
              "\t\t<dd>372</dd>\n",
              "\t<dt>$envios</dt>\n",
              "\t\t<dd>4217</dd>\n",
              "\t<dt>$aciertos</dt>\n",
              "\t\t<dd>226</dd>\n",
              "\t<dt>$ganancia_test</dt>\n",
              "\t\t<dd>48230000</dd>\n",
              "</dl>\n",
              "</li>\n",
              "\t<li><dl>\n",
              "\t<dt>$semilla</dt>\n",
              "\t\t<dd>324067</dd>\n",
              "\t<dt>$testing</dt>\n",
              "\t\t<dd>49390</dd>\n",
              "\t<dt>$testing_pos</dt>\n",
              "\t\t<dd>376</dd>\n",
              "\t<dt>$envios</dt>\n",
              "\t\t<dd>2780</dd>\n",
              "\t<dt>$aciertos</dt>\n",
              "\t\t<dd>177</dd>\n",
              "\t<dt>$ganancia_test</dt>\n",
              "\t\t<dd>4.3e+07</dd>\n",
              "</dl>\n",
              "</li>\n",
              "\t<li><dl>\n",
              "\t<dt>$semilla</dt>\n",
              "\t\t<dd>635309</dd>\n",
              "\t<dt>$testing</dt>\n",
              "\t\t<dd>49388</dd>\n",
              "\t<dt>$testing_pos</dt>\n",
              "\t\t<dd>379</dd>\n",
              "\t<dt>$envios</dt>\n",
              "\t\t<dd>3253</dd>\n",
              "\t<dt>$aciertos</dt>\n",
              "\t\t<dd>206</dd>\n",
              "\t<dt>$ganancia_test</dt>\n",
              "\t\t<dd>49870000</dd>\n",
              "</dl>\n",
              "</li>\n",
              "\t<li><dl>\n",
              "\t<dt>$semilla</dt>\n",
              "\t\t<dd>564979</dd>\n",
              "\t<dt>$testing</dt>\n",
              "\t\t<dd>49377</dd>\n",
              "\t<dt>$testing_pos</dt>\n",
              "\t\t<dd>375</dd>\n",
              "\t<dt>$envios</dt>\n",
              "\t\t<dd>3313</dd>\n",
              "\t<dt>$aciertos</dt>\n",
              "\t\t<dd>203</dd>\n",
              "\t<dt>$ganancia_test</dt>\n",
              "\t\t<dd>48070000</dd>\n",
              "</dl>\n",
              "</li>\n",
              "\t<li><dl>\n",
              "\t<dt>$semilla</dt>\n",
              "\t\t<dd>971473</dd>\n",
              "\t<dt>$testing</dt>\n",
              "\t\t<dd>49371</dd>\n",
              "\t<dt>$testing_pos</dt>\n",
              "\t\t<dd>375</dd>\n",
              "\t<dt>$envios</dt>\n",
              "\t\t<dd>3833</dd>\n",
              "\t<dt>$aciertos</dt>\n",
              "\t\t<dd>223</dd>\n",
              "\t<dt>$ganancia_test</dt>\n",
              "\t\t<dd>50870000</dd>\n",
              "</dl>\n",
              "</li>\n",
              "\t<li><dl>\n",
              "\t<dt>$semilla</dt>\n",
              "\t\t<dd>934463</dd>\n",
              "\t<dt>$testing</dt>\n",
              "\t\t<dd>49388</dd>\n",
              "\t<dt>$testing_pos</dt>\n",
              "\t\t<dd>371</dd>\n",
              "\t<dt>$envios</dt>\n",
              "\t\t<dd>3613</dd>\n",
              "\t<dt>$aciertos</dt>\n",
              "\t\t<dd>212</dd>\n",
              "\t<dt>$ganancia_test</dt>\n",
              "\t\t<dd>48670000</dd>\n",
              "</dl>\n",
              "</li>\n",
              "\t<li><dl>\n",
              "\t<dt>$semilla</dt>\n",
              "\t\t<dd>181439</dd>\n",
              "\t<dt>$testing</dt>\n",
              "\t\t<dd>49380</dd>\n",
              "\t<dt>$testing_pos</dt>\n",
              "\t\t<dd>374</dd>\n",
              "\t<dt>$envios</dt>\n",
              "\t\t<dd>3679</dd>\n",
              "\t<dt>$aciertos</dt>\n",
              "\t\t<dd>197</dd>\n",
              "\t<dt>$ganancia_test</dt>\n",
              "\t\t<dd>42010000</dd>\n",
              "</dl>\n",
              "</li>\n",
              "\t<li><dl>\n",
              "\t<dt>$semilla</dt>\n",
              "\t\t<dd>447451</dd>\n",
              "\t<dt>$testing</dt>\n",
              "\t\t<dd>49381</dd>\n",
              "\t<dt>$testing_pos</dt>\n",
              "\t\t<dd>372</dd>\n",
              "\t<dt>$envios</dt>\n",
              "\t\t<dd>4123</dd>\n",
              "\t<dt>$aciertos</dt>\n",
              "\t\t<dd>227</dd>\n",
              "\t<dt>$ganancia_test</dt>\n",
              "\t\t<dd>49570000</dd>\n",
              "</dl>\n",
              "</li>\n",
              "\t<li><dl>\n",
              "\t<dt>$semilla</dt>\n",
              "\t\t<dd>742541</dd>\n",
              "\t<dt>$testing</dt>\n",
              "\t\t<dd>49380</dd>\n",
              "\t<dt>$testing_pos</dt>\n",
              "\t\t<dd>369</dd>\n",
              "\t<dt>$envios</dt>\n",
              "\t\t<dd>3413</dd>\n",
              "\t<dt>$aciertos</dt>\n",
              "\t\t<dd>206</dd>\n",
              "\t<dt>$ganancia_test</dt>\n",
              "\t\t<dd>48270000</dd>\n",
              "</dl>\n",
              "</li>\n",
              "\t<li><dl>\n",
              "\t<dt>$semilla</dt>\n",
              "\t\t<dd>872177</dd>\n",
              "\t<dt>$testing</dt>\n",
              "\t\t<dd>49371</dd>\n",
              "\t<dt>$testing_pos</dt>\n",
              "\t\t<dd>375</dd>\n",
              "\t<dt>$envios</dt>\n",
              "\t\t<dd>3349</dd>\n",
              "\t<dt>$aciertos</dt>\n",
              "\t\t<dd>205</dd>\n",
              "\t<dt>$ganancia_test</dt>\n",
              "\t\t<dd>48510000</dd>\n",
              "</dl>\n",
              "</li>\n",
              "\t<li><dl>\n",
              "\t<dt>$semilla</dt>\n",
              "\t\t<dd>315883</dd>\n",
              "\t<dt>$testing</dt>\n",
              "\t\t<dd>49370</dd>\n",
              "\t<dt>$testing_pos</dt>\n",
              "\t\t<dd>375</dd>\n",
              "\t<dt>$envios</dt>\n",
              "\t\t<dd>3727</dd>\n",
              "\t<dt>$aciertos</dt>\n",
              "\t\t<dd>202</dd>\n",
              "\t<dt>$ganancia_test</dt>\n",
              "\t\t<dd>43530000</dd>\n",
              "</dl>\n",
              "</li>\n",
              "\t<li><dl>\n",
              "\t<dt>$semilla</dt>\n",
              "\t\t<dd>343333</dd>\n",
              "\t<dt>$testing</dt>\n",
              "\t\t<dd>49386</dd>\n",
              "\t<dt>$testing_pos</dt>\n",
              "\t\t<dd>374</dd>\n",
              "\t<dt>$envios</dt>\n",
              "\t\t<dd>3520</dd>\n",
              "\t<dt>$aciertos</dt>\n",
              "\t\t<dd>212</dd>\n",
              "\t<dt>$ganancia_test</dt>\n",
              "\t\t<dd>49600000</dd>\n",
              "</dl>\n",
              "</li>\n",
              "\t<li><dl>\n",
              "\t<dt>$semilla</dt>\n",
              "\t\t<dd>863711</dd>\n",
              "\t<dt>$testing</dt>\n",
              "\t\t<dd>49385</dd>\n",
              "\t<dt>$testing_pos</dt>\n",
              "\t\t<dd>379</dd>\n",
              "\t<dt>$envios</dt>\n",
              "\t\t<dd>4587</dd>\n",
              "\t<dt>$aciertos</dt>\n",
              "\t\t<dd>236</dd>\n",
              "\t<dt>$ganancia_test</dt>\n",
              "\t\t<dd>48530000</dd>\n",
              "</dl>\n",
              "</li>\n",
              "\t<li><dl>\n",
              "\t<dt>$semilla</dt>\n",
              "\t\t<dd>605257</dd>\n",
              "\t<dt>$testing</dt>\n",
              "\t\t<dd>49373</dd>\n",
              "\t<dt>$testing_pos</dt>\n",
              "\t\t<dd>368</dd>\n",
              "\t<dt>$envios</dt>\n",
              "\t\t<dd>3646</dd>\n",
              "\t<dt>$aciertos</dt>\n",
              "\t\t<dd>207</dd>\n",
              "\t<dt>$ganancia_test</dt>\n",
              "\t\t<dd>46340000</dd>\n",
              "</dl>\n",
              "</li>\n",
              "\t<li><dl>\n",
              "\t<dt>$semilla</dt>\n",
              "\t\t<dd>117239</dd>\n",
              "\t<dt>$testing</dt>\n",
              "\t\t<dd>49373</dd>\n",
              "\t<dt>$testing_pos</dt>\n",
              "\t\t<dd>371</dd>\n",
              "\t<dt>$envios</dt>\n",
              "\t\t<dd>3850</dd>\n",
              "\t<dt>$aciertos</dt>\n",
              "\t\t<dd>227</dd>\n",
              "\t<dt>$ganancia_test</dt>\n",
              "\t\t<dd>52300000</dd>\n",
              "</dl>\n",
              "</li>\n",
              "\t<li><dl>\n",
              "\t<dt>$semilla</dt>\n",
              "\t\t<dd>708053</dd>\n",
              "\t<dt>$testing</dt>\n",
              "\t\t<dd>49380</dd>\n",
              "\t<dt>$testing_pos</dt>\n",
              "\t\t<dd>377</dd>\n",
              "\t<dt>$envios</dt>\n",
              "\t\t<dd>4102</dd>\n",
              "\t<dt>$aciertos</dt>\n",
              "\t\t<dd>235</dd>\n",
              "\t<dt>$ganancia_test</dt>\n",
              "\t\t<dd>52980000</dd>\n",
              "</dl>\n",
              "</li>\n",
              "\t<li><dl>\n",
              "\t<dt>$semilla</dt>\n",
              "\t\t<dd>124561</dd>\n",
              "\t<dt>$testing</dt>\n",
              "\t\t<dd>49378</dd>\n",
              "\t<dt>$testing_pos</dt>\n",
              "\t\t<dd>375</dd>\n",
              "\t<dt>$envios</dt>\n",
              "\t\t<dd>2833</dd>\n",
              "\t<dt>$aciertos</dt>\n",
              "\t\t<dd>177</dd>\n",
              "\t<dt>$ganancia_test</dt>\n",
              "\t\t<dd>42470000</dd>\n",
              "</dl>\n",
              "</li>\n",
              "\t<li><dl>\n",
              "\t<dt>$semilla</dt>\n",
              "\t\t<dd>696481</dd>\n",
              "\t<dt>$testing</dt>\n",
              "\t\t<dd>49377</dd>\n",
              "\t<dt>$testing_pos</dt>\n",
              "\t\t<dd>375</dd>\n",
              "\t<dt>$envios</dt>\n",
              "\t\t<dd>3338</dd>\n",
              "\t<dt>$aciertos</dt>\n",
              "\t\t<dd>214</dd>\n",
              "\t<dt>$ganancia_test</dt>\n",
              "\t\t<dd>52220000</dd>\n",
              "</dl>\n",
              "</li>\n",
              "\t<li><dl>\n",
              "\t<dt>$semilla</dt>\n",
              "\t\t<dd>580093</dd>\n",
              "\t<dt>$testing</dt>\n",
              "\t\t<dd>49375</dd>\n",
              "\t<dt>$testing_pos</dt>\n",
              "\t\t<dd>371</dd>\n",
              "\t<dt>$envios</dt>\n",
              "\t\t<dd>3758</dd>\n",
              "\t<dt>$aciertos</dt>\n",
              "\t\t<dd>206</dd>\n",
              "\t<dt>$ganancia_test</dt>\n",
              "\t\t<dd>44820000</dd>\n",
              "</dl>\n",
              "</li>\n",
              "\t<li><dl>\n",
              "\t<dt>$semilla</dt>\n",
              "\t\t<dd>575711</dd>\n",
              "\t<dt>$testing</dt>\n",
              "\t\t<dd>49383</dd>\n",
              "\t<dt>$testing_pos</dt>\n",
              "\t\t<dd>374</dd>\n",
              "\t<dt>$envios</dt>\n",
              "\t\t<dd>3030</dd>\n",
              "\t<dt>$aciertos</dt>\n",
              "\t\t<dd>203</dd>\n",
              "\t<dt>$ganancia_test</dt>\n",
              "\t\t<dd>50900000</dd>\n",
              "</dl>\n",
              "</li>\n",
              "\t<li><dl>\n",
              "\t<dt>$semilla</dt>\n",
              "\t\t<dd>763943</dd>\n",
              "\t<dt>$testing</dt>\n",
              "\t\t<dd>49374</dd>\n",
              "\t<dt>$testing_pos</dt>\n",
              "\t\t<dd>376</dd>\n",
              "\t<dt>$envios</dt>\n",
              "\t\t<dd>4316</dd>\n",
              "\t<dt>$aciertos</dt>\n",
              "\t\t<dd>222</dd>\n",
              "\t<dt>$ganancia_test</dt>\n",
              "\t\t<dd>45640000</dd>\n",
              "</dl>\n",
              "</li>\n",
              "\t<li><dl>\n",
              "\t<dt>$semilla</dt>\n",
              "\t\t<dd>373661</dd>\n",
              "\t<dt>$testing</dt>\n",
              "\t\t<dd>49390</dd>\n",
              "\t<dt>$testing_pos</dt>\n",
              "\t\t<dd>381</dd>\n",
              "\t<dt>$envios</dt>\n",
              "\t\t<dd>3044</dd>\n",
              "\t<dt>$aciertos</dt>\n",
              "\t\t<dd>197</dd>\n",
              "\t<dt>$ganancia_test</dt>\n",
              "\t\t<dd>48360000</dd>\n",
              "</dl>\n",
              "</li>\n",
              "\t<li><dl>\n",
              "\t<dt>$semilla</dt>\n",
              "\t\t<dd>235483</dd>\n",
              "\t<dt>$testing</dt>\n",
              "\t\t<dd>49377</dd>\n",
              "\t<dt>$testing_pos</dt>\n",
              "\t\t<dd>377</dd>\n",
              "\t<dt>$envios</dt>\n",
              "\t\t<dd>2660</dd>\n",
              "\t<dt>$aciertos</dt>\n",
              "\t\t<dd>175</dd>\n",
              "\t<dt>$ganancia_test</dt>\n",
              "\t\t<dd>43400000</dd>\n",
              "</dl>\n",
              "</li>\n",
              "\t<li><dl>\n",
              "\t<dt>$semilla</dt>\n",
              "\t\t<dd>220721</dd>\n",
              "\t<dt>$testing</dt>\n",
              "\t\t<dd>49380</dd>\n",
              "\t<dt>$testing_pos</dt>\n",
              "\t\t<dd>376</dd>\n",
              "\t<dt>$envios</dt>\n",
              "\t\t<dd>3494</dd>\n",
              "\t<dt>$aciertos</dt>\n",
              "\t\t<dd>204</dd>\n",
              "\t<dt>$ganancia_test</dt>\n",
              "\t\t<dd>46660000</dd>\n",
              "</dl>\n",
              "</li>\n",
              "\t<li><dl>\n",
              "\t<dt>$semilla</dt>\n",
              "\t\t<dd>734959</dd>\n",
              "\t<dt>$testing</dt>\n",
              "\t\t<dd>49377</dd>\n",
              "\t<dt>$testing_pos</dt>\n",
              "\t\t<dd>373</dd>\n",
              "\t<dt>$envios</dt>\n",
              "\t\t<dd>2739</dd>\n",
              "\t<dt>$aciertos</dt>\n",
              "\t\t<dd>181</dd>\n",
              "\t<dt>$ganancia_test</dt>\n",
              "\t\t<dd>45010000</dd>\n",
              "</dl>\n",
              "</li>\n",
              "\t<li><dl>\n",
              "\t<dt>$semilla</dt>\n",
              "\t\t<dd>945151</dd>\n",
              "\t<dt>$testing</dt>\n",
              "\t\t<dd>49387</dd>\n",
              "\t<dt>$testing_pos</dt>\n",
              "\t\t<dd>377</dd>\n",
              "\t<dt>$envios</dt>\n",
              "\t\t<dd>3549</dd>\n",
              "\t<dt>$aciertos</dt>\n",
              "\t\t<dd>206</dd>\n",
              "\t<dt>$ganancia_test</dt>\n",
              "\t\t<dd>46910000</dd>\n",
              "</dl>\n",
              "</li>\n",
              "\t<li><dl>\n",
              "\t<dt>$semilla</dt>\n",
              "\t\t<dd>521777</dd>\n",
              "\t<dt>$testing</dt>\n",
              "\t\t<dd>49374</dd>\n",
              "\t<dt>$testing_pos</dt>\n",
              "\t\t<dd>374</dd>\n",
              "\t<dt>$envios</dt>\n",
              "\t\t<dd>3679</dd>\n",
              "\t<dt>$aciertos</dt>\n",
              "\t\t<dd>216</dd>\n",
              "\t<dt>$ganancia_test</dt>\n",
              "\t\t<dd>49610000</dd>\n",
              "</dl>\n",
              "</li>\n",
              "\t<li><dl>\n",
              "\t<dt>$semilla</dt>\n",
              "\t\t<dd>308467</dd>\n",
              "\t<dt>$testing</dt>\n",
              "\t\t<dd>49379</dd>\n",
              "\t<dt>$testing_pos</dt>\n",
              "\t\t<dd>375</dd>\n",
              "\t<dt>$envios</dt>\n",
              "\t\t<dd>3544</dd>\n",
              "\t<dt>$aciertos</dt>\n",
              "\t\t<dd>199</dd>\n",
              "\t<dt>$ganancia_test</dt>\n",
              "\t\t<dd>44160000</dd>\n",
              "</dl>\n",
              "</li>\n",
              "\t<li><dl>\n",
              "\t<dt>$semilla</dt>\n",
              "\t\t<dd>948943</dd>\n",
              "\t<dt>$testing</dt>\n",
              "\t\t<dd>49373</dd>\n",
              "\t<dt>$testing_pos</dt>\n",
              "\t\t<dd>376</dd>\n",
              "\t<dt>$envios</dt>\n",
              "\t\t<dd>3536</dd>\n",
              "\t<dt>$aciertos</dt>\n",
              "\t\t<dd>215</dd>\n",
              "\t<dt>$ganancia_test</dt>\n",
              "\t\t<dd>50640000</dd>\n",
              "</dl>\n",
              "</li>\n",
              "\t<li><dl>\n",
              "\t<dt>$semilla</dt>\n",
              "\t\t<dd>926399</dd>\n",
              "\t<dt>$testing</dt>\n",
              "\t\t<dd>49381</dd>\n",
              "\t<dt>$testing_pos</dt>\n",
              "\t\t<dd>376</dd>\n",
              "\t<dt>$envios</dt>\n",
              "\t\t<dd>3213</dd>\n",
              "\t<dt>$aciertos</dt>\n",
              "\t\t<dd>212</dd>\n",
              "\t<dt>$ganancia_test</dt>\n",
              "\t\t<dd>52670000</dd>\n",
              "</dl>\n",
              "</li>\n",
              "\t<li><dl>\n",
              "\t<dt>$semilla</dt>\n",
              "\t\t<dd>212671</dd>\n",
              "\t<dt>$testing</dt>\n",
              "\t\t<dd>49393</dd>\n",
              "\t<dt>$testing_pos</dt>\n",
              "\t\t<dd>376</dd>\n",
              "\t<dt>$envios</dt>\n",
              "\t\t<dd>3505</dd>\n",
              "\t<dt>$aciertos</dt>\n",
              "\t\t<dd>209</dd>\n",
              "\t<dt>$ganancia_test</dt>\n",
              "\t\t<dd>48550000</dd>\n",
              "</dl>\n",
              "</li>\n",
              "\t<li><dl>\n",
              "\t<dt>$semilla</dt>\n",
              "\t\t<dd>256579</dd>\n",
              "\t<dt>$testing</dt>\n",
              "\t\t<dd>49394</dd>\n",
              "\t<dt>$testing_pos</dt>\n",
              "\t\t<dd>374</dd>\n",
              "\t<dt>$envios</dt>\n",
              "\t\t<dd>3460</dd>\n",
              "\t<dt>$aciertos</dt>\n",
              "\t\t<dd>208</dd>\n",
              "\t<dt>$ganancia_test</dt>\n",
              "\t\t<dd>48600000</dd>\n",
              "</dl>\n",
              "</li>\n",
              "\t<li><dl>\n",
              "\t<dt>$semilla</dt>\n",
              "\t\t<dd>434167</dd>\n",
              "\t<dt>$testing</dt>\n",
              "\t\t<dd>49380</dd>\n",
              "\t<dt>$testing_pos</dt>\n",
              "\t\t<dd>377</dd>\n",
              "\t<dt>$envios</dt>\n",
              "\t\t<dd>4212</dd>\n",
              "\t<dt>$aciertos</dt>\n",
              "\t\t<dd>217</dd>\n",
              "\t<dt>$ganancia_test</dt>\n",
              "\t\t<dd>44680000</dd>\n",
              "</dl>\n",
              "</li>\n",
              "\t<li><dl>\n",
              "\t<dt>$semilla</dt>\n",
              "\t\t<dd>187883</dd>\n",
              "\t<dt>$testing</dt>\n",
              "\t\t<dd>49386</dd>\n",
              "\t<dt>$testing_pos</dt>\n",
              "\t\t<dd>383</dd>\n",
              "\t<dt>$envios</dt>\n",
              "\t\t<dd>3283</dd>\n",
              "\t<dt>$aciertos</dt>\n",
              "\t\t<dd>202</dd>\n",
              "\t<dt>$ganancia_test</dt>\n",
              "\t\t<dd>47970000</dd>\n",
              "</dl>\n",
              "</li>\n",
              "\t<li><dl>\n",
              "\t<dt>$semilla</dt>\n",
              "\t\t<dd>104701</dd>\n",
              "\t<dt>$testing</dt>\n",
              "\t\t<dd>49383</dd>\n",
              "\t<dt>$testing_pos</dt>\n",
              "\t\t<dd>378</dd>\n",
              "\t<dt>$envios</dt>\n",
              "\t\t<dd>3090</dd>\n",
              "\t<dt>$aciertos</dt>\n",
              "\t\t<dd>175</dd>\n",
              "\t<dt>$ganancia_test</dt>\n",
              "\t\t<dd>39100000</dd>\n",
              "</dl>\n",
              "</li>\n",
              "\t<li><dl>\n",
              "\t<dt>$semilla</dt>\n",
              "\t\t<dd>633487</dd>\n",
              "\t<dt>$testing</dt>\n",
              "\t\t<dd>49389</dd>\n",
              "\t<dt>$testing_pos</dt>\n",
              "\t\t<dd>376</dd>\n",
              "\t<dt>$envios</dt>\n",
              "\t\t<dd>3009</dd>\n",
              "\t<dt>$aciertos</dt>\n",
              "\t\t<dd>195</dd>\n",
              "\t<dt>$ganancia_test</dt>\n",
              "\t\t<dd>47910000</dd>\n",
              "</dl>\n",
              "</li>\n",
              "\t<li><dl>\n",
              "\t<dt>$semilla</dt>\n",
              "\t\t<dd>462103</dd>\n",
              "\t<dt>$testing</dt>\n",
              "\t\t<dd>49378</dd>\n",
              "\t<dt>$testing_pos</dt>\n",
              "\t\t<dd>374</dd>\n",
              "\t<dt>$envios</dt>\n",
              "\t\t<dd>2857</dd>\n",
              "\t<dt>$aciertos</dt>\n",
              "\t\t<dd>203</dd>\n",
              "\t<dt>$ganancia_test</dt>\n",
              "\t\t<dd>52630000</dd>\n",
              "</dl>\n",
              "</li>\n",
              "\t<li><dl>\n",
              "\t<dt>$semilla</dt>\n",
              "\t\t<dd>241877</dd>\n",
              "\t<dt>$testing</dt>\n",
              "\t\t<dd>49376</dd>\n",
              "\t<dt>$testing_pos</dt>\n",
              "\t\t<dd>378</dd>\n",
              "\t<dt>$envios</dt>\n",
              "\t\t<dd>2375</dd>\n",
              "\t<dt>$aciertos</dt>\n",
              "\t\t<dd>175</dd>\n",
              "\t<dt>$ganancia_test</dt>\n",
              "\t\t<dd>46250000</dd>\n",
              "</dl>\n",
              "</li>\n",
              "\t<li><dl>\n",
              "\t<dt>$semilla</dt>\n",
              "\t\t<dd>852847</dd>\n",
              "\t<dt>$testing</dt>\n",
              "\t\t<dd>49376</dd>\n",
              "\t<dt>$testing_pos</dt>\n",
              "\t\t<dd>375</dd>\n",
              "\t<dt>$envios</dt>\n",
              "\t\t<dd>3176</dd>\n",
              "\t<dt>$aciertos</dt>\n",
              "\t\t<dd>191</dd>\n",
              "\t<dt>$ganancia_test</dt>\n",
              "\t\t<dd>44640000</dd>\n",
              "</dl>\n",
              "</li>\n",
              "\t<li><dl>\n",
              "\t<dt>$semilla</dt>\n",
              "\t\t<dd>362281</dd>\n",
              "\t<dt>$testing</dt>\n",
              "\t\t<dd>49382</dd>\n",
              "\t<dt>$testing_pos</dt>\n",
              "\t\t<dd>378</dd>\n",
              "\t<dt>$envios</dt>\n",
              "\t\t<dd>2976</dd>\n",
              "\t<dt>$aciertos</dt>\n",
              "\t\t<dd>210</dd>\n",
              "\t<dt>$ganancia_test</dt>\n",
              "\t\t<dd>54240000</dd>\n",
              "</dl>\n",
              "</li>\n",
              "\t<li><dl>\n",
              "\t<dt>$semilla</dt>\n",
              "\t\t<dd>592357</dd>\n",
              "\t<dt>$testing</dt>\n",
              "\t\t<dd>49384</dd>\n",
              "\t<dt>$testing_pos</dt>\n",
              "\t\t<dd>377</dd>\n",
              "\t<dt>$envios</dt>\n",
              "\t\t<dd>4178</dd>\n",
              "\t<dt>$aciertos</dt>\n",
              "\t\t<dd>227</dd>\n",
              "\t<dt>$ganancia_test</dt>\n",
              "\t\t<dd>49020000</dd>\n",
              "</dl>\n",
              "</li>\n",
              "\t<li><dl>\n",
              "\t<dt>$semilla</dt>\n",
              "\t\t<dd>273773</dd>\n",
              "\t<dt>$testing</dt>\n",
              "\t\t<dd>49375</dd>\n",
              "\t<dt>$testing_pos</dt>\n",
              "\t\t<dd>372</dd>\n",
              "\t<dt>$envios</dt>\n",
              "\t\t<dd>3747</dd>\n",
              "\t<dt>$aciertos</dt>\n",
              "\t\t<dd>205</dd>\n",
              "\t<dt>$ganancia_test</dt>\n",
              "\t\t<dd>44530000</dd>\n",
              "</dl>\n",
              "</li>\n",
              "\t<li><dl>\n",
              "\t<dt>$semilla</dt>\n",
              "\t\t<dd>728047</dd>\n",
              "\t<dt>$testing</dt>\n",
              "\t\t<dd>49384</dd>\n",
              "\t<dt>$testing_pos</dt>\n",
              "\t\t<dd>379</dd>\n",
              "\t<dt>$envios</dt>\n",
              "\t\t<dd>3631</dd>\n",
              "\t<dt>$aciertos</dt>\n",
              "\t\t<dd>230</dd>\n",
              "\t<dt>$ganancia_test</dt>\n",
              "\t\t<dd>55690000</dd>\n",
              "</dl>\n",
              "</li>\n",
              "\t<li><dl>\n",
              "\t<dt>$semilla</dt>\n",
              "\t\t<dd>647117</dd>\n",
              "\t<dt>$testing</dt>\n",
              "\t\t<dd>49388</dd>\n",
              "\t<dt>$testing_pos</dt>\n",
              "\t\t<dd>377</dd>\n",
              "\t<dt>$envios</dt>\n",
              "\t\t<dd>3351</dd>\n",
              "\t<dt>$aciertos</dt>\n",
              "\t\t<dd>200</dd>\n",
              "\t<dt>$ganancia_test</dt>\n",
              "\t\t<dd>46490000</dd>\n",
              "</dl>\n",
              "</li>\n",
              "\t<li><dl>\n",
              "\t<dt>$semilla</dt>\n",
              "\t\t<dd>185099</dd>\n",
              "\t<dt>$testing</dt>\n",
              "\t\t<dd>49370</dd>\n",
              "\t<dt>$testing_pos</dt>\n",
              "\t\t<dd>371</dd>\n",
              "\t<dt>$envios</dt>\n",
              "\t\t<dd>2772</dd>\n",
              "\t<dt>$aciertos</dt>\n",
              "\t\t<dd>185</dd>\n",
              "\t<dt>$ganancia_test</dt>\n",
              "\t\t<dd>46280000</dd>\n",
              "</dl>\n",
              "</li>\n",
              "\t<li><dl>\n",
              "\t<dt>$semilla</dt>\n",
              "\t\t<dd>790843</dd>\n",
              "\t<dt>$testing</dt>\n",
              "\t\t<dd>49388</dd>\n",
              "\t<dt>$testing_pos</dt>\n",
              "\t\t<dd>380</dd>\n",
              "\t<dt>$envios</dt>\n",
              "\t\t<dd>2925</dd>\n",
              "\t<dt>$aciertos</dt>\n",
              "\t\t<dd>191</dd>\n",
              "\t<dt>$ganancia_test</dt>\n",
              "\t\t<dd>47150000</dd>\n",
              "</dl>\n",
              "</li>\n",
              "</ol>\n"
            ],
            "text/markdown": "1. $semilla\n:   735169\n$testing\n:   49382\n$testing_pos\n:   374\n$envios\n:   3533\n$aciertos\n:   213\n$ganancia_test\n:   49870000\n\n\n\n2. $semilla\n:   388621\n$testing\n:   49371\n$testing_pos\n:   368\n$envios\n:   3539\n$aciertos\n:   212\n$ganancia_test\n:   49410000\n\n\n\n3. $semilla\n:   671431\n$testing\n:   49381\n$testing_pos\n:   376\n$envios\n:   3988\n$aciertos\n:   221\n$ganancia_test\n:   48520000\n\n\n\n4. $semilla\n:   341171\n$testing\n:   49381\n$testing_pos\n:   374\n$envios\n:   3415\n$aciertos\n:   210\n$ganancia_test\n:   49850000\n\n\n\n5. $semilla\n:   451207\n$testing\n:   49379\n$testing_pos\n:   372\n$envios\n:   4217\n$aciertos\n:   226\n$ganancia_test\n:   48230000\n\n\n\n6. $semilla\n:   324067\n$testing\n:   49390\n$testing_pos\n:   376\n$envios\n:   2780\n$aciertos\n:   177\n$ganancia_test\n:   4.3e+07\n\n\n\n7. $semilla\n:   635309\n$testing\n:   49388\n$testing_pos\n:   379\n$envios\n:   3253\n$aciertos\n:   206\n$ganancia_test\n:   49870000\n\n\n\n8. $semilla\n:   564979\n$testing\n:   49377\n$testing_pos\n:   375\n$envios\n:   3313\n$aciertos\n:   203\n$ganancia_test\n:   48070000\n\n\n\n9. $semilla\n:   971473\n$testing\n:   49371\n$testing_pos\n:   375\n$envios\n:   3833\n$aciertos\n:   223\n$ganancia_test\n:   50870000\n\n\n\n10. $semilla\n:   934463\n$testing\n:   49388\n$testing_pos\n:   371\n$envios\n:   3613\n$aciertos\n:   212\n$ganancia_test\n:   48670000\n\n\n\n11. $semilla\n:   181439\n$testing\n:   49380\n$testing_pos\n:   374\n$envios\n:   3679\n$aciertos\n:   197\n$ganancia_test\n:   42010000\n\n\n\n12. $semilla\n:   447451\n$testing\n:   49381\n$testing_pos\n:   372\n$envios\n:   4123\n$aciertos\n:   227\n$ganancia_test\n:   49570000\n\n\n\n13. $semilla\n:   742541\n$testing\n:   49380\n$testing_pos\n:   369\n$envios\n:   3413\n$aciertos\n:   206\n$ganancia_test\n:   48270000\n\n\n\n14. $semilla\n:   872177\n$testing\n:   49371\n$testing_pos\n:   375\n$envios\n:   3349\n$aciertos\n:   205\n$ganancia_test\n:   48510000\n\n\n\n15. $semilla\n:   315883\n$testing\n:   49370\n$testing_pos\n:   375\n$envios\n:   3727\n$aciertos\n:   202\n$ganancia_test\n:   43530000\n\n\n\n16. $semilla\n:   343333\n$testing\n:   49386\n$testing_pos\n:   374\n$envios\n:   3520\n$aciertos\n:   212\n$ganancia_test\n:   49600000\n\n\n\n17. $semilla\n:   863711\n$testing\n:   49385\n$testing_pos\n:   379\n$envios\n:   4587\n$aciertos\n:   236\n$ganancia_test\n:   48530000\n\n\n\n18. $semilla\n:   605257\n$testing\n:   49373\n$testing_pos\n:   368\n$envios\n:   3646\n$aciertos\n:   207\n$ganancia_test\n:   46340000\n\n\n\n19. $semilla\n:   117239\n$testing\n:   49373\n$testing_pos\n:   371\n$envios\n:   3850\n$aciertos\n:   227\n$ganancia_test\n:   52300000\n\n\n\n20. $semilla\n:   708053\n$testing\n:   49380\n$testing_pos\n:   377\n$envios\n:   4102\n$aciertos\n:   235\n$ganancia_test\n:   52980000\n\n\n\n21. $semilla\n:   124561\n$testing\n:   49378\n$testing_pos\n:   375\n$envios\n:   2833\n$aciertos\n:   177\n$ganancia_test\n:   42470000\n\n\n\n22. $semilla\n:   696481\n$testing\n:   49377\n$testing_pos\n:   375\n$envios\n:   3338\n$aciertos\n:   214\n$ganancia_test\n:   52220000\n\n\n\n23. $semilla\n:   580093\n$testing\n:   49375\n$testing_pos\n:   371\n$envios\n:   3758\n$aciertos\n:   206\n$ganancia_test\n:   44820000\n\n\n\n24. $semilla\n:   575711\n$testing\n:   49383\n$testing_pos\n:   374\n$envios\n:   3030\n$aciertos\n:   203\n$ganancia_test\n:   50900000\n\n\n\n25. $semilla\n:   763943\n$testing\n:   49374\n$testing_pos\n:   376\n$envios\n:   4316\n$aciertos\n:   222\n$ganancia_test\n:   45640000\n\n\n\n26. $semilla\n:   373661\n$testing\n:   49390\n$testing_pos\n:   381\n$envios\n:   3044\n$aciertos\n:   197\n$ganancia_test\n:   48360000\n\n\n\n27. $semilla\n:   235483\n$testing\n:   49377\n$testing_pos\n:   377\n$envios\n:   2660\n$aciertos\n:   175\n$ganancia_test\n:   43400000\n\n\n\n28. $semilla\n:   220721\n$testing\n:   49380\n$testing_pos\n:   376\n$envios\n:   3494\n$aciertos\n:   204\n$ganancia_test\n:   46660000\n\n\n\n29. $semilla\n:   734959\n$testing\n:   49377\n$testing_pos\n:   373\n$envios\n:   2739\n$aciertos\n:   181\n$ganancia_test\n:   45010000\n\n\n\n30. $semilla\n:   945151\n$testing\n:   49387\n$testing_pos\n:   377\n$envios\n:   3549\n$aciertos\n:   206\n$ganancia_test\n:   46910000\n\n\n\n31. $semilla\n:   521777\n$testing\n:   49374\n$testing_pos\n:   374\n$envios\n:   3679\n$aciertos\n:   216\n$ganancia_test\n:   49610000\n\n\n\n32. $semilla\n:   308467\n$testing\n:   49379\n$testing_pos\n:   375\n$envios\n:   3544\n$aciertos\n:   199\n$ganancia_test\n:   44160000\n\n\n\n33. $semilla\n:   948943\n$testing\n:   49373\n$testing_pos\n:   376\n$envios\n:   3536\n$aciertos\n:   215\n$ganancia_test\n:   50640000\n\n\n\n34. $semilla\n:   926399\n$testing\n:   49381\n$testing_pos\n:   376\n$envios\n:   3213\n$aciertos\n:   212\n$ganancia_test\n:   52670000\n\n\n\n35. $semilla\n:   212671\n$testing\n:   49393\n$testing_pos\n:   376\n$envios\n:   3505\n$aciertos\n:   209\n$ganancia_test\n:   48550000\n\n\n\n36. $semilla\n:   256579\n$testing\n:   49394\n$testing_pos\n:   374\n$envios\n:   3460\n$aciertos\n:   208\n$ganancia_test\n:   48600000\n\n\n\n37. $semilla\n:   434167\n$testing\n:   49380\n$testing_pos\n:   377\n$envios\n:   4212\n$aciertos\n:   217\n$ganancia_test\n:   44680000\n\n\n\n38. $semilla\n:   187883\n$testing\n:   49386\n$testing_pos\n:   383\n$envios\n:   3283\n$aciertos\n:   202\n$ganancia_test\n:   47970000\n\n\n\n39. $semilla\n:   104701\n$testing\n:   49383\n$testing_pos\n:   378\n$envios\n:   3090\n$aciertos\n:   175\n$ganancia_test\n:   39100000\n\n\n\n40. $semilla\n:   633487\n$testing\n:   49389\n$testing_pos\n:   376\n$envios\n:   3009\n$aciertos\n:   195\n$ganancia_test\n:   47910000\n\n\n\n41. $semilla\n:   462103\n$testing\n:   49378\n$testing_pos\n:   374\n$envios\n:   2857\n$aciertos\n:   203\n$ganancia_test\n:   52630000\n\n\n\n42. $semilla\n:   241877\n$testing\n:   49376\n$testing_pos\n:   378\n$envios\n:   2375\n$aciertos\n:   175\n$ganancia_test\n:   46250000\n\n\n\n43. $semilla\n:   852847\n$testing\n:   49376\n$testing_pos\n:   375\n$envios\n:   3176\n$aciertos\n:   191\n$ganancia_test\n:   44640000\n\n\n\n44. $semilla\n:   362281\n$testing\n:   49382\n$testing_pos\n:   378\n$envios\n:   2976\n$aciertos\n:   210\n$ganancia_test\n:   54240000\n\n\n\n45. $semilla\n:   592357\n$testing\n:   49384\n$testing_pos\n:   377\n$envios\n:   4178\n$aciertos\n:   227\n$ganancia_test\n:   49020000\n\n\n\n46. $semilla\n:   273773\n$testing\n:   49375\n$testing_pos\n:   372\n$envios\n:   3747\n$aciertos\n:   205\n$ganancia_test\n:   44530000\n\n\n\n47. $semilla\n:   728047\n$testing\n:   49384\n$testing_pos\n:   379\n$envios\n:   3631\n$aciertos\n:   230\n$ganancia_test\n:   55690000\n\n\n\n48. $semilla\n:   647117\n$testing\n:   49388\n$testing_pos\n:   377\n$envios\n:   3351\n$aciertos\n:   200\n$ganancia_test\n:   46490000\n\n\n\n49. $semilla\n:   185099\n$testing\n:   49370\n$testing_pos\n:   371\n$envios\n:   2772\n$aciertos\n:   185\n$ganancia_test\n:   46280000\n\n\n\n50. $semilla\n:   790843\n$testing\n:   49388\n$testing_pos\n:   380\n$envios\n:   2925\n$aciertos\n:   191\n$ganancia_test\n:   47150000\n\n\n\n\n\n",
            "text/latex": "\\begin{enumerate}\n\\item \\begin{description}\n\\item[\\$semilla] 735169\n\\item[\\$testing] 49382\n\\item[\\$testing\\_pos] 374\n\\item[\\$envios] 3533\n\\item[\\$aciertos] 213\n\\item[\\$ganancia\\_test] 49870000\n\\end{description}\n\n\\item \\begin{description}\n\\item[\\$semilla] 388621\n\\item[\\$testing] 49371\n\\item[\\$testing\\_pos] 368\n\\item[\\$envios] 3539\n\\item[\\$aciertos] 212\n\\item[\\$ganancia\\_test] 49410000\n\\end{description}\n\n\\item \\begin{description}\n\\item[\\$semilla] 671431\n\\item[\\$testing] 49381\n\\item[\\$testing\\_pos] 376\n\\item[\\$envios] 3988\n\\item[\\$aciertos] 221\n\\item[\\$ganancia\\_test] 48520000\n\\end{description}\n\n\\item \\begin{description}\n\\item[\\$semilla] 341171\n\\item[\\$testing] 49381\n\\item[\\$testing\\_pos] 374\n\\item[\\$envios] 3415\n\\item[\\$aciertos] 210\n\\item[\\$ganancia\\_test] 49850000\n\\end{description}\n\n\\item \\begin{description}\n\\item[\\$semilla] 451207\n\\item[\\$testing] 49379\n\\item[\\$testing\\_pos] 372\n\\item[\\$envios] 4217\n\\item[\\$aciertos] 226\n\\item[\\$ganancia\\_test] 48230000\n\\end{description}\n\n\\item \\begin{description}\n\\item[\\$semilla] 324067\n\\item[\\$testing] 49390\n\\item[\\$testing\\_pos] 376\n\\item[\\$envios] 2780\n\\item[\\$aciertos] 177\n\\item[\\$ganancia\\_test] 4.3e+07\n\\end{description}\n\n\\item \\begin{description}\n\\item[\\$semilla] 635309\n\\item[\\$testing] 49388\n\\item[\\$testing\\_pos] 379\n\\item[\\$envios] 3253\n\\item[\\$aciertos] 206\n\\item[\\$ganancia\\_test] 49870000\n\\end{description}\n\n\\item \\begin{description}\n\\item[\\$semilla] 564979\n\\item[\\$testing] 49377\n\\item[\\$testing\\_pos] 375\n\\item[\\$envios] 3313\n\\item[\\$aciertos] 203\n\\item[\\$ganancia\\_test] 48070000\n\\end{description}\n\n\\item \\begin{description}\n\\item[\\$semilla] 971473\n\\item[\\$testing] 49371\n\\item[\\$testing\\_pos] 375\n\\item[\\$envios] 3833\n\\item[\\$aciertos] 223\n\\item[\\$ganancia\\_test] 50870000\n\\end{description}\n\n\\item \\begin{description}\n\\item[\\$semilla] 934463\n\\item[\\$testing] 49388\n\\item[\\$testing\\_pos] 371\n\\item[\\$envios] 3613\n\\item[\\$aciertos] 212\n\\item[\\$ganancia\\_test] 48670000\n\\end{description}\n\n\\item \\begin{description}\n\\item[\\$semilla] 181439\n\\item[\\$testing] 49380\n\\item[\\$testing\\_pos] 374\n\\item[\\$envios] 3679\n\\item[\\$aciertos] 197\n\\item[\\$ganancia\\_test] 42010000\n\\end{description}\n\n\\item \\begin{description}\n\\item[\\$semilla] 447451\n\\item[\\$testing] 49381\n\\item[\\$testing\\_pos] 372\n\\item[\\$envios] 4123\n\\item[\\$aciertos] 227\n\\item[\\$ganancia\\_test] 49570000\n\\end{description}\n\n\\item \\begin{description}\n\\item[\\$semilla] 742541\n\\item[\\$testing] 49380\n\\item[\\$testing\\_pos] 369\n\\item[\\$envios] 3413\n\\item[\\$aciertos] 206\n\\item[\\$ganancia\\_test] 48270000\n\\end{description}\n\n\\item \\begin{description}\n\\item[\\$semilla] 872177\n\\item[\\$testing] 49371\n\\item[\\$testing\\_pos] 375\n\\item[\\$envios] 3349\n\\item[\\$aciertos] 205\n\\item[\\$ganancia\\_test] 48510000\n\\end{description}\n\n\\item \\begin{description}\n\\item[\\$semilla] 315883\n\\item[\\$testing] 49370\n\\item[\\$testing\\_pos] 375\n\\item[\\$envios] 3727\n\\item[\\$aciertos] 202\n\\item[\\$ganancia\\_test] 43530000\n\\end{description}\n\n\\item \\begin{description}\n\\item[\\$semilla] 343333\n\\item[\\$testing] 49386\n\\item[\\$testing\\_pos] 374\n\\item[\\$envios] 3520\n\\item[\\$aciertos] 212\n\\item[\\$ganancia\\_test] 49600000\n\\end{description}\n\n\\item \\begin{description}\n\\item[\\$semilla] 863711\n\\item[\\$testing] 49385\n\\item[\\$testing\\_pos] 379\n\\item[\\$envios] 4587\n\\item[\\$aciertos] 236\n\\item[\\$ganancia\\_test] 48530000\n\\end{description}\n\n\\item \\begin{description}\n\\item[\\$semilla] 605257\n\\item[\\$testing] 49373\n\\item[\\$testing\\_pos] 368\n\\item[\\$envios] 3646\n\\item[\\$aciertos] 207\n\\item[\\$ganancia\\_test] 46340000\n\\end{description}\n\n\\item \\begin{description}\n\\item[\\$semilla] 117239\n\\item[\\$testing] 49373\n\\item[\\$testing\\_pos] 371\n\\item[\\$envios] 3850\n\\item[\\$aciertos] 227\n\\item[\\$ganancia\\_test] 52300000\n\\end{description}\n\n\\item \\begin{description}\n\\item[\\$semilla] 708053\n\\item[\\$testing] 49380\n\\item[\\$testing\\_pos] 377\n\\item[\\$envios] 4102\n\\item[\\$aciertos] 235\n\\item[\\$ganancia\\_test] 52980000\n\\end{description}\n\n\\item \\begin{description}\n\\item[\\$semilla] 124561\n\\item[\\$testing] 49378\n\\item[\\$testing\\_pos] 375\n\\item[\\$envios] 2833\n\\item[\\$aciertos] 177\n\\item[\\$ganancia\\_test] 42470000\n\\end{description}\n\n\\item \\begin{description}\n\\item[\\$semilla] 696481\n\\item[\\$testing] 49377\n\\item[\\$testing\\_pos] 375\n\\item[\\$envios] 3338\n\\item[\\$aciertos] 214\n\\item[\\$ganancia\\_test] 52220000\n\\end{description}\n\n\\item \\begin{description}\n\\item[\\$semilla] 580093\n\\item[\\$testing] 49375\n\\item[\\$testing\\_pos] 371\n\\item[\\$envios] 3758\n\\item[\\$aciertos] 206\n\\item[\\$ganancia\\_test] 44820000\n\\end{description}\n\n\\item \\begin{description}\n\\item[\\$semilla] 575711\n\\item[\\$testing] 49383\n\\item[\\$testing\\_pos] 374\n\\item[\\$envios] 3030\n\\item[\\$aciertos] 203\n\\item[\\$ganancia\\_test] 50900000\n\\end{description}\n\n\\item \\begin{description}\n\\item[\\$semilla] 763943\n\\item[\\$testing] 49374\n\\item[\\$testing\\_pos] 376\n\\item[\\$envios] 4316\n\\item[\\$aciertos] 222\n\\item[\\$ganancia\\_test] 45640000\n\\end{description}\n\n\\item \\begin{description}\n\\item[\\$semilla] 373661\n\\item[\\$testing] 49390\n\\item[\\$testing\\_pos] 381\n\\item[\\$envios] 3044\n\\item[\\$aciertos] 197\n\\item[\\$ganancia\\_test] 48360000\n\\end{description}\n\n\\item \\begin{description}\n\\item[\\$semilla] 235483\n\\item[\\$testing] 49377\n\\item[\\$testing\\_pos] 377\n\\item[\\$envios] 2660\n\\item[\\$aciertos] 175\n\\item[\\$ganancia\\_test] 43400000\n\\end{description}\n\n\\item \\begin{description}\n\\item[\\$semilla] 220721\n\\item[\\$testing] 49380\n\\item[\\$testing\\_pos] 376\n\\item[\\$envios] 3494\n\\item[\\$aciertos] 204\n\\item[\\$ganancia\\_test] 46660000\n\\end{description}\n\n\\item \\begin{description}\n\\item[\\$semilla] 734959\n\\item[\\$testing] 49377\n\\item[\\$testing\\_pos] 373\n\\item[\\$envios] 2739\n\\item[\\$aciertos] 181\n\\item[\\$ganancia\\_test] 45010000\n\\end{description}\n\n\\item \\begin{description}\n\\item[\\$semilla] 945151\n\\item[\\$testing] 49387\n\\item[\\$testing\\_pos] 377\n\\item[\\$envios] 3549\n\\item[\\$aciertos] 206\n\\item[\\$ganancia\\_test] 46910000\n\\end{description}\n\n\\item \\begin{description}\n\\item[\\$semilla] 521777\n\\item[\\$testing] 49374\n\\item[\\$testing\\_pos] 374\n\\item[\\$envios] 3679\n\\item[\\$aciertos] 216\n\\item[\\$ganancia\\_test] 49610000\n\\end{description}\n\n\\item \\begin{description}\n\\item[\\$semilla] 308467\n\\item[\\$testing] 49379\n\\item[\\$testing\\_pos] 375\n\\item[\\$envios] 3544\n\\item[\\$aciertos] 199\n\\item[\\$ganancia\\_test] 44160000\n\\end{description}\n\n\\item \\begin{description}\n\\item[\\$semilla] 948943\n\\item[\\$testing] 49373\n\\item[\\$testing\\_pos] 376\n\\item[\\$envios] 3536\n\\item[\\$aciertos] 215\n\\item[\\$ganancia\\_test] 50640000\n\\end{description}\n\n\\item \\begin{description}\n\\item[\\$semilla] 926399\n\\item[\\$testing] 49381\n\\item[\\$testing\\_pos] 376\n\\item[\\$envios] 3213\n\\item[\\$aciertos] 212\n\\item[\\$ganancia\\_test] 52670000\n\\end{description}\n\n\\item \\begin{description}\n\\item[\\$semilla] 212671\n\\item[\\$testing] 49393\n\\item[\\$testing\\_pos] 376\n\\item[\\$envios] 3505\n\\item[\\$aciertos] 209\n\\item[\\$ganancia\\_test] 48550000\n\\end{description}\n\n\\item \\begin{description}\n\\item[\\$semilla] 256579\n\\item[\\$testing] 49394\n\\item[\\$testing\\_pos] 374\n\\item[\\$envios] 3460\n\\item[\\$aciertos] 208\n\\item[\\$ganancia\\_test] 48600000\n\\end{description}\n\n\\item \\begin{description}\n\\item[\\$semilla] 434167\n\\item[\\$testing] 49380\n\\item[\\$testing\\_pos] 377\n\\item[\\$envios] 4212\n\\item[\\$aciertos] 217\n\\item[\\$ganancia\\_test] 44680000\n\\end{description}\n\n\\item \\begin{description}\n\\item[\\$semilla] 187883\n\\item[\\$testing] 49386\n\\item[\\$testing\\_pos] 383\n\\item[\\$envios] 3283\n\\item[\\$aciertos] 202\n\\item[\\$ganancia\\_test] 47970000\n\\end{description}\n\n\\item \\begin{description}\n\\item[\\$semilla] 104701\n\\item[\\$testing] 49383\n\\item[\\$testing\\_pos] 378\n\\item[\\$envios] 3090\n\\item[\\$aciertos] 175\n\\item[\\$ganancia\\_test] 39100000\n\\end{description}\n\n\\item \\begin{description}\n\\item[\\$semilla] 633487\n\\item[\\$testing] 49389\n\\item[\\$testing\\_pos] 376\n\\item[\\$envios] 3009\n\\item[\\$aciertos] 195\n\\item[\\$ganancia\\_test] 47910000\n\\end{description}\n\n\\item \\begin{description}\n\\item[\\$semilla] 462103\n\\item[\\$testing] 49378\n\\item[\\$testing\\_pos] 374\n\\item[\\$envios] 2857\n\\item[\\$aciertos] 203\n\\item[\\$ganancia\\_test] 52630000\n\\end{description}\n\n\\item \\begin{description}\n\\item[\\$semilla] 241877\n\\item[\\$testing] 49376\n\\item[\\$testing\\_pos] 378\n\\item[\\$envios] 2375\n\\item[\\$aciertos] 175\n\\item[\\$ganancia\\_test] 46250000\n\\end{description}\n\n\\item \\begin{description}\n\\item[\\$semilla] 852847\n\\item[\\$testing] 49376\n\\item[\\$testing\\_pos] 375\n\\item[\\$envios] 3176\n\\item[\\$aciertos] 191\n\\item[\\$ganancia\\_test] 44640000\n\\end{description}\n\n\\item \\begin{description}\n\\item[\\$semilla] 362281\n\\item[\\$testing] 49382\n\\item[\\$testing\\_pos] 378\n\\item[\\$envios] 2976\n\\item[\\$aciertos] 210\n\\item[\\$ganancia\\_test] 54240000\n\\end{description}\n\n\\item \\begin{description}\n\\item[\\$semilla] 592357\n\\item[\\$testing] 49384\n\\item[\\$testing\\_pos] 377\n\\item[\\$envios] 4178\n\\item[\\$aciertos] 227\n\\item[\\$ganancia\\_test] 49020000\n\\end{description}\n\n\\item \\begin{description}\n\\item[\\$semilla] 273773\n\\item[\\$testing] 49375\n\\item[\\$testing\\_pos] 372\n\\item[\\$envios] 3747\n\\item[\\$aciertos] 205\n\\item[\\$ganancia\\_test] 44530000\n\\end{description}\n\n\\item \\begin{description}\n\\item[\\$semilla] 728047\n\\item[\\$testing] 49384\n\\item[\\$testing\\_pos] 379\n\\item[\\$envios] 3631\n\\item[\\$aciertos] 230\n\\item[\\$ganancia\\_test] 55690000\n\\end{description}\n\n\\item \\begin{description}\n\\item[\\$semilla] 647117\n\\item[\\$testing] 49388\n\\item[\\$testing\\_pos] 377\n\\item[\\$envios] 3351\n\\item[\\$aciertos] 200\n\\item[\\$ganancia\\_test] 46490000\n\\end{description}\n\n\\item \\begin{description}\n\\item[\\$semilla] 185099\n\\item[\\$testing] 49370\n\\item[\\$testing\\_pos] 371\n\\item[\\$envios] 2772\n\\item[\\$aciertos] 185\n\\item[\\$ganancia\\_test] 46280000\n\\end{description}\n\n\\item \\begin{description}\n\\item[\\$semilla] 790843\n\\item[\\$testing] 49388\n\\item[\\$testing\\_pos] 380\n\\item[\\$envios] 2925\n\\item[\\$aciertos] 191\n\\item[\\$ganancia\\_test] 47150000\n\\end{description}\n\n\\end{enumerate}\n",
            "text/plain": [
              "[[1]]\n",
              "[[1]]$semilla\n",
              "[1] 735169\n",
              "\n",
              "[[1]]$testing\n",
              "[1] 49382\n",
              "\n",
              "[[1]]$testing_pos\n",
              "[1] 374\n",
              "\n",
              "[[1]]$envios\n",
              "[1] 3533\n",
              "\n",
              "[[1]]$aciertos\n",
              "[1] 213\n",
              "\n",
              "[[1]]$ganancia_test\n",
              "[1] 49870000\n",
              "\n",
              "\n",
              "[[2]]\n",
              "[[2]]$semilla\n",
              "[1] 388621\n",
              "\n",
              "[[2]]$testing\n",
              "[1] 49371\n",
              "\n",
              "[[2]]$testing_pos\n",
              "[1] 368\n",
              "\n",
              "[[2]]$envios\n",
              "[1] 3539\n",
              "\n",
              "[[2]]$aciertos\n",
              "[1] 212\n",
              "\n",
              "[[2]]$ganancia_test\n",
              "[1] 49410000\n",
              "\n",
              "\n",
              "[[3]]\n",
              "[[3]]$semilla\n",
              "[1] 671431\n",
              "\n",
              "[[3]]$testing\n",
              "[1] 49381\n",
              "\n",
              "[[3]]$testing_pos\n",
              "[1] 376\n",
              "\n",
              "[[3]]$envios\n",
              "[1] 3988\n",
              "\n",
              "[[3]]$aciertos\n",
              "[1] 221\n",
              "\n",
              "[[3]]$ganancia_test\n",
              "[1] 48520000\n",
              "\n",
              "\n",
              "[[4]]\n",
              "[[4]]$semilla\n",
              "[1] 341171\n",
              "\n",
              "[[4]]$testing\n",
              "[1] 49381\n",
              "\n",
              "[[4]]$testing_pos\n",
              "[1] 374\n",
              "\n",
              "[[4]]$envios\n",
              "[1] 3415\n",
              "\n",
              "[[4]]$aciertos\n",
              "[1] 210\n",
              "\n",
              "[[4]]$ganancia_test\n",
              "[1] 49850000\n",
              "\n",
              "\n",
              "[[5]]\n",
              "[[5]]$semilla\n",
              "[1] 451207\n",
              "\n",
              "[[5]]$testing\n",
              "[1] 49379\n",
              "\n",
              "[[5]]$testing_pos\n",
              "[1] 372\n",
              "\n",
              "[[5]]$envios\n",
              "[1] 4217\n",
              "\n",
              "[[5]]$aciertos\n",
              "[1] 226\n",
              "\n",
              "[[5]]$ganancia_test\n",
              "[1] 48230000\n",
              "\n",
              "\n",
              "[[6]]\n",
              "[[6]]$semilla\n",
              "[1] 324067\n",
              "\n",
              "[[6]]$testing\n",
              "[1] 49390\n",
              "\n",
              "[[6]]$testing_pos\n",
              "[1] 376\n",
              "\n",
              "[[6]]$envios\n",
              "[1] 2780\n",
              "\n",
              "[[6]]$aciertos\n",
              "[1] 177\n",
              "\n",
              "[[6]]$ganancia_test\n",
              "[1] 4.3e+07\n",
              "\n",
              "\n",
              "[[7]]\n",
              "[[7]]$semilla\n",
              "[1] 635309\n",
              "\n",
              "[[7]]$testing\n",
              "[1] 49388\n",
              "\n",
              "[[7]]$testing_pos\n",
              "[1] 379\n",
              "\n",
              "[[7]]$envios\n",
              "[1] 3253\n",
              "\n",
              "[[7]]$aciertos\n",
              "[1] 206\n",
              "\n",
              "[[7]]$ganancia_test\n",
              "[1] 49870000\n",
              "\n",
              "\n",
              "[[8]]\n",
              "[[8]]$semilla\n",
              "[1] 564979\n",
              "\n",
              "[[8]]$testing\n",
              "[1] 49377\n",
              "\n",
              "[[8]]$testing_pos\n",
              "[1] 375\n",
              "\n",
              "[[8]]$envios\n",
              "[1] 3313\n",
              "\n",
              "[[8]]$aciertos\n",
              "[1] 203\n",
              "\n",
              "[[8]]$ganancia_test\n",
              "[1] 48070000\n",
              "\n",
              "\n",
              "[[9]]\n",
              "[[9]]$semilla\n",
              "[1] 971473\n",
              "\n",
              "[[9]]$testing\n",
              "[1] 49371\n",
              "\n",
              "[[9]]$testing_pos\n",
              "[1] 375\n",
              "\n",
              "[[9]]$envios\n",
              "[1] 3833\n",
              "\n",
              "[[9]]$aciertos\n",
              "[1] 223\n",
              "\n",
              "[[9]]$ganancia_test\n",
              "[1] 50870000\n",
              "\n",
              "\n",
              "[[10]]\n",
              "[[10]]$semilla\n",
              "[1] 934463\n",
              "\n",
              "[[10]]$testing\n",
              "[1] 49388\n",
              "\n",
              "[[10]]$testing_pos\n",
              "[1] 371\n",
              "\n",
              "[[10]]$envios\n",
              "[1] 3613\n",
              "\n",
              "[[10]]$aciertos\n",
              "[1] 212\n",
              "\n",
              "[[10]]$ganancia_test\n",
              "[1] 48670000\n",
              "\n",
              "\n",
              "[[11]]\n",
              "[[11]]$semilla\n",
              "[1] 181439\n",
              "\n",
              "[[11]]$testing\n",
              "[1] 49380\n",
              "\n",
              "[[11]]$testing_pos\n",
              "[1] 374\n",
              "\n",
              "[[11]]$envios\n",
              "[1] 3679\n",
              "\n",
              "[[11]]$aciertos\n",
              "[1] 197\n",
              "\n",
              "[[11]]$ganancia_test\n",
              "[1] 42010000\n",
              "\n",
              "\n",
              "[[12]]\n",
              "[[12]]$semilla\n",
              "[1] 447451\n",
              "\n",
              "[[12]]$testing\n",
              "[1] 49381\n",
              "\n",
              "[[12]]$testing_pos\n",
              "[1] 372\n",
              "\n",
              "[[12]]$envios\n",
              "[1] 4123\n",
              "\n",
              "[[12]]$aciertos\n",
              "[1] 227\n",
              "\n",
              "[[12]]$ganancia_test\n",
              "[1] 49570000\n",
              "\n",
              "\n",
              "[[13]]\n",
              "[[13]]$semilla\n",
              "[1] 742541\n",
              "\n",
              "[[13]]$testing\n",
              "[1] 49380\n",
              "\n",
              "[[13]]$testing_pos\n",
              "[1] 369\n",
              "\n",
              "[[13]]$envios\n",
              "[1] 3413\n",
              "\n",
              "[[13]]$aciertos\n",
              "[1] 206\n",
              "\n",
              "[[13]]$ganancia_test\n",
              "[1] 48270000\n",
              "\n",
              "\n",
              "[[14]]\n",
              "[[14]]$semilla\n",
              "[1] 872177\n",
              "\n",
              "[[14]]$testing\n",
              "[1] 49371\n",
              "\n",
              "[[14]]$testing_pos\n",
              "[1] 375\n",
              "\n",
              "[[14]]$envios\n",
              "[1] 3349\n",
              "\n",
              "[[14]]$aciertos\n",
              "[1] 205\n",
              "\n",
              "[[14]]$ganancia_test\n",
              "[1] 48510000\n",
              "\n",
              "\n",
              "[[15]]\n",
              "[[15]]$semilla\n",
              "[1] 315883\n",
              "\n",
              "[[15]]$testing\n",
              "[1] 49370\n",
              "\n",
              "[[15]]$testing_pos\n",
              "[1] 375\n",
              "\n",
              "[[15]]$envios\n",
              "[1] 3727\n",
              "\n",
              "[[15]]$aciertos\n",
              "[1] 202\n",
              "\n",
              "[[15]]$ganancia_test\n",
              "[1] 43530000\n",
              "\n",
              "\n",
              "[[16]]\n",
              "[[16]]$semilla\n",
              "[1] 343333\n",
              "\n",
              "[[16]]$testing\n",
              "[1] 49386\n",
              "\n",
              "[[16]]$testing_pos\n",
              "[1] 374\n",
              "\n",
              "[[16]]$envios\n",
              "[1] 3520\n",
              "\n",
              "[[16]]$aciertos\n",
              "[1] 212\n",
              "\n",
              "[[16]]$ganancia_test\n",
              "[1] 49600000\n",
              "\n",
              "\n",
              "[[17]]\n",
              "[[17]]$semilla\n",
              "[1] 863711\n",
              "\n",
              "[[17]]$testing\n",
              "[1] 49385\n",
              "\n",
              "[[17]]$testing_pos\n",
              "[1] 379\n",
              "\n",
              "[[17]]$envios\n",
              "[1] 4587\n",
              "\n",
              "[[17]]$aciertos\n",
              "[1] 236\n",
              "\n",
              "[[17]]$ganancia_test\n",
              "[1] 48530000\n",
              "\n",
              "\n",
              "[[18]]\n",
              "[[18]]$semilla\n",
              "[1] 605257\n",
              "\n",
              "[[18]]$testing\n",
              "[1] 49373\n",
              "\n",
              "[[18]]$testing_pos\n",
              "[1] 368\n",
              "\n",
              "[[18]]$envios\n",
              "[1] 3646\n",
              "\n",
              "[[18]]$aciertos\n",
              "[1] 207\n",
              "\n",
              "[[18]]$ganancia_test\n",
              "[1] 46340000\n",
              "\n",
              "\n",
              "[[19]]\n",
              "[[19]]$semilla\n",
              "[1] 117239\n",
              "\n",
              "[[19]]$testing\n",
              "[1] 49373\n",
              "\n",
              "[[19]]$testing_pos\n",
              "[1] 371\n",
              "\n",
              "[[19]]$envios\n",
              "[1] 3850\n",
              "\n",
              "[[19]]$aciertos\n",
              "[1] 227\n",
              "\n",
              "[[19]]$ganancia_test\n",
              "[1] 52300000\n",
              "\n",
              "\n",
              "[[20]]\n",
              "[[20]]$semilla\n",
              "[1] 708053\n",
              "\n",
              "[[20]]$testing\n",
              "[1] 49380\n",
              "\n",
              "[[20]]$testing_pos\n",
              "[1] 377\n",
              "\n",
              "[[20]]$envios\n",
              "[1] 4102\n",
              "\n",
              "[[20]]$aciertos\n",
              "[1] 235\n",
              "\n",
              "[[20]]$ganancia_test\n",
              "[1] 52980000\n",
              "\n",
              "\n",
              "[[21]]\n",
              "[[21]]$semilla\n",
              "[1] 124561\n",
              "\n",
              "[[21]]$testing\n",
              "[1] 49378\n",
              "\n",
              "[[21]]$testing_pos\n",
              "[1] 375\n",
              "\n",
              "[[21]]$envios\n",
              "[1] 2833\n",
              "\n",
              "[[21]]$aciertos\n",
              "[1] 177\n",
              "\n",
              "[[21]]$ganancia_test\n",
              "[1] 42470000\n",
              "\n",
              "\n",
              "[[22]]\n",
              "[[22]]$semilla\n",
              "[1] 696481\n",
              "\n",
              "[[22]]$testing\n",
              "[1] 49377\n",
              "\n",
              "[[22]]$testing_pos\n",
              "[1] 375\n",
              "\n",
              "[[22]]$envios\n",
              "[1] 3338\n",
              "\n",
              "[[22]]$aciertos\n",
              "[1] 214\n",
              "\n",
              "[[22]]$ganancia_test\n",
              "[1] 52220000\n",
              "\n",
              "\n",
              "[[23]]\n",
              "[[23]]$semilla\n",
              "[1] 580093\n",
              "\n",
              "[[23]]$testing\n",
              "[1] 49375\n",
              "\n",
              "[[23]]$testing_pos\n",
              "[1] 371\n",
              "\n",
              "[[23]]$envios\n",
              "[1] 3758\n",
              "\n",
              "[[23]]$aciertos\n",
              "[1] 206\n",
              "\n",
              "[[23]]$ganancia_test\n",
              "[1] 44820000\n",
              "\n",
              "\n",
              "[[24]]\n",
              "[[24]]$semilla\n",
              "[1] 575711\n",
              "\n",
              "[[24]]$testing\n",
              "[1] 49383\n",
              "\n",
              "[[24]]$testing_pos\n",
              "[1] 374\n",
              "\n",
              "[[24]]$envios\n",
              "[1] 3030\n",
              "\n",
              "[[24]]$aciertos\n",
              "[1] 203\n",
              "\n",
              "[[24]]$ganancia_test\n",
              "[1] 50900000\n",
              "\n",
              "\n",
              "[[25]]\n",
              "[[25]]$semilla\n",
              "[1] 763943\n",
              "\n",
              "[[25]]$testing\n",
              "[1] 49374\n",
              "\n",
              "[[25]]$testing_pos\n",
              "[1] 376\n",
              "\n",
              "[[25]]$envios\n",
              "[1] 4316\n",
              "\n",
              "[[25]]$aciertos\n",
              "[1] 222\n",
              "\n",
              "[[25]]$ganancia_test\n",
              "[1] 45640000\n",
              "\n",
              "\n",
              "[[26]]\n",
              "[[26]]$semilla\n",
              "[1] 373661\n",
              "\n",
              "[[26]]$testing\n",
              "[1] 49390\n",
              "\n",
              "[[26]]$testing_pos\n",
              "[1] 381\n",
              "\n",
              "[[26]]$envios\n",
              "[1] 3044\n",
              "\n",
              "[[26]]$aciertos\n",
              "[1] 197\n",
              "\n",
              "[[26]]$ganancia_test\n",
              "[1] 48360000\n",
              "\n",
              "\n",
              "[[27]]\n",
              "[[27]]$semilla\n",
              "[1] 235483\n",
              "\n",
              "[[27]]$testing\n",
              "[1] 49377\n",
              "\n",
              "[[27]]$testing_pos\n",
              "[1] 377\n",
              "\n",
              "[[27]]$envios\n",
              "[1] 2660\n",
              "\n",
              "[[27]]$aciertos\n",
              "[1] 175\n",
              "\n",
              "[[27]]$ganancia_test\n",
              "[1] 43400000\n",
              "\n",
              "\n",
              "[[28]]\n",
              "[[28]]$semilla\n",
              "[1] 220721\n",
              "\n",
              "[[28]]$testing\n",
              "[1] 49380\n",
              "\n",
              "[[28]]$testing_pos\n",
              "[1] 376\n",
              "\n",
              "[[28]]$envios\n",
              "[1] 3494\n",
              "\n",
              "[[28]]$aciertos\n",
              "[1] 204\n",
              "\n",
              "[[28]]$ganancia_test\n",
              "[1] 46660000\n",
              "\n",
              "\n",
              "[[29]]\n",
              "[[29]]$semilla\n",
              "[1] 734959\n",
              "\n",
              "[[29]]$testing\n",
              "[1] 49377\n",
              "\n",
              "[[29]]$testing_pos\n",
              "[1] 373\n",
              "\n",
              "[[29]]$envios\n",
              "[1] 2739\n",
              "\n",
              "[[29]]$aciertos\n",
              "[1] 181\n",
              "\n",
              "[[29]]$ganancia_test\n",
              "[1] 45010000\n",
              "\n",
              "\n",
              "[[30]]\n",
              "[[30]]$semilla\n",
              "[1] 945151\n",
              "\n",
              "[[30]]$testing\n",
              "[1] 49387\n",
              "\n",
              "[[30]]$testing_pos\n",
              "[1] 377\n",
              "\n",
              "[[30]]$envios\n",
              "[1] 3549\n",
              "\n",
              "[[30]]$aciertos\n",
              "[1] 206\n",
              "\n",
              "[[30]]$ganancia_test\n",
              "[1] 46910000\n",
              "\n",
              "\n",
              "[[31]]\n",
              "[[31]]$semilla\n",
              "[1] 521777\n",
              "\n",
              "[[31]]$testing\n",
              "[1] 49374\n",
              "\n",
              "[[31]]$testing_pos\n",
              "[1] 374\n",
              "\n",
              "[[31]]$envios\n",
              "[1] 3679\n",
              "\n",
              "[[31]]$aciertos\n",
              "[1] 216\n",
              "\n",
              "[[31]]$ganancia_test\n",
              "[1] 49610000\n",
              "\n",
              "\n",
              "[[32]]\n",
              "[[32]]$semilla\n",
              "[1] 308467\n",
              "\n",
              "[[32]]$testing\n",
              "[1] 49379\n",
              "\n",
              "[[32]]$testing_pos\n",
              "[1] 375\n",
              "\n",
              "[[32]]$envios\n",
              "[1] 3544\n",
              "\n",
              "[[32]]$aciertos\n",
              "[1] 199\n",
              "\n",
              "[[32]]$ganancia_test\n",
              "[1] 44160000\n",
              "\n",
              "\n",
              "[[33]]\n",
              "[[33]]$semilla\n",
              "[1] 948943\n",
              "\n",
              "[[33]]$testing\n",
              "[1] 49373\n",
              "\n",
              "[[33]]$testing_pos\n",
              "[1] 376\n",
              "\n",
              "[[33]]$envios\n",
              "[1] 3536\n",
              "\n",
              "[[33]]$aciertos\n",
              "[1] 215\n",
              "\n",
              "[[33]]$ganancia_test\n",
              "[1] 50640000\n",
              "\n",
              "\n",
              "[[34]]\n",
              "[[34]]$semilla\n",
              "[1] 926399\n",
              "\n",
              "[[34]]$testing\n",
              "[1] 49381\n",
              "\n",
              "[[34]]$testing_pos\n",
              "[1] 376\n",
              "\n",
              "[[34]]$envios\n",
              "[1] 3213\n",
              "\n",
              "[[34]]$aciertos\n",
              "[1] 212\n",
              "\n",
              "[[34]]$ganancia_test\n",
              "[1] 52670000\n",
              "\n",
              "\n",
              "[[35]]\n",
              "[[35]]$semilla\n",
              "[1] 212671\n",
              "\n",
              "[[35]]$testing\n",
              "[1] 49393\n",
              "\n",
              "[[35]]$testing_pos\n",
              "[1] 376\n",
              "\n",
              "[[35]]$envios\n",
              "[1] 3505\n",
              "\n",
              "[[35]]$aciertos\n",
              "[1] 209\n",
              "\n",
              "[[35]]$ganancia_test\n",
              "[1] 48550000\n",
              "\n",
              "\n",
              "[[36]]\n",
              "[[36]]$semilla\n",
              "[1] 256579\n",
              "\n",
              "[[36]]$testing\n",
              "[1] 49394\n",
              "\n",
              "[[36]]$testing_pos\n",
              "[1] 374\n",
              "\n",
              "[[36]]$envios\n",
              "[1] 3460\n",
              "\n",
              "[[36]]$aciertos\n",
              "[1] 208\n",
              "\n",
              "[[36]]$ganancia_test\n",
              "[1] 48600000\n",
              "\n",
              "\n",
              "[[37]]\n",
              "[[37]]$semilla\n",
              "[1] 434167\n",
              "\n",
              "[[37]]$testing\n",
              "[1] 49380\n",
              "\n",
              "[[37]]$testing_pos\n",
              "[1] 377\n",
              "\n",
              "[[37]]$envios\n",
              "[1] 4212\n",
              "\n",
              "[[37]]$aciertos\n",
              "[1] 217\n",
              "\n",
              "[[37]]$ganancia_test\n",
              "[1] 44680000\n",
              "\n",
              "\n",
              "[[38]]\n",
              "[[38]]$semilla\n",
              "[1] 187883\n",
              "\n",
              "[[38]]$testing\n",
              "[1] 49386\n",
              "\n",
              "[[38]]$testing_pos\n",
              "[1] 383\n",
              "\n",
              "[[38]]$envios\n",
              "[1] 3283\n",
              "\n",
              "[[38]]$aciertos\n",
              "[1] 202\n",
              "\n",
              "[[38]]$ganancia_test\n",
              "[1] 47970000\n",
              "\n",
              "\n",
              "[[39]]\n",
              "[[39]]$semilla\n",
              "[1] 104701\n",
              "\n",
              "[[39]]$testing\n",
              "[1] 49383\n",
              "\n",
              "[[39]]$testing_pos\n",
              "[1] 378\n",
              "\n",
              "[[39]]$envios\n",
              "[1] 3090\n",
              "\n",
              "[[39]]$aciertos\n",
              "[1] 175\n",
              "\n",
              "[[39]]$ganancia_test\n",
              "[1] 39100000\n",
              "\n",
              "\n",
              "[[40]]\n",
              "[[40]]$semilla\n",
              "[1] 633487\n",
              "\n",
              "[[40]]$testing\n",
              "[1] 49389\n",
              "\n",
              "[[40]]$testing_pos\n",
              "[1] 376\n",
              "\n",
              "[[40]]$envios\n",
              "[1] 3009\n",
              "\n",
              "[[40]]$aciertos\n",
              "[1] 195\n",
              "\n",
              "[[40]]$ganancia_test\n",
              "[1] 47910000\n",
              "\n",
              "\n",
              "[[41]]\n",
              "[[41]]$semilla\n",
              "[1] 462103\n",
              "\n",
              "[[41]]$testing\n",
              "[1] 49378\n",
              "\n",
              "[[41]]$testing_pos\n",
              "[1] 374\n",
              "\n",
              "[[41]]$envios\n",
              "[1] 2857\n",
              "\n",
              "[[41]]$aciertos\n",
              "[1] 203\n",
              "\n",
              "[[41]]$ganancia_test\n",
              "[1] 52630000\n",
              "\n",
              "\n",
              "[[42]]\n",
              "[[42]]$semilla\n",
              "[1] 241877\n",
              "\n",
              "[[42]]$testing\n",
              "[1] 49376\n",
              "\n",
              "[[42]]$testing_pos\n",
              "[1] 378\n",
              "\n",
              "[[42]]$envios\n",
              "[1] 2375\n",
              "\n",
              "[[42]]$aciertos\n",
              "[1] 175\n",
              "\n",
              "[[42]]$ganancia_test\n",
              "[1] 46250000\n",
              "\n",
              "\n",
              "[[43]]\n",
              "[[43]]$semilla\n",
              "[1] 852847\n",
              "\n",
              "[[43]]$testing\n",
              "[1] 49376\n",
              "\n",
              "[[43]]$testing_pos\n",
              "[1] 375\n",
              "\n",
              "[[43]]$envios\n",
              "[1] 3176\n",
              "\n",
              "[[43]]$aciertos\n",
              "[1] 191\n",
              "\n",
              "[[43]]$ganancia_test\n",
              "[1] 44640000\n",
              "\n",
              "\n",
              "[[44]]\n",
              "[[44]]$semilla\n",
              "[1] 362281\n",
              "\n",
              "[[44]]$testing\n",
              "[1] 49382\n",
              "\n",
              "[[44]]$testing_pos\n",
              "[1] 378\n",
              "\n",
              "[[44]]$envios\n",
              "[1] 2976\n",
              "\n",
              "[[44]]$aciertos\n",
              "[1] 210\n",
              "\n",
              "[[44]]$ganancia_test\n",
              "[1] 54240000\n",
              "\n",
              "\n",
              "[[45]]\n",
              "[[45]]$semilla\n",
              "[1] 592357\n",
              "\n",
              "[[45]]$testing\n",
              "[1] 49384\n",
              "\n",
              "[[45]]$testing_pos\n",
              "[1] 377\n",
              "\n",
              "[[45]]$envios\n",
              "[1] 4178\n",
              "\n",
              "[[45]]$aciertos\n",
              "[1] 227\n",
              "\n",
              "[[45]]$ganancia_test\n",
              "[1] 49020000\n",
              "\n",
              "\n",
              "[[46]]\n",
              "[[46]]$semilla\n",
              "[1] 273773\n",
              "\n",
              "[[46]]$testing\n",
              "[1] 49375\n",
              "\n",
              "[[46]]$testing_pos\n",
              "[1] 372\n",
              "\n",
              "[[46]]$envios\n",
              "[1] 3747\n",
              "\n",
              "[[46]]$aciertos\n",
              "[1] 205\n",
              "\n",
              "[[46]]$ganancia_test\n",
              "[1] 44530000\n",
              "\n",
              "\n",
              "[[47]]\n",
              "[[47]]$semilla\n",
              "[1] 728047\n",
              "\n",
              "[[47]]$testing\n",
              "[1] 49384\n",
              "\n",
              "[[47]]$testing_pos\n",
              "[1] 379\n",
              "\n",
              "[[47]]$envios\n",
              "[1] 3631\n",
              "\n",
              "[[47]]$aciertos\n",
              "[1] 230\n",
              "\n",
              "[[47]]$ganancia_test\n",
              "[1] 55690000\n",
              "\n",
              "\n",
              "[[48]]\n",
              "[[48]]$semilla\n",
              "[1] 647117\n",
              "\n",
              "[[48]]$testing\n",
              "[1] 49388\n",
              "\n",
              "[[48]]$testing_pos\n",
              "[1] 377\n",
              "\n",
              "[[48]]$envios\n",
              "[1] 3351\n",
              "\n",
              "[[48]]$aciertos\n",
              "[1] 200\n",
              "\n",
              "[[48]]$ganancia_test\n",
              "[1] 46490000\n",
              "\n",
              "\n",
              "[[49]]\n",
              "[[49]]$semilla\n",
              "[1] 185099\n",
              "\n",
              "[[49]]$testing\n",
              "[1] 49370\n",
              "\n",
              "[[49]]$testing_pos\n",
              "[1] 371\n",
              "\n",
              "[[49]]$envios\n",
              "[1] 2772\n",
              "\n",
              "[[49]]$aciertos\n",
              "[1] 185\n",
              "\n",
              "[[49]]$ganancia_test\n",
              "[1] 46280000\n",
              "\n",
              "\n",
              "[[50]]\n",
              "[[50]]$semilla\n",
              "[1] 790843\n",
              "\n",
              "[[50]]$testing\n",
              "[1] 49388\n",
              "\n",
              "[[50]]$testing_pos\n",
              "[1] 380\n",
              "\n",
              "[[50]]$envios\n",
              "[1] 2925\n",
              "\n",
              "[[50]]$aciertos\n",
              "[1] 191\n",
              "\n",
              "[[50]]$ganancia_test\n",
              "[1] 47150000\n",
              "\n"
            ]
          },
          "metadata": {}
        }
      ]
    },
    {
      "cell_type": "code",
      "source": [
        "# paso la lista a vector\n",
        "tb_salida <- rbindlist(salidas)\n",
        "print( tb_salida)"
      ],
      "metadata": {
        "id": "unGWiKRMGimU",
        "outputId": "0193a02b-64ca-400c-a845-edffa75cc1d2",
        "colab": {
          "base_uri": "https://localhost:8080/"
        }
      },
      "execution_count": null,
      "outputs": [
        {
          "output_type": "stream",
          "name": "stdout",
          "text": [
            "    semilla testing testing_pos envios aciertos ganancia_test\n",
            "      <int>   <int>       <int>  <int>    <int>         <num>\n",
            " 1:  735169   49382         374   3533      213      49870000\n",
            " 2:  388621   49371         368   3539      212      49410000\n",
            " 3:  671431   49381         376   3988      221      48520000\n",
            " 4:  341171   49381         374   3415      210      49850000\n",
            " 5:  451207   49379         372   4217      226      48230000\n",
            " 6:  324067   49390         376   2780      177      43000000\n",
            " 7:  635309   49388         379   3253      206      49870000\n",
            " 8:  564979   49377         375   3313      203      48070000\n",
            " 9:  971473   49371         375   3833      223      50870000\n",
            "10:  934463   49388         371   3613      212      48670000\n",
            "11:  181439   49380         374   3679      197      42010000\n",
            "12:  447451   49381         372   4123      227      49570000\n",
            "13:  742541   49380         369   3413      206      48270000\n",
            "14:  872177   49371         375   3349      205      48510000\n",
            "15:  315883   49370         375   3727      202      43530000\n",
            "16:  343333   49386         374   3520      212      49600000\n",
            "17:  863711   49385         379   4587      236      48530000\n",
            "18:  605257   49373         368   3646      207      46340000\n",
            "19:  117239   49373         371   3850      227      52300000\n",
            "20:  708053   49380         377   4102      235      52980000\n",
            "21:  124561   49378         375   2833      177      42470000\n",
            "22:  696481   49377         375   3338      214      52220000\n",
            "23:  580093   49375         371   3758      206      44820000\n",
            "24:  575711   49383         374   3030      203      50900000\n",
            "25:  763943   49374         376   4316      222      45640000\n",
            "26:  373661   49390         381   3044      197      48360000\n",
            "27:  235483   49377         377   2660      175      43400000\n",
            "28:  220721   49380         376   3494      204      46660000\n",
            "29:  734959   49377         373   2739      181      45010000\n",
            "30:  945151   49387         377   3549      206      46910000\n",
            "31:  521777   49374         374   3679      216      49610000\n",
            "32:  308467   49379         375   3544      199      44160000\n",
            "33:  948943   49373         376   3536      215      50640000\n",
            "34:  926399   49381         376   3213      212      52670000\n",
            "35:  212671   49393         376   3505      209      48550000\n",
            "36:  256579   49394         374   3460      208      48600000\n",
            "37:  434167   49380         377   4212      217      44680000\n",
            "38:  187883   49386         383   3283      202      47970000\n",
            "39:  104701   49383         378   3090      175      39100000\n",
            "40:  633487   49389         376   3009      195      47910000\n",
            "41:  462103   49378         374   2857      203      52630000\n",
            "42:  241877   49376         378   2375      175      46250000\n",
            "43:  852847   49376         375   3176      191      44640000\n",
            "44:  362281   49382         378   2976      210      54240000\n",
            "45:  592357   49384         377   4178      227      49020000\n",
            "46:  273773   49375         372   3747      205      44530000\n",
            "47:  728047   49384         379   3631      230      55690000\n",
            "48:  647117   49388         377   3351      200      46490000\n",
            "49:  185099   49370         371   2772      185      46280000\n",
            "50:  790843   49388         380   2925      191      47150000\n",
            "    semilla testing testing_pos envios aciertos ganancia_test\n"
          ]
        }
      ]
    },
    {
      "cell_type": "code",
      "source": [
        "# calulo la salida\n",
        "for( i in seq(10, 50, 10) )\n",
        "{\n",
        "  cat( i, \"\\t\", tb_salida[ 1:i, mean(ganancia_test)], \"\\n\" )\n",
        "}\n"
      ],
      "metadata": {
        "id": "oGoadhBKGimV",
        "outputId": "e486dcf0-9fb2-4634-8318-c598344851f4",
        "colab": {
          "base_uri": "https://localhost:8080/"
        }
      },
      "execution_count": null,
      "outputs": [
        {
          "output_type": "stream",
          "name": "stdout",
          "text": [
            "10 \t 48636000 \n",
            "20 \t 48400000 \n",
            "30 \t 47813000 \n",
            "40 \t 47707000 \n",
            "50 \t 47904000 \n"
          ]
        }
      ]
    },
    {
      "cell_type": "markdown",
      "source": [
        "### Acciones a realizar\n",
        "* Reportar la  los resultados en la planilla colaborativa hoja  **C2-nsem**\n",
        "* Se discutirá en clase la variabilidad de las distintas cantidades de semillas"
      ],
      "metadata": {
        "id": "dO9yQKt7GimV"
      }
    },
    {
      "cell_type": "markdown",
      "source": [
        "\n",
        "\n",
        "---\n",
        "\n"
      ],
      "metadata": {
        "id": "ziFKwIlBGimW"
      }
    },
    {
      "cell_type": "markdown",
      "source": [
        "# 5  DiezMil -Monte Carlo Cross Validation\n",
        "## Clase 02  Experimento 5"
      ],
      "metadata": {
        "id": "2jncHe-KJLUg"
      }
    },
    {
      "cell_type": "markdown",
      "source": [
        "Mostrar a los estudiantes el resultado de un experimento en donde se ha corrido una Monte Carlo Cross Validation utilizando diez mil semillas y relacionar la cantidad de semillas con el resultado del Teorema Central del Límite\n",
        "<br>Los resultados se muestran en esta misma guia y se comentan en clase,Bajo ningún concepto se solicitará a l@s estudiantes hacer este experimento en clase ya que lleva varias horas en correr.\n"
      ],
      "metadata": {
        "id": "vUzSGZGOJZq8"
      }
    },
    {
      "cell_type": "markdown",
      "source": [
        "Aqui usted NO debe correr absolutamente nada, el experimento ya fue corrido por la cátedra y le muestra los resultados."
      ],
      "metadata": {
        "id": "G0YGjTMxuTSg"
      }
    },
    {
      "cell_type": "markdown",
      "source": [
        "## 5.1\n",
        "Estos resultados han sido corridos por la cátedra.\n",
        "\n",
        "![Distribucion de las ganancias](https://storage.googleapis.com/open-courses/austral2025-af91/labo1r/C2_E5_distribucion.jpg)"
      ],
      "metadata": {
        "id": "7NRUb3WtJikc"
      }
    },
    {
      "cell_type": "markdown",
      "source": [
        "![salida](https://storage.googleapis.com/open-courses/austral2025-af91/labo1r/C2_E5_salida.jpg)"
      ],
      "metadata": {
        "id": "tZ4X8wdSKc7G"
      }
    },
    {
      "cell_type": "markdown",
      "source": [
        "![tabla](https://storage.googleapis.com/open-courses/austral2025-af91/labo1r/C2_E5_tabla.jpg)\n",
        "\n",
        " 2    ~    1,96  =  3605406.2 / 1836264.3\n",
        "\n",
        "Por el teorema central del límite, un aumento de 4 veces de la cantidad de registros que se promedian el desvio estandar disminuye 2 veces ,  raiz(4 ) = 2"
      ],
      "metadata": {
        "id": "EsL5ukNWKS71"
      }
    },
    {
      "cell_type": "markdown",
      "source": [
        "\n",
        "\n",
        "---\n",
        "\n"
      ],
      "metadata": {
        "id": "OTLq8TC4LR0c"
      }
    },
    {
      "cell_type": "markdown",
      "source": [
        "# 6 Comparando dos distintos  modelos\n",
        "## Clase 02  Experimento 6"
      ],
      "metadata": {
        "id": "sAS1bfL8LmBv"
      }
    },
    {
      "cell_type": "markdown",
      "source": [
        "## 6.1  Objetivos\n",
        "Presentar a los alumnos la dificultad que se presenta ante la comparación de dos modelos, uno posee un poder predictivo claramente mayor al otro.\n",
        "Comparación simple de media de ganancias, versus probabilidad que un modelo sea superior a otro."
      ],
      "metadata": {
        "id": "KzwdMJDZLmB9"
      }
    },
    {
      "cell_type": "markdown",
      "source": [
        "## 6.2 Introduccion\n",
        "Estos son los dos arboles de muy distinta profundidad.\n",
        "<br>¿Cuál de ellos es mejor? ¿Cuál elijo?\n",
        "\n",
        "| Hiperparámetro | Arbol 1 | Arbol 2 |\n",
        "| --- | --: |  ---: |\n",
        "| cp | -1 | -1 |\n",
        "|minsplit | 170 | 250 |\n",
        "|minbucket | 70 | 125 |\n",
        "|maxdepth | 7 | 20 |\n",
        "\n"
      ],
      "metadata": {
        "id": "DDyFNmJ9L_CW"
      }
    },
    {
      "cell_type": "markdown",
      "source": [
        "## 6.3 Codigo dos distintos modelos"
      ],
      "metadata": {
        "id": "bQfwNsVzNrtI"
      }
    },
    {
      "cell_type": "markdown",
      "source": [
        "Esta parte se debe correr con el runtime en lenguaje **R** Ir al menu, Runtime -> Change Runtime Tipe -> Runtime type -> R"
      ],
      "metadata": {
        "id": "Ku7qQgKjNruJ"
      }
    },
    {
      "cell_type": "markdown",
      "source": [
        "El tiempo de corrida es de alrededor de 40 minutos"
      ],
      "metadata": {
        "id": "6jCdS3NMuKei"
      }
    },
    {
      "cell_type": "markdown",
      "source": [
        "limpio el ambiente de R"
      ],
      "metadata": {
        "id": "Z1EUBeHyNruK"
      }
    },
    {
      "cell_type": "code",
      "source": [
        "# limpio la memoria\n",
        "rm(list=ls(all.names=TRUE)) # remove all objects\n",
        "gc(full=TRUE, verbose=FALSE) # garbage collection"
      ],
      "metadata": {
        "id": "GxbC4V3zNruM",
        "colab": {
          "base_uri": "https://localhost:8080/",
          "height": 129
        },
        "outputId": "554e22d1-067e-46fc-9b43-1372981de444"
      },
      "execution_count": 1,
      "outputs": [
        {
          "output_type": "display_data",
          "data": {
            "text/html": [
              "<table class=\"dataframe\">\n",
              "<caption>A matrix: 2 × 6 of type dbl</caption>\n",
              "<thead>\n",
              "\t<tr><th></th><th scope=col>used</th><th scope=col>(Mb)</th><th scope=col>gc trigger</th><th scope=col>(Mb)</th><th scope=col>max used</th><th scope=col>(Mb)</th></tr>\n",
              "</thead>\n",
              "<tbody>\n",
              "\t<tr><th scope=row>Ncells</th><td> 657245</td><td>35.2</td><td>1454477</td><td>77.7</td><td>1326144</td><td>70.9</td></tr>\n",
              "\t<tr><th scope=row>Vcells</th><td>1220272</td><td> 9.4</td><td>8388608</td><td>64.0</td><td>1975127</td><td>15.1</td></tr>\n",
              "</tbody>\n",
              "</table>\n"
            ],
            "text/markdown": "\nA matrix: 2 × 6 of type dbl\n\n| <!--/--> | used | (Mb) | gc trigger | (Mb) | max used | (Mb) |\n|---|---|---|---|---|---|---|\n| Ncells |  657245 | 35.2 | 1454477 | 77.7 | 1326144 | 70.9 |\n| Vcells | 1220272 |  9.4 | 8388608 | 64.0 | 1975127 | 15.1 |\n\n",
            "text/latex": "A matrix: 2 × 6 of type dbl\n\\begin{tabular}{r|llllll}\n  & used & (Mb) & gc trigger & (Mb) & max used & (Mb)\\\\\n\\hline\n\tNcells &  657245 & 35.2 & 1454477 & 77.7 & 1326144 & 70.9\\\\\n\tVcells & 1220272 &  9.4 & 8388608 & 64.0 & 1975127 & 15.1\\\\\n\\end{tabular}\n",
            "text/plain": [
              "       used    (Mb) gc trigger (Mb) max used (Mb)\n",
              "Ncells  657245 35.2 1454477    77.7 1326144  70.9\n",
              "Vcells 1220272  9.4 8388608    64.0 1975127  15.1"
            ]
          },
          "metadata": {}
        }
      ]
    },
    {
      "cell_type": "markdown",
      "source": [
        "* Instalacion de la libreria  rpart.plot  para dibujar el arbol\n",
        "* invocacion de las librerias  **data.table** y  **rpart**"
      ],
      "metadata": {
        "id": "i2WkSCIhNruQ"
      }
    },
    {
      "cell_type": "code",
      "source": [
        "# cargo las librerias que necesito\n",
        "require(\"data.table\")\n",
        "require(\"rpart\")\n",
        "require(\"parallel\")\n",
        "\n",
        "if (!require(\"primes\")) install.packages(\"primes\")\n",
        "require(\"primes\")\n",
        "\n",
        "require(\"ggplot2\")"
      ],
      "metadata": {
        "id": "3bMsgZJWNruR",
        "colab": {
          "base_uri": "https://localhost:8080/"
        },
        "outputId": "d8634b4a-2b52-4875-f7d7-38c5a8656983"
      },
      "execution_count": 2,
      "outputs": [
        {
          "output_type": "stream",
          "name": "stderr",
          "text": [
            "Loading required package: data.table\n",
            "\n",
            "Loading required package: rpart\n",
            "\n",
            "Loading required package: parallel\n",
            "\n",
            "Loading required package: primes\n",
            "\n",
            "Loading required package: ggplot2\n",
            "\n"
          ]
        }
      ]
    },
    {
      "cell_type": "markdown",
      "source": [
        "###  Accion a Realizar\n",
        "PARAM$semilla_primigenia  debe reemplazarse por SU primer semilla"
      ],
      "metadata": {
        "id": "t1lTXrKaNruT"
      }
    },
    {
      "cell_type": "code",
      "source": [
        "PARAM <- list()\n",
        "PARAM$semilla_primigenia <- 540347\n",
        "PARAM$qsemillas <- 20\n",
        "PARAM$training_pct <- 70L     # entre 1 y 100\n"
      ],
      "metadata": {
        "id": "QFbPtTCMNruV"
      },
      "execution_count": 3,
      "outputs": []
    },
    {
      "cell_type": "code",
      "source": [
        "# los dos arboles\n",
        "PARAM$rpart1 <- list (\n",
        "  \"cp\" = -1,\n",
        "  \"minsplit\" = 170,\n",
        "  \"minbucket\" = 70,\n",
        "  \"maxdepth\" = 7\n",
        ")\n",
        "\n",
        "\n",
        "PARAM$rpart2 <- list (\n",
        "  \"cp\" = -1,\n",
        "  \"minsplit\" = 250,\n",
        "  \"minbucket\" = 125,\n",
        "  \"maxdepth\" = 20\n",
        ")"
      ],
      "metadata": {
        "id": "GiBGk7WKQv2V"
      },
      "execution_count": 4,
      "outputs": []
    },
    {
      "cell_type": "code",
      "source": [
        "# particionar agrega una columna llamada fold a un dataset\n",
        "#  que consiste en una particion estratificada segun agrupa\n",
        "\n",
        "# particionar( data=dataset, division=c(70,30),\n",
        "#  agrupa=clase_ternaria, seed=semilla)   crea una particion 70, 30\n",
        "\n",
        "particionar <- function(\n",
        "    data, division, agrupa = \"\",\n",
        "    campo = \"fold\", start = 1, seed = NA) {\n",
        "  if (!is.na(seed)) set.seed(seed)\n",
        "\n",
        "  bloque <- unlist(mapply(function(x, y) {\n",
        "    rep(y, x)\n",
        "  }, division, seq(from = start, length.out = length(division))))\n",
        "\n",
        "  data[, (campo) := sample(rep(bloque, ceiling(.N / length(bloque))))[1:.N],\n",
        "    by = agrupa\n",
        "  ]\n",
        "}\n"
      ],
      "metadata": {
        "id": "2BabfKg7NruX"
      },
      "execution_count": 5,
      "outputs": []
    },
    {
      "cell_type": "code",
      "source": [
        "DosArbolesEstimarGanancia <- function(semilla, training_pct, param_rpart1, param_rpart2) {\n",
        "\n",
        "  # fuerzo impresion\n",
        "  print( paste( semilla, Sys.time()) )\n",
        "  flush.console()\n",
        "\n",
        "  # particiono estratificadamente el dataset\n",
        "  particionar(dataset,\n",
        "    division = c(training_pct, 100L -training_pct),\n",
        "    agrupa = \"clase_ternaria\",\n",
        "    seed = semilla # aqui se usa SU semilla\n",
        "  )\n",
        "\n",
        "  # genero el modelo\n",
        "  # predecir clase_ternaria a partir del resto\n",
        "  modelo1 <- rpart(\"clase_ternaria ~ .\",\n",
        "    data = dataset[fold == 1], # fold==1  es training,  el 70% de los datos\n",
        "    xval = 0,\n",
        "    control = param_rpart1\n",
        "  ) # aqui van los parametros del arbol\n",
        "\n",
        "  # aplico el modelo a los datos de testing\n",
        "  prediccion1 <- predict(modelo1, # el modelo que genere recien\n",
        "    dataset[fold == 2], # fold==2  es testing, el 30% de los datos\n",
        "    type = \"prob\"\n",
        "  ) # type= \"prob\"  es que devuelva la probabilidad\n",
        "\n",
        "\n",
        "  # calculo la ganancia en testing  qu es fold==2\n",
        "  ganancia_test1 <- dataset[\n",
        "    fold == 2,\n",
        "    sum(ifelse(prediccion1[, \"BAJA+2\"] > 0.025,\n",
        "      ifelse(clase_ternaria == \"BAJA+2\", 117000, -3000),\n",
        "      0\n",
        "    ))\n",
        "  ]\n",
        "\n",
        "  # escalo la ganancia como si fuera todo el dataset\n",
        "  ganancia_test_normalizada1 <- ganancia_test1 / (( 100 - training_pct ) / 100 )\n",
        "\n",
        "  modelo2 <- rpart(\"clase_ternaria ~ .\",\n",
        "    data = dataset[fold == 1], # fold==1  es training,  el 70% de los datos\n",
        "    xval = 0,\n",
        "    control = param_rpart2\n",
        "  ) # aqui van los parametros del arbol\n",
        "\n",
        "  # aplico el modelo a los datos de testing\n",
        "  prediccion2 <- predict(modelo2, # el modelo que genere recien\n",
        "    dataset[fold == 2], # fold==2  es testing, el 30% de los datos\n",
        "    type = \"prob\"\n",
        "  ) # type= \"prob\"  es que devuelva la probabilidad\n",
        "\n",
        "\n",
        "  # calculo la ganancia en testing  qu es fold==2\n",
        "  ganancia_test2 <- dataset[\n",
        "    fold == 2,\n",
        "    sum(ifelse(prediccion2[, \"BAJA+2\"] > 0.025,\n",
        "      ifelse(clase_ternaria == \"BAJA+2\", 117000, -3000),\n",
        "      0\n",
        "    ))\n",
        "  ]\n",
        "\n",
        "  # escalo la ganancia como si fuera todo el dataset\n",
        "  ganancia_test_normalizada2 <- ganancia_test2 / (( 100 - training_pct ) / 100 )\n",
        "\n",
        "  return(list(\n",
        "    \"semilla\" = semilla,\n",
        "    \"ganancia1\" = ganancia_test_normalizada1,\n",
        "    \"ganancia2\" = ganancia_test_normalizada2\n",
        "  ))\n",
        "}"
      ],
      "metadata": {
        "id": "YrGJgj4UNruZ"
      },
      "execution_count": 6,
      "outputs": []
    },
    {
      "cell_type": "code",
      "source": [
        "# carpeta de trabajo\n",
        "setwd(\"/content/buckets/b1/exp\")\n",
        "experimento <- \"exp206\"\n",
        "# dir.create(experimento, showWarnings=FALSE)\n",
        "# setwd( paste0(\"/content/buckets/b1/exp/\", experimento ))"
      ],
      "metadata": {
        "id": "2C2yjgQVNrud"
      },
      "execution_count": 7,
      "outputs": []
    },
    {
      "cell_type": "code",
      "source": [
        "# lectura del dataset\n",
        "dataset <- fread(\"/content/datasets/dataset_pequeno.csv\")\n",
        "\n",
        "# trabajo solo con los datos con clase, es decir 202107\n",
        "dataset <- dataset[clase_ternaria != \"\"]"
      ],
      "metadata": {
        "id": "oQeGcBnPNrug"
      },
      "execution_count": 8,
      "outputs": []
    },
    {
      "cell_type": "code",
      "source": [
        "detectCores()"
      ],
      "metadata": {
        "id": "gXKI2eXO9Osx",
        "colab": {
          "base_uri": "https://localhost:8080/",
          "height": 34
        },
        "outputId": "5f66885c-8e09-4368-8e61-661ebbffedad"
      },
      "execution_count": 9,
      "outputs": [
        {
          "output_type": "display_data",
          "data": {
            "text/html": [
              "2"
            ],
            "text/markdown": "2",
            "text/latex": "2",
            "text/plain": [
              "[1] 2"
            ]
          },
          "metadata": {}
        }
      ]
    },
    {
      "cell_type": "code",
      "source": [
        "# genero numeros primos\n",
        "primos <- generate_primes(min = 100000, max = 1000000)\n",
        "set.seed(PARAM$semilla_primigenia) # inicializo\n",
        "\n",
        "# me quedo con PARAM$qsemillas   semillas\n",
        "PARAM$semillas <- sample(primos, PARAM$qsemillas )"
      ],
      "metadata": {
        "id": "tU8S7_5ANrui"
      },
      "execution_count": 10,
      "outputs": []
    },
    {
      "cell_type": "code",
      "source": [
        "# demora interminables 60 minutos en correr en Google Colab\n",
        "Sys.time()\n",
        "\n",
        "salidas <- mcmapply( DosArbolesEstimarGanancia,\n",
        "  PARAM$semillas, # paso el vector de semillas\n",
        "  MoreArgs = list(PARAM$training_pct, PARAM$rpart1, PARAM$rpart2), # aqui paso el segundo parametro\n",
        "  SIMPLIFY = FALSE,\n",
        "  mc.cores = detectCores()\n",
        ")\n",
        "\n",
        "Sys.time()"
      ],
      "metadata": {
        "id": "mlF66CgxcHF3",
        "colab": {
          "base_uri": "https://localhost:8080/",
          "height": 52
        },
        "outputId": "8788fbbb-1414-497a-ef88-16995e13fe3c"
      },
      "execution_count": 11,
      "outputs": [
        {
          "data": {
            "text/plain": [
              "[1] \"2025-10-13 12:45:55 UTC\""
            ]
          },
          "metadata": {},
          "output_type": "display_data"
        },
        {
          "output_type": "display_data",
          "data": {
            "text/plain": [
              "[1] \"2025-10-13 14:01:28 UTC\""
            ]
          },
          "metadata": {}
        }
      ]
    },
    {
      "cell_type": "code",
      "source": [
        "# paso la lista a vector\n",
        "tb_salida <- rbindlist(salidas)\n",
        "tb_salida"
      ],
      "metadata": {
        "id": "_g-_kccdNrum",
        "colab": {
          "base_uri": "https://localhost:8080/",
          "height": 725
        },
        "outputId": "f85fa73d-1534-4ba4-a90e-e3998ac09550"
      },
      "execution_count": 12,
      "outputs": [
        {
          "output_type": "display_data",
          "data": {
            "text/html": [
              "<table class=\"dataframe\">\n",
              "<caption>A data.table: 20 × 3</caption>\n",
              "<thead>\n",
              "\t<tr><th scope=col>semilla</th><th scope=col>ganancia1</th><th scope=col>ganancia2</th></tr>\n",
              "\t<tr><th scope=col>&lt;int&gt;</th><th scope=col>&lt;dbl&gt;</th><th scope=col>&lt;dbl&gt;</th></tr>\n",
              "</thead>\n",
              "<tbody>\n",
              "\t<tr><td>735169</td><td>49870000</td><td>47770000</td></tr>\n",
              "\t<tr><td>388621</td><td>49410000</td><td>42750000</td></tr>\n",
              "\t<tr><td>671431</td><td>48520000</td><td>47930000</td></tr>\n",
              "\t<tr><td>341171</td><td>49850000</td><td>39770000</td></tr>\n",
              "\t<tr><td>451207</td><td>48230000</td><td>35930000</td></tr>\n",
              "\t<tr><td>324067</td><td>43000000</td><td>39920000</td></tr>\n",
              "\t<tr><td>635309</td><td>49870000</td><td>40920000</td></tr>\n",
              "\t<tr><td>564979</td><td>48070000</td><td>41140000</td></tr>\n",
              "\t<tr><td>971473</td><td>50870000</td><td>48940000</td></tr>\n",
              "\t<tr><td>934463</td><td>48670000</td><td>40650000</td></tr>\n",
              "\t<tr><td>181439</td><td>42010000</td><td>37910000</td></tr>\n",
              "\t<tr><td>447451</td><td>49570000</td><td>44460000</td></tr>\n",
              "\t<tr><td>742541</td><td>48270000</td><td>40610000</td></tr>\n",
              "\t<tr><td>872177</td><td>48510000</td><td>41100000</td></tr>\n",
              "\t<tr><td>315883</td><td>43530000</td><td>38870000</td></tr>\n",
              "\t<tr><td>343333</td><td>49600000</td><td>38780000</td></tr>\n",
              "\t<tr><td>863711</td><td>48530000</td><td>44960000</td></tr>\n",
              "\t<tr><td>605257</td><td>46340000</td><td>40390000</td></tr>\n",
              "\t<tr><td>117239</td><td>52300000</td><td>45690000</td></tr>\n",
              "\t<tr><td>708053</td><td>52980000</td><td>44850000</td></tr>\n",
              "</tbody>\n",
              "</table>\n"
            ],
            "text/markdown": "\nA data.table: 20 × 3\n\n| semilla &lt;int&gt; | ganancia1 &lt;dbl&gt; | ganancia2 &lt;dbl&gt; |\n|---|---|---|\n| 735169 | 49870000 | 47770000 |\n| 388621 | 49410000 | 42750000 |\n| 671431 | 48520000 | 47930000 |\n| 341171 | 49850000 | 39770000 |\n| 451207 | 48230000 | 35930000 |\n| 324067 | 43000000 | 39920000 |\n| 635309 | 49870000 | 40920000 |\n| 564979 | 48070000 | 41140000 |\n| 971473 | 50870000 | 48940000 |\n| 934463 | 48670000 | 40650000 |\n| 181439 | 42010000 | 37910000 |\n| 447451 | 49570000 | 44460000 |\n| 742541 | 48270000 | 40610000 |\n| 872177 | 48510000 | 41100000 |\n| 315883 | 43530000 | 38870000 |\n| 343333 | 49600000 | 38780000 |\n| 863711 | 48530000 | 44960000 |\n| 605257 | 46340000 | 40390000 |\n| 117239 | 52300000 | 45690000 |\n| 708053 | 52980000 | 44850000 |\n\n",
            "text/latex": "A data.table: 20 × 3\n\\begin{tabular}{lll}\n semilla & ganancia1 & ganancia2\\\\\n <int> & <dbl> & <dbl>\\\\\n\\hline\n\t 735169 & 49870000 & 47770000\\\\\n\t 388621 & 49410000 & 42750000\\\\\n\t 671431 & 48520000 & 47930000\\\\\n\t 341171 & 49850000 & 39770000\\\\\n\t 451207 & 48230000 & 35930000\\\\\n\t 324067 & 43000000 & 39920000\\\\\n\t 635309 & 49870000 & 40920000\\\\\n\t 564979 & 48070000 & 41140000\\\\\n\t 971473 & 50870000 & 48940000\\\\\n\t 934463 & 48670000 & 40650000\\\\\n\t 181439 & 42010000 & 37910000\\\\\n\t 447451 & 49570000 & 44460000\\\\\n\t 742541 & 48270000 & 40610000\\\\\n\t 872177 & 48510000 & 41100000\\\\\n\t 315883 & 43530000 & 38870000\\\\\n\t 343333 & 49600000 & 38780000\\\\\n\t 863711 & 48530000 & 44960000\\\\\n\t 605257 & 46340000 & 40390000\\\\\n\t 117239 & 52300000 & 45690000\\\\\n\t 708053 & 52980000 & 44850000\\\\\n\\end{tabular}\n",
            "text/plain": [
              "   semilla ganancia1 ganancia2\n",
              "1  735169  49870000  47770000 \n",
              "2  388621  49410000  42750000 \n",
              "3  671431  48520000  47930000 \n",
              "4  341171  49850000  39770000 \n",
              "5  451207  48230000  35930000 \n",
              "6  324067  43000000  39920000 \n",
              "7  635309  49870000  40920000 \n",
              "8  564979  48070000  41140000 \n",
              "9  971473  50870000  48940000 \n",
              "10 934463  48670000  40650000 \n",
              "11 181439  42010000  37910000 \n",
              "12 447451  49570000  44460000 \n",
              "13 742541  48270000  40610000 \n",
              "14 872177  48510000  41100000 \n",
              "15 315883  43530000  38870000 \n",
              "16 343333  49600000  38780000 \n",
              "17 863711  48530000  44960000 \n",
              "18 605257  46340000  40390000 \n",
              "19 117239  52300000  45690000 \n",
              "20 708053  52980000  44850000 "
            ]
          },
          "metadata": {}
        }
      ]
    },
    {
      "cell_type": "code",
      "source": [
        "grafico <- ggplot( tb_salida, aes(x=ganancia1)) + geom_density(alpha=0.25, fill=\"green\", color=\"green\")  +\n",
        "             geom_density(data=tb_salida, aes(x=ganancia2), fill=\"purple\", color=\"purple\",  alpha=0.10)\n",
        "\n",
        "print(grafico)"
      ],
      "metadata": {
        "id": "-O0rg6btNrun",
        "colab": {
          "base_uri": "https://localhost:8080/",
          "height": 437
        },
        "outputId": "0d5033f2-f036-442b-ffb0-958dc2e1c5dd"
      },
      "execution_count": 13,
      "outputs": [
        {
          "output_type": "display_data",
          "data": {
            "text/plain": [
              "plot without title"
            ],
            "image/png": "[encoded data removed]"
          },
          "metadata": {
            "image/png": {
              "width": 420,
              "height": 420
            }
          }
        }
      ]
    },
    {
      "cell_type": "code",
      "source": [
        "# imprimo en un .pdf  que va a la carpeta del experimento\n",
        "pdf(\"densidad_dos.pdf\")\n",
        "print(grafico)\n",
        "dev.off()"
      ],
      "metadata": {
        "id": "uSqrazOyU_LC",
        "colab": {
          "base_uri": "https://localhost:8080/",
          "height": 34
        },
        "outputId": "8ffb84eb-08d2-470a-f44d-07091c2cdb0b"
      },
      "execution_count": 14,
      "outputs": [
        {
          "output_type": "display_data",
          "data": {
            "text/html": [
              "<strong>agg_record_1391886706:</strong> 2"
            ],
            "text/markdown": "**agg_record_1391886706:** 2",
            "text/latex": "\\textbf{agg\\textbackslash{}\\_record\\textbackslash{}\\_1391886706:} 2",
            "text/plain": [
              "agg_record_1391886706 \n",
              "                    2 "
            ]
          },
          "metadata": {}
        }
      ]
    },
    {
      "cell_type": "code",
      "source": [
        "print( tb_salida[ , list( \"arbol1\" = mean( ganancia1),  \"arbol2\" = mean(ganancia2) ) ] )\n",
        "\n",
        "print( tb_salida[ , list( \"prob( m1 > m2)\" = sum(ganancia1 > ganancia2 )/ .N ) ]  )"
      ],
      "metadata": {
        "id": "LGv0LB_4R7US",
        "colab": {
          "base_uri": "https://localhost:8080/"
        },
        "outputId": "f6a0ea3a-09dc-41e8-b7ca-3f9cb1c74fc8"
      },
      "execution_count": 15,
      "outputs": [
        {
          "output_type": "stream",
          "name": "stdout",
          "text": [
            "     arbol1   arbol2\n",
            "      <num>    <num>\n",
            "1: 48400000 42167000\n",
            "   prob( m1 > m2)\n",
            "            <num>\n",
            "1:              1\n"
          ]
        }
      ]
    },
    {
      "cell_type": "markdown",
      "source": [
        "### Acciones a realizar\n",
        "* Reportar la  los resultados en la planilla colaborativa hoja  **C2-dosModelos**\n",
        "* ¿Todos los alumnos hubieran elegido el mismo modelo aun con 20 semillas?"
      ],
      "metadata": {
        "id": "F6lFJf1VTi8b"
      }
    },
    {
      "cell_type": "markdown",
      "source": [
        "\n",
        "\n",
        "---\n",
        "\n"
      ],
      "metadata": {
        "id": "aOpy-XBKTi8n"
      }
    },
    {
      "cell_type": "markdown",
      "source": [
        "# 7 Comparando dos buenos  modelos\n",
        "## Clase 02  Experimento 7"
      ],
      "metadata": {
        "id": "EdzjiJf-dsEK"
      }
    },
    {
      "cell_type": "markdown",
      "source": [
        "## 7.1  Objetivos\n",
        "Presentar a los alumnos la dificultad que surge en la comparación de dos muy distintos, pero ambos buenos, modelos predictivos, y el costo computacional asociado a esa comparación\n",
        "<br>Comparación simple de media de ganancias, versus probabilidad que un modelo sea superior a otro.\n",
        "<br>Limitaciones de la MonteCarlo Cross Validation\n",
        "<br>Existencia del Test de Wilcoxon"
      ],
      "metadata": {
        "id": "FcBjp5XxdsEt"
      }
    },
    {
      "cell_type": "markdown",
      "source": [
        "## 7.2 Introduccion\n",
        "Estos son los dos arboles de muy distinta profundidad.\n",
        "<br>¿Cuál de ellos es mejor? ¿Cuál elijo?\n",
        "\n",
        "| Hiperparámetro | Arbol 1 | Arbol 2 |\n",
        "| --- | --: |  ---: |\n",
        "| cp | -1 | -1 |\n",
        "|minsplit | 170 | 1900 |\n",
        "|minbucket | 70 | 800 |\n",
        "|maxdepth | 7 | 3 |\n",
        "\n"
      ],
      "metadata": {
        "id": "tYcOIcwCdsEu"
      }
    },
    {
      "cell_type": "markdown",
      "source": [
        "## 7.3 Dos buenos modelos"
      ],
      "metadata": {
        "id": "r0NDA7GgdsEu"
      }
    },
    {
      "cell_type": "markdown",
      "source": [
        "Esta parte se debe correr con el runtime en lenguaje **R** Ir al menu, Runtime -> Change Runtime Tipe -> Runtime type -> R"
      ],
      "metadata": {
        "id": "21SJmGd7dsEv"
      }
    },
    {
      "cell_type": "markdown",
      "source": [
        "El tiempo de corrida es de alrededor de 50 minutos"
      ],
      "metadata": {
        "id": "Ne0e08KUt87w"
      }
    },
    {
      "cell_type": "markdown",
      "source": [
        "limpio el ambiente de R"
      ],
      "metadata": {
        "id": "q02SEGNwdsEv"
      }
    },
    {
      "cell_type": "code",
      "source": [
        "# limpio la memoria\n",
        "rm(list=ls(all.names=TRUE)) # remove all objects\n",
        "gc(full=TRUE, verbose=FALSE) # garbage collection"
      ],
      "metadata": {
        "id": "6c2ZJstWdsEw",
        "colab": {
          "base_uri": "https://localhost:8080/",
          "height": 129
        },
        "outputId": "902f2daf-8e44-4b19-95fd-cd9ab5932874"
      },
      "execution_count": 16,
      "outputs": [
        {
          "output_type": "display_data",
          "data": {
            "text/html": [
              "<table class=\"dataframe\">\n",
              "<caption>A matrix: 2 × 6 of type dbl</caption>\n",
              "<thead>\n",
              "\t<tr><th></th><th scope=col>used</th><th scope=col>(Mb)</th><th scope=col>gc trigger</th><th scope=col>(Mb)</th><th scope=col>max used</th><th scope=col>(Mb)</th></tr>\n",
              "</thead>\n",
              "<tbody>\n",
              "\t<tr><th scope=row>Ncells</th><td>1380582</td><td>73.8</td><td> 2330862</td><td>124.5</td><td> 2330862</td><td>124.5</td></tr>\n",
              "\t<tr><th scope=row>Vcells</th><td>2487699</td><td>19.0</td><td>59471228</td><td>453.8</td><td>72067717</td><td>549.9</td></tr>\n",
              "</tbody>\n",
              "</table>\n"
            ],
            "text/markdown": "\nA matrix: 2 × 6 of type dbl\n\n| <!--/--> | used | (Mb) | gc trigger | (Mb) | max used | (Mb) |\n|---|---|---|---|---|---|---|\n| Ncells | 1380582 | 73.8 |  2330862 | 124.5 |  2330862 | 124.5 |\n| Vcells | 2487699 | 19.0 | 59471228 | 453.8 | 72067717 | 549.9 |\n\n",
            "text/latex": "A matrix: 2 × 6 of type dbl\n\\begin{tabular}{r|llllll}\n  & used & (Mb) & gc trigger & (Mb) & max used & (Mb)\\\\\n\\hline\n\tNcells & 1380582 & 73.8 &  2330862 & 124.5 &  2330862 & 124.5\\\\\n\tVcells & 2487699 & 19.0 & 59471228 & 453.8 & 72067717 & 549.9\\\\\n\\end{tabular}\n",
            "text/plain": [
              "       used    (Mb) gc trigger (Mb)  max used (Mb) \n",
              "Ncells 1380582 73.8  2330862   124.5  2330862 124.5\n",
              "Vcells 2487699 19.0 59471228   453.8 72067717 549.9"
            ]
          },
          "metadata": {}
        }
      ]
    },
    {
      "cell_type": "markdown",
      "source": [
        "* Instalacion de la libreria  rpart.plot  para dibujar el arbol\n",
        "* invocacion de las librerias  **data.table** y  **rpart**"
      ],
      "metadata": {
        "id": "62MIW0r1dsEx"
      }
    },
    {
      "cell_type": "code",
      "source": [
        "# cargo las librerias que necesito\n",
        "require(\"data.table\")\n",
        "require(\"rpart\")\n",
        "require(\"parallel\")\n",
        "\n",
        "if (!require(\"primes\")) install.packages(\"primes\")\n",
        "require(\"primes\")\n",
        "\n",
        "require(\"ggplot2\")"
      ],
      "metadata": {
        "id": "2Ke4n-N8dsEy"
      },
      "execution_count": 17,
      "outputs": []
    },
    {
      "cell_type": "markdown",
      "source": [
        "###  Accion a Realizar\n",
        "PARAM$semilla_primigenia  debe reemplazarse por SU primer semilla"
      ],
      "metadata": {
        "id": "UHSoeqi4dsEz"
      }
    },
    {
      "cell_type": "code",
      "source": [
        "PARAM <- list()\n",
        "PARAM$semilla_primigenia <- 540347\n",
        "PARAM$qsemillas <- 50\n",
        "PARAM$training_pct <- 70L     # entre 1 y 100\n"
      ],
      "metadata": {
        "id": "f08_sqfAdsEz"
      },
      "execution_count": 18,
      "outputs": []
    },
    {
      "cell_type": "code",
      "source": [
        "# los dos arboles\n",
        "PARAM$rpart1 <- list (\n",
        "  \"cp\" = -1,\n",
        "  \"minsplit\" = 170,\n",
        "  \"minbucket\" = 70,\n",
        "  \"maxdepth\" = 7\n",
        ")\n",
        "\n",
        "\n",
        "PARAM$rpart2 <- list (\n",
        "  \"cp\" = -1,\n",
        "  \"minsplit\" = 1900,\n",
        "  \"minbucket\" = 800,\n",
        "  \"maxdepth\" = 3\n",
        ")\n"
      ],
      "metadata": {
        "id": "L735D9rydsE0"
      },
      "execution_count": 19,
      "outputs": []
    },
    {
      "cell_type": "code",
      "source": [
        "# particionar agrega una columna llamada fold a un dataset\n",
        "#  que consiste en una particion estratificada segun agrupa\n",
        "\n",
        "# particionar( data=dataset, division=c(70,30),\n",
        "#  agrupa=clase_ternaria, seed=semilla)   crea una particion 70, 30\n",
        "\n",
        "particionar <- function(\n",
        "    data, division, agrupa = \"\",\n",
        "    campo = \"fold\", start = 1, seed = NA) {\n",
        "  if (!is.na(seed)) set.seed(seed)\n",
        "\n",
        "  bloque <- unlist(mapply(function(x, y) {\n",
        "    rep(y, x)\n",
        "  }, division, seq(from = start, length.out = length(division))))\n",
        "\n",
        "  data[, (campo) := sample(rep(bloque, ceiling(.N / length(bloque))))[1:.N],\n",
        "    by = agrupa\n",
        "  ]\n",
        "}\n"
      ],
      "metadata": {
        "id": "O56epLUGdsE1"
      },
      "execution_count": 20,
      "outputs": []
    },
    {
      "cell_type": "code",
      "source": [
        "DosArbolesEstimarGanancia <- function(semilla, training_pct, param_rpart1, param_rpart2) {\n",
        "  # fuerzo impresion\n",
        "  print( paste( semilla, Sys.time()) )\n",
        "  flush.console()\n",
        "\n",
        "  # particiono estratificadamente el dataset\n",
        "  particionar(dataset,\n",
        "    division = c(training_pct, 100L -training_pct),\n",
        "    agrupa = \"clase_ternaria\",\n",
        "    seed = semilla # aqui se usa SU semilla\n",
        "  )\n",
        "\n",
        "  # genero el modelo\n",
        "  # predecir clase_ternaria a partir del resto\n",
        "  modelo1 <- rpart(\"clase_ternaria ~ .\",\n",
        "    data = dataset[fold == 1], # fold==1  es training,  el 70% de los datos\n",
        "    xval = 0,\n",
        "    control = param_rpart1\n",
        "  ) # aqui van los parametros del arbol\n",
        "\n",
        "  # aplico el modelo a los datos de testing\n",
        "  prediccion1 <- predict(modelo1, # el modelo que genere recien\n",
        "    dataset[fold == 2], # fold==2  es testing, el 30% de los datos\n",
        "    type = \"prob\"\n",
        "  ) # type= \"prob\"  es que devuelva la probabilidad\n",
        "\n",
        "\n",
        "  # calculo la ganancia en testing  qu es fold==2\n",
        "  ganancia_test1 <- dataset[\n",
        "    fold == 2,\n",
        "    sum(ifelse(prediccion1[, \"BAJA+2\"] > 0.025,\n",
        "      ifelse(clase_ternaria == \"BAJA+2\", 117000, -3000),\n",
        "      0\n",
        "    ))\n",
        "  ]\n",
        "\n",
        "  # escalo la ganancia como si fuera todo el dataset\n",
        "  ganancia_test_normalizada1 <- ganancia_test1 / (( 100 - training_pct ) / 100 )\n",
        "\n",
        "  modelo2 <- rpart(\"clase_ternaria ~ .\",\n",
        "    data = dataset[fold == 1], # fold==1  es training,  el 70% de los datos\n",
        "    xval = 0,\n",
        "    control = param_rpart2\n",
        "  ) # aqui van los parametros del arbol\n",
        "\n",
        "  # aplico el modelo a los datos de testing\n",
        "  prediccion2 <- predict(modelo2, # el modelo que genere recien\n",
        "    dataset[fold == 2], # fold==2  es testing, el 30% de los datos\n",
        "    type = \"prob\"\n",
        "  ) # type= \"prob\"  es que devuelva la probabilidad\n",
        "\n",
        "\n",
        "  # calculo la ganancia en testing  qu es fold==2\n",
        "  ganancia_test2 <- dataset[\n",
        "    fold == 2,\n",
        "    sum(ifelse(prediccion2[, \"BAJA+2\"] > 0.025,\n",
        "      ifelse(clase_ternaria == \"BAJA+2\", 117000, -3000),\n",
        "      0\n",
        "    ))\n",
        "  ]\n",
        "\n",
        "  # escalo la ganancia como si fuera todo el dataset\n",
        "  ganancia_test_normalizada2 <- ganancia_test2 / (( 100 - training_pct ) / 100 )\n",
        "\n",
        "  return(list(\n",
        "    \"semilla\" = semilla,\n",
        "    \"ganancia1\" = ganancia_test_normalizada1,\n",
        "    \"ganancia2\" = ganancia_test_normalizada2\n",
        "  ))\n",
        "}"
      ],
      "metadata": {
        "id": "Bv_NorLhdsE1"
      },
      "execution_count": 21,
      "outputs": []
    },
    {
      "cell_type": "code",
      "source": [
        "# carpeta de trabajo\n",
        "setwd(\"/content/buckets/b1/exp\")\n",
        "experimento <- \"exp206\"\n",
        "# dir.create(experimento, showWarnings=FALSE)\n",
        "# setwd( paste0(\"/content/buckets/b1/exp/\", experimento ))"
      ],
      "metadata": {
        "id": "N9GarblIdsE3"
      },
      "execution_count": 22,
      "outputs": []
    },
    {
      "cell_type": "code",
      "source": [
        "# lectura del dataset\n",
        "dataset <- fread(\"/content/datasets/dataset_pequeno.csv\")\n",
        "\n",
        "# trabajo solo con los datos con clase, es decir 202107\n",
        "dataset <- dataset[clase_ternaria != \"\"]"
      ],
      "metadata": {
        "id": "Z05r3wdTdsE3"
      },
      "execution_count": 23,
      "outputs": []
    },
    {
      "cell_type": "code",
      "source": [
        "# genero numeros primos\n",
        "primos <- generate_primes(min = 100000, max = 1000000)\n",
        "set.seed(PARAM$semilla_primigenia) # inicializo\n",
        "\n",
        "# me quedo con PARAM$qsemillas   semillas\n",
        "PARAM$semillas <- sample(primos, PARAM$qsemillas )"
      ],
      "metadata": {
        "id": "m8ODrVrndsE4"
      },
      "execution_count": 24,
      "outputs": []
    },
    {
      "cell_type": "code",
      "source": [
        "# la funcion mcmapply  llama a la funcion DosArbolesEstimarGanancia\n",
        "#  tantas veces como valores tenga el vector  PARAM$semillas\n",
        "Sys.time()\n",
        "\n",
        "salidas <- mcmapply( DosArbolesEstimarGanancia,\n",
        "  PARAM$semillas, # paso el vector de semillas\n",
        "  MoreArgs = list(PARAM$training_pct, PARAM$rpart1, PARAM$rpart2), # aqui paso el segundo parametro\n",
        "  SIMPLIFY = FALSE,\n",
        "  mc.cores = detectCores()\n",
        ")\n",
        "\n",
        "Sys.time()"
      ],
      "metadata": {
        "id": "KQBhUXxJdsE5",
        "colab": {
          "base_uri": "https://localhost:8080/",
          "height": 52
        },
        "outputId": "3072138e-b9b0-4703-a8ad-dc5f1d22a0a3"
      },
      "execution_count": 25,
      "outputs": [
        {
          "data": {
            "text/plain": [
              "[1] \"2025-10-13 14:08:02 UTC\""
            ]
          },
          "metadata": {},
          "output_type": "display_data"
        },
        {
          "output_type": "display_data",
          "data": {
            "text/plain": [
              "[1] \"2025-10-13 15:31:40 UTC\""
            ]
          },
          "metadata": {}
        }
      ]
    },
    {
      "cell_type": "code",
      "source": [
        "# paso la lista a vector\n",
        "tb_salida <- rbindlist(salidas)\n",
        "tb_salida"
      ],
      "metadata": {
        "id": "N0eS1CFFdsE5",
        "colab": {
          "base_uri": "https://localhost:8080/",
          "height": 1000
        },
        "outputId": "b6fba319-7f5e-46df-e536-ba9a778475c3"
      },
      "execution_count": 26,
      "outputs": [
        {
          "output_type": "display_data",
          "data": {
            "text/html": [
              "<table class=\"dataframe\">\n",
              "<caption>A data.table: 50 × 3</caption>\n",
              "<thead>\n",
              "\t<tr><th scope=col>semilla</th><th scope=col>ganancia1</th><th scope=col>ganancia2</th></tr>\n",
              "\t<tr><th scope=col>&lt;int&gt;</th><th scope=col>&lt;dbl&gt;</th><th scope=col>&lt;dbl&gt;</th></tr>\n",
              "</thead>\n",
              "<tbody>\n",
              "\t<tr><td>735169</td><td>49870000</td><td>48800000</td></tr>\n",
              "\t<tr><td>388621</td><td>49410000</td><td>52620000</td></tr>\n",
              "\t<tr><td>671431</td><td>48520000</td><td>46670000</td></tr>\n",
              "\t<tr><td>341171</td><td>49850000</td><td>51050000</td></tr>\n",
              "\t<tr><td>451207</td><td>48230000</td><td>46340000</td></tr>\n",
              "\t<tr><td>324067</td><td>43000000</td><td>43300000</td></tr>\n",
              "\t<tr><td>635309</td><td>49870000</td><td>49360000</td></tr>\n",
              "\t<tr><td>564979</td><td>48070000</td><td>48510000</td></tr>\n",
              "\t<tr><td>971473</td><td>50870000</td><td>49070000</td></tr>\n",
              "\t<tr><td>934463</td><td>48670000</td><td>50630000</td></tr>\n",
              "\t<tr><td>181439</td><td>42010000</td><td>43870000</td></tr>\n",
              "\t<tr><td>447451</td><td>49570000</td><td>53010000</td></tr>\n",
              "\t<tr><td>742541</td><td>48270000</td><td>48950000</td></tr>\n",
              "\t<tr><td>872177</td><td>48510000</td><td>49790000</td></tr>\n",
              "\t<tr><td>315883</td><td>43530000</td><td>44950000</td></tr>\n",
              "\t<tr><td>343333</td><td>49600000</td><td>48940000</td></tr>\n",
              "\t<tr><td>863711</td><td>48530000</td><td>51470000</td></tr>\n",
              "\t<tr><td>605257</td><td>46340000</td><td>44350000</td></tr>\n",
              "\t<tr><td>117239</td><td>52300000</td><td>51470000</td></tr>\n",
              "\t<tr><td>708053</td><td>52980000</td><td>51640000</td></tr>\n",
              "\t<tr><td>124561</td><td>42470000</td><td>44220000</td></tr>\n",
              "\t<tr><td>696481</td><td>52220000</td><td>48270000</td></tr>\n",
              "\t<tr><td>580093</td><td>44820000</td><td>41540000</td></tr>\n",
              "\t<tr><td>575711</td><td>50900000</td><td>50190000</td></tr>\n",
              "\t<tr><td>763943</td><td>45640000</td><td>48780000</td></tr>\n",
              "\t<tr><td>373661</td><td>48360000</td><td>51600000</td></tr>\n",
              "\t<tr><td>235483</td><td>43400000</td><td>46170000</td></tr>\n",
              "\t<tr><td>220721</td><td>46660000</td><td>47160000</td></tr>\n",
              "\t<tr><td>734959</td><td>45010000</td><td>47130000</td></tr>\n",
              "\t<tr><td>945151</td><td>46910000</td><td>48580000</td></tr>\n",
              "\t<tr><td>521777</td><td>49610000</td><td>49550000</td></tr>\n",
              "\t<tr><td>308467</td><td>44160000</td><td>40030000</td></tr>\n",
              "\t<tr><td>948943</td><td>50640000</td><td>44500000</td></tr>\n",
              "\t<tr><td>926399</td><td>52670000</td><td>50620000</td></tr>\n",
              "\t<tr><td>212671</td><td>48550000</td><td>50160000</td></tr>\n",
              "\t<tr><td>256579</td><td>48600000</td><td>46030000</td></tr>\n",
              "\t<tr><td>434167</td><td>44680000</td><td>47720000</td></tr>\n",
              "\t<tr><td>187883</td><td>47970000</td><td>53260000</td></tr>\n",
              "\t<tr><td>104701</td><td>39100000</td><td>39390000</td></tr>\n",
              "\t<tr><td>633487</td><td>47910000</td><td>45720000</td></tr>\n",
              "\t<tr><td>462103</td><td>52630000</td><td>52000000</td></tr>\n",
              "\t<tr><td>241877</td><td>46250000</td><td>48850000</td></tr>\n",
              "\t<tr><td>852847</td><td>44640000</td><td>48140000</td></tr>\n",
              "\t<tr><td>362281</td><td>54240000</td><td>52700000</td></tr>\n",
              "\t<tr><td>592357</td><td>49020000</td><td>47020000</td></tr>\n",
              "\t<tr><td>273773</td><td>44530000</td><td>48480000</td></tr>\n",
              "\t<tr><td>728047</td><td>55690000</td><td>54330000</td></tr>\n",
              "\t<tr><td>647117</td><td>46490000</td><td>49820000</td></tr>\n",
              "\t<tr><td>185099</td><td>46280000</td><td>52970000</td></tr>\n",
              "\t<tr><td>790843</td><td>47150000</td><td>49920000</td></tr>\n",
              "</tbody>\n",
              "</table>\n"
            ],
            "text/markdown": "\nA data.table: 50 × 3\n\n| semilla &lt;int&gt; | ganancia1 &lt;dbl&gt; | ganancia2 &lt;dbl&gt; |\n|---|---|---|\n| 735169 | 49870000 | 48800000 |\n| 388621 | 49410000 | 52620000 |\n| 671431 | 48520000 | 46670000 |\n| 341171 | 49850000 | 51050000 |\n| 451207 | 48230000 | 46340000 |\n| 324067 | 43000000 | 43300000 |\n| 635309 | 49870000 | 49360000 |\n| 564979 | 48070000 | 48510000 |\n| 971473 | 50870000 | 49070000 |\n| 934463 | 48670000 | 50630000 |\n| 181439 | 42010000 | 43870000 |\n| 447451 | 49570000 | 53010000 |\n| 742541 | 48270000 | 48950000 |\n| 872177 | 48510000 | 49790000 |\n| 315883 | 43530000 | 44950000 |\n| 343333 | 49600000 | 48940000 |\n| 863711 | 48530000 | 51470000 |\n| 605257 | 46340000 | 44350000 |\n| 117239 | 52300000 | 51470000 |\n| 708053 | 52980000 | 51640000 |\n| 124561 | 42470000 | 44220000 |\n| 696481 | 52220000 | 48270000 |\n| 580093 | 44820000 | 41540000 |\n| 575711 | 50900000 | 50190000 |\n| 763943 | 45640000 | 48780000 |\n| 373661 | 48360000 | 51600000 |\n| 235483 | 43400000 | 46170000 |\n| 220721 | 46660000 | 47160000 |\n| 734959 | 45010000 | 47130000 |\n| 945151 | 46910000 | 48580000 |\n| 521777 | 49610000 | 49550000 |\n| 308467 | 44160000 | 40030000 |\n| 948943 | 50640000 | 44500000 |\n| 926399 | 52670000 | 50620000 |\n| 212671 | 48550000 | 50160000 |\n| 256579 | 48600000 | 46030000 |\n| 434167 | 44680000 | 47720000 |\n| 187883 | 47970000 | 53260000 |\n| 104701 | 39100000 | 39390000 |\n| 633487 | 47910000 | 45720000 |\n| 462103 | 52630000 | 52000000 |\n| 241877 | 46250000 | 48850000 |\n| 852847 | 44640000 | 48140000 |\n| 362281 | 54240000 | 52700000 |\n| 592357 | 49020000 | 47020000 |\n| 273773 | 44530000 | 48480000 |\n| 728047 | 55690000 | 54330000 |\n| 647117 | 46490000 | 49820000 |\n| 185099 | 46280000 | 52970000 |\n| 790843 | 47150000 | 49920000 |\n\n",
            "text/latex": "A data.table: 50 × 3\n\\begin{tabular}{lll}\n semilla & ganancia1 & ganancia2\\\\\n <int> & <dbl> & <dbl>\\\\\n\\hline\n\t 735169 & 49870000 & 48800000\\\\\n\t 388621 & 49410000 & 52620000\\\\\n\t 671431 & 48520000 & 46670000\\\\\n\t 341171 & 49850000 & 51050000\\\\\n\t 451207 & 48230000 & 46340000\\\\\n\t 324067 & 43000000 & 43300000\\\\\n\t 635309 & 49870000 & 49360000\\\\\n\t 564979 & 48070000 & 48510000\\\\\n\t 971473 & 50870000 & 49070000\\\\\n\t 934463 & 48670000 & 50630000\\\\\n\t 181439 & 42010000 & 43870000\\\\\n\t 447451 & 49570000 & 53010000\\\\\n\t 742541 & 48270000 & 48950000\\\\\n\t 872177 & 48510000 & 49790000\\\\\n\t 315883 & 43530000 & 44950000\\\\\n\t 343333 & 49600000 & 48940000\\\\\n\t 863711 & 48530000 & 51470000\\\\\n\t 605257 & 46340000 & 44350000\\\\\n\t 117239 & 52300000 & 51470000\\\\\n\t 708053 & 52980000 & 51640000\\\\\n\t 124561 & 42470000 & 44220000\\\\\n\t 696481 & 52220000 & 48270000\\\\\n\t 580093 & 44820000 & 41540000\\\\\n\t 575711 & 50900000 & 50190000\\\\\n\t 763943 & 45640000 & 48780000\\\\\n\t 373661 & 48360000 & 51600000\\\\\n\t 235483 & 43400000 & 46170000\\\\\n\t 220721 & 46660000 & 47160000\\\\\n\t 734959 & 45010000 & 47130000\\\\\n\t 945151 & 46910000 & 48580000\\\\\n\t 521777 & 49610000 & 49550000\\\\\n\t 308467 & 44160000 & 40030000\\\\\n\t 948943 & 50640000 & 44500000\\\\\n\t 926399 & 52670000 & 50620000\\\\\n\t 212671 & 48550000 & 50160000\\\\\n\t 256579 & 48600000 & 46030000\\\\\n\t 434167 & 44680000 & 47720000\\\\\n\t 187883 & 47970000 & 53260000\\\\\n\t 104701 & 39100000 & 39390000\\\\\n\t 633487 & 47910000 & 45720000\\\\\n\t 462103 & 52630000 & 52000000\\\\\n\t 241877 & 46250000 & 48850000\\\\\n\t 852847 & 44640000 & 48140000\\\\\n\t 362281 & 54240000 & 52700000\\\\\n\t 592357 & 49020000 & 47020000\\\\\n\t 273773 & 44530000 & 48480000\\\\\n\t 728047 & 55690000 & 54330000\\\\\n\t 647117 & 46490000 & 49820000\\\\\n\t 185099 & 46280000 & 52970000\\\\\n\t 790843 & 47150000 & 49920000\\\\\n\\end{tabular}\n",
            "text/plain": [
              "   semilla ganancia1 ganancia2\n",
              "1  735169  49870000  48800000 \n",
              "2  388621  49410000  52620000 \n",
              "3  671431  48520000  46670000 \n",
              "4  341171  49850000  51050000 \n",
              "5  451207  48230000  46340000 \n",
              "6  324067  43000000  43300000 \n",
              "7  635309  49870000  49360000 \n",
              "8  564979  48070000  48510000 \n",
              "9  971473  50870000  49070000 \n",
              "10 934463  48670000  50630000 \n",
              "11 181439  42010000  43870000 \n",
              "12 447451  49570000  53010000 \n",
              "13 742541  48270000  48950000 \n",
              "14 872177  48510000  49790000 \n",
              "15 315883  43530000  44950000 \n",
              "16 343333  49600000  48940000 \n",
              "17 863711  48530000  51470000 \n",
              "18 605257  46340000  44350000 \n",
              "19 117239  52300000  51470000 \n",
              "20 708053  52980000  51640000 \n",
              "21 124561  42470000  44220000 \n",
              "22 696481  52220000  48270000 \n",
              "23 580093  44820000  41540000 \n",
              "24 575711  50900000  50190000 \n",
              "25 763943  45640000  48780000 \n",
              "26 373661  48360000  51600000 \n",
              "27 235483  43400000  46170000 \n",
              "28 220721  46660000  47160000 \n",
              "29 734959  45010000  47130000 \n",
              "30 945151  46910000  48580000 \n",
              "31 521777  49610000  49550000 \n",
              "32 308467  44160000  40030000 \n",
              "33 948943  50640000  44500000 \n",
              "34 926399  52670000  50620000 \n",
              "35 212671  48550000  50160000 \n",
              "36 256579  48600000  46030000 \n",
              "37 434167  44680000  47720000 \n",
              "38 187883  47970000  53260000 \n",
              "39 104701  39100000  39390000 \n",
              "40 633487  47910000  45720000 \n",
              "41 462103  52630000  52000000 \n",
              "42 241877  46250000  48850000 \n",
              "43 852847  44640000  48140000 \n",
              "44 362281  54240000  52700000 \n",
              "45 592357  49020000  47020000 \n",
              "46 273773  44530000  48480000 \n",
              "47 728047  55690000  54330000 \n",
              "48 647117  46490000  49820000 \n",
              "49 185099  46280000  52970000 \n",
              "50 790843  47150000  49920000 "
            ]
          },
          "metadata": {}
        }
      ]
    },
    {
      "cell_type": "code",
      "source": [
        "grafico <- ggplot( tb_salida, aes(x=ganancia1), fill=\"green\", color=\"green\") + geom_density(alpha=0.25)  +\n",
        "             geom_density(data=tb_salida, aes(x=ganancia2), fill=\"purple\", color=\"purple\",  alpha=0.10)\n",
        "\n",
        "print(grafico)"
      ],
      "metadata": {
        "id": "6vf28ujAdsE6",
        "colab": {
          "base_uri": "https://localhost:8080/",
          "height": 541
        },
        "outputId": "a138542f-c3e5-46d0-90f5-becd0d37a022"
      },
      "execution_count": 27,
      "outputs": [
        {
          "output_type": "stream",
          "name": "stderr",
          "text": [
            "Warning message in fortify(data, ...):\n",
            "“\u001b[1m\u001b[22mArguments in `...` must be used.\n",
            "\u001b[31m✖\u001b[39m Problematic arguments:\n",
            "\u001b[36m•\u001b[39m fill = \"green\"\n",
            "\u001b[36m•\u001b[39m color = \"green\"\n",
            "\u001b[36mℹ\u001b[39m Did you misspell an argument name?”\n"
          ]
        },
        {
          "output_type": "display_data",
          "data": {
            "text/plain": [
              "plot without title"
            ],
            "image/png": "[encoded data removed]"
          },
          "metadata": {
            "image/png": {
              "width": 420,
              "height": 420
            }
          }
        }
      ]
    },
    {
      "cell_type": "code",
      "source": [
        "# imprimo en un .pdf  que va a la carpeta del experimento\n",
        "pdf(\"densidad_dos.pdf\")\n",
        "print(grafico)\n",
        "dev.off()"
      ],
      "metadata": {
        "id": "TA9lLa6-dsE6",
        "colab": {
          "base_uri": "https://localhost:8080/",
          "height": 34
        },
        "outputId": "3ce52b14-2012-4310-e5d5-45d4640e9422"
      },
      "execution_count": 28,
      "outputs": [
        {
          "output_type": "display_data",
          "data": {
            "text/html": [
              "<strong>agg_record_4738744:</strong> 2"
            ],
            "text/markdown": "**agg_record_4738744:** 2",
            "text/latex": "\\textbf{agg\\textbackslash{}\\_record\\textbackslash{}\\_4738744:} 2",
            "text/plain": [
              "agg_record_4738744 \n",
              "                 2 "
            ]
          },
          "metadata": {}
        }
      ]
    },
    {
      "cell_type": "code",
      "source": [
        "# medias de las ganancias\n",
        "print( tb_salida[ , list( \"arbol1\" = mean( ganancia1),  \"arbol2\" = mean(ganancia2) ) ] )\n"
      ],
      "metadata": {
        "id": "xAOpyZTqdsE7",
        "colab": {
          "base_uri": "https://localhost:8080/"
        },
        "outputId": "420f070b-e108-4c8a-cee8-588f31a46bab"
      },
      "execution_count": 29,
      "outputs": [
        {
          "output_type": "stream",
          "name": "stdout",
          "text": [
            "     arbol1   arbol2\n",
            "      <num>    <num>\n",
            "1: 47904000 48392800\n"
          ]
        }
      ]
    },
    {
      "cell_type": "code",
      "source": [
        "# probabilidad que m1 sea mayor a m2\n",
        "print( tb_salida[ , list( \"prob( m1 > m2)\" = sum(ganancia1 > ganancia2 )/ .N ) ]  )"
      ],
      "metadata": {
        "id": "8rdPIcfzgob7",
        "colab": {
          "base_uri": "https://localhost:8080/"
        },
        "outputId": "c882d78e-3a3b-42cc-c0c1-b59eb3e87e9a"
      },
      "execution_count": 30,
      "outputs": [
        {
          "output_type": "stream",
          "name": "stdout",
          "text": [
            "   prob( m1 > m2)\n",
            "            <num>\n",
            "1:           0.44\n"
          ]
        }
      ]
    },
    {
      "cell_type": "markdown",
      "source": [
        "### Acciones a realizar\n",
        "* Reportar la  los resultados en la planilla colaborativa hoja  **C2-dosBuenos**\n"
      ],
      "metadata": {
        "id": "nNNJWYRadsE7"
      }
    },
    {
      "cell_type": "markdown",
      "source": [
        "\n",
        "\n",
        "---\n",
        "\n"
      ],
      "metadata": {
        "id": "LTBEq6SEdsE8"
      }
    },
    {
      "cell_type": "markdown",
      "source": [],
      "metadata": {
        "id": "ebcTZX7Sg1Le"
      }
    },
    {
      "cell_type": "markdown",
      "source": [
        "# 8 Test de Wilcoxon\n",
        "## Clase 02  Experimento 8"
      ],
      "metadata": {
        "id": "RAtn4x6Bg1u1"
      }
    },
    {
      "cell_type": "markdown",
      "source": [],
      "metadata": {
        "id": "RWxjnSsVg_ol"
      }
    },
    {
      "cell_type": "markdown",
      "source": [
        "## 8.1  Objetivos\n",
        "\n",
        "¿Como calcular la cantidad mínima de semillas que hacen falta para tener cierta certeza que un modelo es superior a otro?"
      ],
      "metadata": {
        "id": "Gf0LF3ywhAEU"
      }
    },
    {
      "cell_type": "markdown",
      "source": [
        "## 8.2  Introduccion\n",
        "\n",
        "| Hiperparámetro | Arbol 1 | Arbol 2 |\n",
        "| --- | --: |  ---: |\n",
        "| cp | -1 | -1 |\n",
        "|minsplit | 170 | 250 |\n",
        "|minbucket | 70 | 125 |\n",
        "|maxdepth | 7 | 20 |\n",
        "\n",
        "<br>\n",
        "<br>\n",
        "\n",
        "\n",
        "| ordinal | semilla | ganancia1 | ganancia2 | p-value |\n",
        "| --- | --- |  --- |  --- |  --- |\n",
        "| 1 |378821 | 41,470,000 | 37,790,000 | 1.000 |\n",
        "| 2 | 964333  | 48,480,000  | 43,660,000 | 0.500 |\n",
        "| 3 | 187049 | 50,610,000 | 47,840,000 | 0.250 |\n",
        "| 4 | 205151 | 45,580,000 | 44,490,000 | 0.125 |\n",
        "| 5 | 813697 | 52,780,000 | 46,750,000 |  0.063 |\n",
        "| 6 | 344719 | 49,970,000 | 44,300,000 | 0.031 |\n",
        "|7 |127217  |52,810,000 | 42,840,000 |0.016 |\n",
        "| 8 | 464371 | 43,060,000 | 37,300,000 | 0.008 |\n",
        "| 9 | 645137 | 49,660,000 |43,730,000 | 0.004|\n",
        "\n",
        "\n"
      ],
      "metadata": {
        "id": "k4PJGTDViZne"
      }
    },
    {
      "cell_type": "markdown",
      "source": [
        "## 8.3 Codigo Test de Wilcoxon"
      ],
      "metadata": {
        "id": "gAeSRdWRhg61"
      }
    },
    {
      "cell_type": "code",
      "source": [
        "# 1 sola ganancia\n",
        "wilcox.test(\n",
        "  c(41470000),\n",
        "  c(37790000),\n",
        "  paired = TRUE\n",
        ")\n"
      ],
      "metadata": {
        "id": "6r5M0J0HdsE8"
      },
      "execution_count": null,
      "outputs": []
    },
    {
      "cell_type": "code",
      "source": [
        "# 2 ganancias\n",
        "wilcox.test(\n",
        "  c(41470000, 48480000),\n",
        "  c(37790000, 43660000),\n",
        "  paired = TRUE\n",
        ")\n"
      ],
      "metadata": {
        "id": "1pscqL9vLzYE"
      },
      "execution_count": null,
      "outputs": []
    },
    {
      "cell_type": "code",
      "source": [
        "# 3 ganancias\n",
        "wilcox.test(\n",
        "  c(41470000, 48480000, 50610000),\n",
        "  c(37790000, 43660000, 47840000),\n",
        "  paired = TRUE\n",
        ")"
      ],
      "metadata": {
        "id": "p3f_mtKwhSHA"
      },
      "execution_count": null,
      "outputs": []
    },
    {
      "cell_type": "code",
      "source": [
        "# 4 ganancias\n",
        "wilcox.test(\n",
        "  c(41470000, 48480000, 50610000, 45580000),\n",
        "  c(37790000, 43660000, 47840000, 44490000),\n",
        "  paired = TRUE\n",
        ")\n"
      ],
      "metadata": {
        "id": "-ijX69r9hT6Z"
      },
      "execution_count": null,
      "outputs": []
    },
    {
      "cell_type": "code",
      "source": [
        "# 5 ganancias\n",
        "wilcox.test(\n",
        "  c(41470000, 48480000, 50610000, 45580000, 52780000),\n",
        "  c(37790000, 43660000, 47840000, 44490000, 46750000),\n",
        "  paired = TRUE\n",
        ")"
      ],
      "metadata": {
        "id": "X9J_CHGehVfr"
      },
      "execution_count": null,
      "outputs": []
    },
    {
      "cell_type": "code",
      "source": [
        "# 6 ganancias\n",
        "wilcox.test(\n",
        "  c(41470000, 48480000, 50610000, 45580000, 52780000, 49970000),\n",
        "  c(37790000, 43660000, 47840000, 44490000, 46750000, 44300000),\n",
        "  paired = TRUE\n",
        ")"
      ],
      "metadata": {
        "id": "H3CNNonOhXp0"
      },
      "execution_count": null,
      "outputs": []
    },
    {
      "cell_type": "code",
      "source": [
        "# Finalmente el p-value es  0.03125  < 0.05\n",
        "# hicieron falta  SEIS semillas, seis ganancias, para\n",
        "#   afirmar que el modelo 1 es superior al modelo 2\n",
        "\n",
        "# 7 ganancias\n",
        "wilcox.test(\n",
        "  c(41470000, 48480000, 50610000, 45580000, 52780000, 49970000, 52810000),\n",
        "  c(37790000, 43660000, 47840000, 44490000, 46750000, 44300000, 42840000),\n",
        "  paired = TRUE\n",
        ")\n"
      ],
      "metadata": {
        "id": "NTW8kwY8hamz"
      },
      "execution_count": null,
      "outputs": []
    },
    {
      "cell_type": "code",
      "source": [
        "# 8 ganancias\n",
        "wilcox.test(\n",
        "  c(41470000, 48480000, 50610000, 45580000, 52780000, 49970000, 52810000, 43060000),\n",
        "  c(37790000, 43660000, 47840000, 44490000, 46750000, 44300000, 42840000, 37300000),\n",
        "  paired = TRUE\n",
        ")\n"
      ],
      "metadata": {
        "id": "Xks918w8hcgC"
      },
      "execution_count": null,
      "outputs": []
    },
    {
      "cell_type": "code",
      "source": [
        "# 9 ganancias\n",
        "wilcox.test(\n",
        "  c(41470000, 48480000, 50610000, 45580000, 52780000, 49970000, 52810000, 43060000, 49660000),\n",
        "  c(37790000, 43660000, 47840000, 44490000, 46750000, 44300000, 42840000, 37300000, 43730000),\n",
        "  paired = TRUE\n",
        ")"
      ],
      "metadata": {
        "id": "5x8L1PMGhdJR"
      },
      "execution_count": null,
      "outputs": []
    },
    {
      "cell_type": "markdown",
      "source": [
        "\n",
        "\n",
        "---\n",
        "\n"
      ],
      "metadata": {
        "id": "Qjay2WBIkhNm"
      }
    },
    {
      "cell_type": "markdown",
      "source": [
        "# 9 Comparando automaticamente modelos con test de Wilcoxon\n",
        "## Clase 02  Experimento 9"
      ],
      "metadata": {
        "id": "g2aqxlCIk3fk"
      }
    },
    {
      "cell_type": "markdown",
      "source": [],
      "metadata": {
        "id": "FhCY4sH8k3fw"
      }
    },
    {
      "cell_type": "markdown",
      "source": [
        "## 9.1  Objetivos\n",
        "\n",
        "Proveer un script que permita comparar dos arboles de decisión con la librería rpart utilizando la menor cantidad de cómputo que permita el Test de Wilxcoxon"
      ],
      "metadata": {
        "id": "a_ZVBKBHk3fx"
      }
    },
    {
      "cell_type": "markdown",
      "source": [
        "## 9.2  Introduccion\n",
        "\n",
        "| Hiperparámetro | Arbol 1 | Arbol 2 |\n",
        "| --- | --- |  --- |\n",
        "| cp | -1 | -1 |\n",
        "|minsplit | 1050 | 650 |\n",
        "|minbucket | 550 | 300 |\n",
        "|maxdepth |67 | 6 |\n",
        "\n",
        "\n"
      ],
      "metadata": {
        "id": "qCd56L0Ik3fx"
      }
    },
    {
      "cell_type": "markdown",
      "source": [
        "## 9.3 Codigo comparacion automatica Wilcoxon"
      ],
      "metadata": {
        "id": "NBtQsG3vk3fx"
      }
    },
    {
      "cell_type": "markdown",
      "source": [
        "Esta parte se debe correr con el runtime en lenguaje **R** Ir al menu, Runtime -> Change Runtime Tipe -> Runtime type -> R"
      ],
      "metadata": {
        "id": "-ARzDPORlpG6"
      }
    },
    {
      "cell_type": "markdown",
      "source": [
        "limpio el ambiente de R"
      ],
      "metadata": {
        "id": "-Sy-sLMXlpHI"
      }
    },
    {
      "cell_type": "code",
      "source": [
        "# limpio la memoria\n",
        "rm(list=ls(all.names=TRUE)) # remove all objects\n",
        "gc(full=TRUE, verbose=FALSE) # garbage collection"
      ],
      "metadata": {
        "id": "ZpST7lcHlpHI"
      },
      "execution_count": null,
      "outputs": []
    },
    {
      "cell_type": "markdown",
      "source": [
        "* Instalacion de la libreria  rpart.plot  para dibujar el arbol\n",
        "* invocacion de las librerias  **data.table** y  **rpart**"
      ],
      "metadata": {
        "id": "jHhAx3cvlpHJ"
      }
    },
    {
      "cell_type": "code",
      "source": [
        "# cargo las librerias que necesito\n",
        "require(\"data.table\")\n",
        "require(\"rpart\")\n",
        "require(\"parallel\")\n",
        "\n",
        "if (!require(\"primes\")) install.packages(\"primes\")\n",
        "require(\"primes\")\n",
        "\n",
        "require(\"ggplot2\")"
      ],
      "metadata": {
        "id": "cbPnXeeqlpHJ"
      },
      "execution_count": null,
      "outputs": []
    },
    {
      "cell_type": "markdown",
      "source": [
        "###  Accion a Realizar\n",
        "PARAM$semilla_primigenia  debe reemplazarse por SU primer semilla"
      ],
      "metadata": {
        "id": "_GQk_NEUlpHK"
      }
    },
    {
      "cell_type": "code",
      "source": [
        "PARAM <- list()\n",
        "PARAM$semilla_primigenia <- 102191\n",
        "PARAM$qsemillas_tope <- 50\n",
        "PARAM$training_pct <- 70L     # entre 1 y 100\n"
      ],
      "metadata": {
        "id": "Do801PIHlpHK"
      },
      "execution_count": null,
      "outputs": []
    },
    {
      "cell_type": "code",
      "source": [
        "# los dos arboles\n",
        "PARAM$rpart1 <- list (\n",
        "  \"cp\" = -1,\n",
        "  \"minsplit\" = 800,\n",
        "  \"minbucket\" = 400,\n",
        "  \"maxdepth\" = 7\n",
        ")\n",
        "\n",
        "\n",
        "PARAM$rpart2 <- list (\n",
        "  \"cp\" = -1,\n",
        "  \"minsplit\" = 650,\n",
        "  \"minbucket\" = 300,\n",
        "  \"maxdepth\" = 6\n",
        ")\n"
      ],
      "metadata": {
        "id": "KlC7gTc7lpHK"
      },
      "execution_count": null,
      "outputs": []
    },
    {
      "cell_type": "code",
      "source": [
        "# particionar agrega una columna llamada fold a un dataset\n",
        "#  que consiste en una particion estratificada segun agrupa\n",
        "\n",
        "# particionar( data=dataset, division=c(70,30),\n",
        "#  agrupa=clase_ternaria, seed=semilla)   crea una particion 70, 30\n",
        "\n",
        "particionar <- function(\n",
        "    data, division, agrupa = \"\",\n",
        "    campo = \"fold\", start = 1, seed = NA) {\n",
        "  if (!is.na(seed)) set.seed(seed)\n",
        "\n",
        "  bloque <- unlist(mapply(function(x, y) {\n",
        "    rep(y, x)\n",
        "  }, division, seq(from = start, length.out = length(division))))\n",
        "\n",
        "  data[, (campo) := sample(rep(bloque, ceiling(.N / length(bloque))))[1:.N],\n",
        "    by = agrupa\n",
        "  ]\n",
        "}\n"
      ],
      "metadata": {
        "id": "I7hOkZrxlpHL"
      },
      "execution_count": null,
      "outputs": []
    },
    {
      "cell_type": "code",
      "source": [
        "DosArbolesEstimarGanancia <- function(semilla, training_pct, param_rpart1, param_rpart2) {\n",
        "  # particiono estratificadamente el dataset\n",
        "  particionar(dataset,\n",
        "    division = c(training_pct, 100L -training_pct),\n",
        "    agrupa = \"clase_ternaria\",\n",
        "    seed = semilla # aqui se usa SU semilla\n",
        "  )\n",
        "\n",
        "  # genero el modelo\n",
        "  # predecir clase_ternaria a partir del resto\n",
        "  modelo1 <- rpart(\"clase_ternaria ~ .\",\n",
        "    data = dataset[fold == 1], # fold==1  es training,  el 70% de los datos\n",
        "    xval = 0,\n",
        "    control = param_rpart1\n",
        "  ) # aqui van los parametros del arbol\n",
        "\n",
        "  # aplico el modelo a los datos de testing\n",
        "  prediccion1 <- predict(modelo1, # el modelo que genere recien\n",
        "    dataset[fold == 2], # fold==2  es testing, el 30% de los datos\n",
        "    type = \"prob\"\n",
        "  ) # type= \"prob\"  es que devuelva la probabilidad\n",
        "\n",
        "\n",
        "  # calculo la ganancia en testing  qu es fold==2\n",
        "  ganancia_test1 <- dataset[\n",
        "    fold == 2,\n",
        "    sum(ifelse(prediccion1[, \"BAJA+2\"] > 0.025,\n",
        "      ifelse(clase_ternaria == \"BAJA+2\", 117000, -3000),\n",
        "      0\n",
        "    ))\n",
        "  ]\n",
        "\n",
        "  # escalo la ganancia como si fuera todo el dataset\n",
        "  ganancia_test_normalizada1 <- ganancia_test1 / (( 100 - training_pct ) / 100 )\n",
        "\n",
        "  modelo2 <- rpart(\"clase_ternaria ~ .\",\n",
        "    data = dataset[fold == 1], # fold==1  es training,  el 70% de los datos\n",
        "    xval = 0,\n",
        "    control = param_rpart2\n",
        "  ) # aqui van los parametros del arbol\n",
        "\n",
        "  # aplico el modelo a los datos de testing\n",
        "  prediccion2 <- predict(modelo2, # el modelo que genere recien\n",
        "    dataset[fold == 2], # fold==2  es testing, el 30% de los datos\n",
        "    type = \"prob\"\n",
        "  ) # type= \"prob\"  es que devuelva la probabilidad\n",
        "\n",
        "\n",
        "  # calculo la ganancia en testing  qu es fold==2\n",
        "  ganancia_test2 <- dataset[\n",
        "    fold == 2,\n",
        "    sum(ifelse(prediccion2[, \"BAJA+2\"] > 0.025,\n",
        "      ifelse(clase_ternaria == \"BAJA+2\", 117000, -3000),\n",
        "      0\n",
        "    ))\n",
        "  ]\n",
        "\n",
        "  # escalo la ganancia como si fuera todo el dataset\n",
        "  ganancia_test_normalizada2 <- ganancia_test2 / (( 100 - training_pct ) / 100 )\n",
        "\n",
        "  return(list(\n",
        "    \"semilla\" = semilla,\n",
        "    \"ganancia1\" = ganancia_test_normalizada1,\n",
        "    \"ganancia2\" = ganancia_test_normalizada2\n",
        "  ))\n",
        "}"
      ],
      "metadata": {
        "id": "vFpBSFBYlpHL"
      },
      "execution_count": null,
      "outputs": []
    },
    {
      "cell_type": "code",
      "source": [
        "# 1  ->  el modelo 1 es mejor\n",
        "# 2  ->  el modelo 2 es mejor\n",
        "# 0  ->  No se pudo determinar con el tope de qsemillas_tope\n",
        "\n",
        "\n",
        "MejorArbol <- function( qsemillas_tope, training_pct, param_rpart1, param_rpart2) {\n",
        "\n",
        "  # genero numeros primos\n",
        "  primos <- generate_primes(min = 100000, max = 1000000)\n",
        "  set.seed(PARAM$semilla_primigenia) # inicializo\n",
        "  # me quedo con PARAM$qsemillas   semillas\n",
        "  semillas <- sample(primos, qsemillas_tope )\n",
        "\n",
        "  pvalue <- 1.0\n",
        "  isem <- 1\n",
        "  vgan1 <- c() # almaceno ganancias del modelo1\n",
        "  vgan2 <- c() # almaceno ganancias del modelo2\n",
        "\n",
        "  while( (isem <= qsemillas_tope)  & (pvalue > 0.05) ) {\n",
        "\n",
        "    res <- DosArbolesEstimarGanancia(\n",
        "       semillas[ isem ],\n",
        "       training_pct,\n",
        "       param_rpart1,\n",
        "       param_rpart2\n",
        "    )\n",
        "\n",
        "    vgan1 <- c( vgan1, res$ganancia1 )\n",
        "    vgan2 <- c( vgan2, res$ganancia2 )\n",
        "\n",
        "    wt <- wilcox.test( vgan1, vgan2, paired=TRUE )\n",
        "    pvalue <- wt$p.value\n",
        "\n",
        "    cat( isem, res$ganancia1, res$ganancia2, pvalue, \"\\n\" )\n",
        "    flush.console()\n",
        "    isem <- isem + 1\n",
        "  }\n",
        "\n",
        "  out <- 0\n",
        "\n",
        "  if( pvalue < 0.05 & mean(vgan1) > mean(vgan2)  )  out <- 1\n",
        "  if( pvalue < 0.05 & mean(vgan1) < mean(vgan2)  )  out <- 2\n",
        "\n",
        "\n",
        "  return( list( \"out\" = out,\n",
        "    \"qsemillas\" = length(vgan1),\n",
        "    \"m1\" = mean( vgan1 ),\n",
        "    \"m2\" = mean( vgan2 )\n",
        "   ) )\n",
        "}\n"
      ],
      "metadata": {
        "id": "Cp8RnA_NmE8g"
      },
      "execution_count": null,
      "outputs": []
    },
    {
      "cell_type": "code",
      "source": [
        "# carpeta de trabajo\n",
        "setwd(\"/content/buckets/b1/exp\")\n",
        "experimento <- \"exp209\"\n",
        "dir.create(experimento, showWarnings=FALSE)\n",
        "setwd( paste0(\"/content/buckets/b1/exp/\", experimento ))"
      ],
      "metadata": {
        "id": "r1motpfOlpHM"
      },
      "execution_count": null,
      "outputs": []
    },
    {
      "cell_type": "code",
      "source": [
        "# lectura del dataset\n",
        "dataset <- fread(\"/content/datasets/dataset_pequeno.csv\")\n",
        "\n",
        "# trabajo solo con los datos con clase, es decir 202107\n",
        "dataset <- dataset[clase_ternaria != \"\"]"
      ],
      "metadata": {
        "id": "hT0LaKWumTSu"
      },
      "execution_count": null,
      "outputs": []
    },
    {
      "cell_type": "code",
      "source": [
        "Sys.time()\n",
        "\n",
        "comparacion <- MejorArbol(\n",
        "   PARAM$qsemillas_tope,\n",
        "   PARAM$training_pct,\n",
        "   PARAM$rpart1,\n",
        "   PARAM$rpart2\n",
        " )\n",
        "\n",
        "\n",
        "print( comparacion )\n",
        "\n",
        "Sys.time()"
      ],
      "metadata": {
        "id": "wsk0F77ambVW"
      },
      "execution_count": null,
      "outputs": []
    },
    {
      "cell_type": "markdown",
      "source": [
        "### Acciones a realizar\n",
        "* Reportar la  los resultados en la planilla colaborativa hoja  **C2-Wilcox**\n"
      ],
      "metadata": {
        "id": "d2br1bgJlpHQ"
      }
    },
    {
      "cell_type": "markdown",
      "source": [
        "\n",
        "\n",
        "---\n",
        "\n"
      ],
      "metadata": {
        "id": "x7SebtV2lpHQ"
      }
    }
  ]
}